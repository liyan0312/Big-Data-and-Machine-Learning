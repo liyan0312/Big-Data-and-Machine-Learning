{
 "cells": [
  {
   "cell_type": "code",
   "execution_count": 1,
   "id": "db0bfef0",
   "metadata": {},
   "outputs": [
    {
     "name": "stderr",
     "output_type": "stream",
     "text": [
      "WARNING: An illegal reflective access operation has occurred\n",
      "WARNING: Illegal reflective access by org.apache.spark.unsafe.Platform (file:/home/ubuntu/.local/lib/python3.10/site-packages/pyspark/jars/spark-unsafe_2.12-3.2.1.jar) to constructor java.nio.DirectByteBuffer(long,int)\n",
      "WARNING: Please consider reporting this to the maintainers of org.apache.spark.unsafe.Platform\n",
      "WARNING: Use --illegal-access=warn to enable warnings of further illegal reflective access operations\n",
      "WARNING: All illegal access operations will be denied in a future release\n",
      "Using Spark's default log4j profile: org/apache/spark/log4j-defaults.properties\n",
      "Setting default log level to \"WARN\".\n",
      "To adjust logging level use sc.setLogLevel(newLevel). For SparkR, use setLogLevel(newLevel).\n",
      "23/10/03 23:22:25 WARN NativeCodeLoader: Unable to load native-hadoop library for your platform... using builtin-java classes where applicable\n",
      "                                                                                \r"
     ]
    },
    {
     "name": "stdout",
     "output_type": "stream",
     "text": [
      "+---------+-----------------+------------+------+---------------+---------------+--------------+---------------+-------------+--------------+------------------------+----------------------+---------------------+------------+-------------------+---------------+--------------------+---------------+--------------+-------------------+---------------------+----------------------------------------------------------------------------------------------------------------------------------+----------------------------------------------------------------------------------------------------------------------------------+\n",
      "|CLIENTNUM|Attrition_Flag   |Customer_Age|Gender|Dependent_count|Education_Level|Marital_Status|Income_Category|Card_Category|Months_on_book|Total_Relationship_Count|Months_Inactive_12_mon|Contacts_Count_12_mon|Credit_Limit|Total_Revolving_Bal|Avg_Open_To_Buy|Total_Amt_Chng_Q4_Q1|Total_Trans_Amt|Total_Trans_Ct|Total_Ct_Chng_Q4_Q1|Avg_Utilization_Ratio|Naive_Bayes_Classifier_Attrition_Flag_Card_Category_Contacts_Count_12_mon_Dependent_count_Education_Level_Months_Inactive_12_mon_1|Naive_Bayes_Classifier_Attrition_Flag_Card_Category_Contacts_Count_12_mon_Dependent_count_Education_Level_Months_Inactive_12_mon_2|\n",
      "+---------+-----------------+------------+------+---------------+---------------+--------------+---------------+-------------+--------------+------------------------+----------------------+---------------------+------------+-------------------+---------------+--------------------+---------------+--------------+-------------------+---------------------+----------------------------------------------------------------------------------------------------------------------------------+----------------------------------------------------------------------------------------------------------------------------------+\n",
      "|768805383|Existing Customer|45          |M     |3              |High School    |Married       |$60K - $80K    |Blue         |39            |5                       |1                     |3                    |12691.0     |777                |11914.0        |1.335               |1144           |42            |1.625              |0.061                |9.34E-5                                                                                                                           |0.99991                                                                                                                           |\n",
      "|818770008|Existing Customer|49          |F     |5              |Graduate       |Single        |Less than $40K |Blue         |44            |6                       |1                     |2                    |8256.0      |864                |7392.0         |1.541               |1291           |33            |3.714              |0.105                |5.69E-5                                                                                                                           |0.99994                                                                                                                           |\n",
      "|713982108|Existing Customer|51          |M     |3              |Graduate       |Married       |$80K - $120K   |Blue         |36            |4                       |1                     |0                    |3418.0      |0                  |3418.0         |2.594               |1887           |20            |2.333              |0.0                  |2.11E-5                                                                                                                           |0.99998                                                                                                                           |\n",
      "|769911858|Existing Customer|40          |F     |4              |High School    |Unknown       |Less than $40K |Blue         |34            |3                       |4                     |1                    |3313.0      |2517               |796.0          |1.405               |1171           |20            |2.333              |0.76                 |1.3366E-4                                                                                                                         |0.99987                                                                                                                           |\n",
      "|709106358|Existing Customer|40          |M     |3              |Uneducated     |Married       |$60K - $80K    |Blue         |21            |5                       |1                     |0                    |4716.0      |0                  |4716.0         |2.175               |816            |28            |2.5                |0.0                  |2.17E-5                                                                                                                           |0.99998                                                                                                                           |\n",
      "|713061558|Existing Customer|44          |M     |2              |Graduate       |Married       |$40K - $60K    |Blue         |36            |3                       |1                     |2                    |4010.0      |1247               |2763.0         |1.376               |1088           |24            |0.846              |0.311                |5.51E-5                                                                                                                           |0.99994                                                                                                                           |\n",
      "|810347208|Existing Customer|51          |M     |4              |Unknown        |Married       |$120K +        |Gold         |46            |6                       |1                     |3                    |34516.0     |2264               |32252.0        |1.975               |1330           |31            |0.722              |0.066                |1.2303E-4                                                                                                                         |0.99988                                                                                                                           |\n",
      "|818906208|Existing Customer|32          |M     |0              |High School    |Unknown       |$60K - $80K    |Silver       |27            |2                       |2                     |2                    |29081.0     |1396               |27685.0        |2.204               |1538           |36            |0.714              |0.048                |8.58E-5                                                                                                                           |0.99991                                                                                                                           |\n",
      "|710930508|Existing Customer|37          |M     |3              |Uneducated     |Single        |$60K - $80K    |Blue         |36            |5                       |2                     |0                    |22352.0     |2517               |19835.0        |3.355               |1350           |24            |1.182              |0.113                |4.48E-5                                                                                                                           |0.99996                                                                                                                           |\n",
      "|719661558|Existing Customer|48          |M     |2              |Graduate       |Single        |$80K - $120K   |Blue         |36            |6                       |3                     |3                    |11656.0     |1677               |9979.0         |1.524               |1441           |32            |0.882              |0.144                |3.0251E-4                                                                                                                         |0.9997                                                                                                                            |\n",
      "|708790833|Existing Customer|42          |M     |5              |Uneducated     |Unknown       |$120K +        |Blue         |31            |5                       |3                     |2                    |6748.0      |1467               |5281.0         |0.831               |1201           |42            |0.68               |0.217                |1.9094E-4                                                                                                                         |0.99981                                                                                                                           |\n",
      "|710821833|Existing Customer|65          |M     |1              |Unknown        |Married       |$40K - $60K    |Blue         |54            |6                       |2                     |3                    |9095.0      |1587               |7508.0         |1.433               |1314           |26            |1.364              |0.174                |1.9751E-4                                                                                                                         |0.9998                                                                                                                            |\n",
      "|710599683|Existing Customer|56          |M     |1              |College        |Single        |$80K - $120K   |Blue         |36            |3                       |6                     |0                    |11751.0     |0                  |11751.0        |3.397               |1539           |17            |3.25               |0.0                  |4.78E-5                                                                                                                           |0.99995                                                                                                                           |\n",
      "|816082233|Existing Customer|35          |M     |3              |Graduate       |Unknown       |$60K - $80K    |Blue         |30            |5                       |1                     |3                    |8547.0      |1666               |6881.0         |1.163               |1311           |33            |2.0                |0.195                |9.61E-5                                                                                                                           |0.9999                                                                                                                            |\n",
      "|712396908|Existing Customer|57          |F     |2              |Graduate       |Married       |Less than $40K |Blue         |48            |5                       |2                     |2                    |2436.0      |680                |1756.0         |1.19                |1570           |29            |0.611              |0.279                |1.1382E-4                                                                                                                         |0.99989                                                                                                                           |\n",
      "|714885258|Existing Customer|44          |M     |4              |Unknown        |Unknown       |$80K - $120K   |Blue         |37            |5                       |1                     |2                    |4234.0      |972                |3262.0         |1.707               |1348           |27            |1.7                |0.23                 |6.35E-5                                                                                                                           |0.99994                                                                                                                           |\n",
      "|709967358|Existing Customer|48          |M     |4              |Post-Graduate  |Single        |$80K - $120K   |Blue         |36            |6                       |2                     |3                    |30367.0     |2362               |28005.0        |1.708               |1671           |27            |0.929              |0.078                |2.3623E-4                                                                                                                         |0.99976                                                                                                                           |\n",
      "|753327333|Existing Customer|41          |M     |3              |Unknown        |Married       |$80K - $120K   |Blue         |34            |4                       |4                     |1                    |13535.0     |1291               |12244.0        |0.653               |1028           |21            |1.625              |0.095                |1.4953E-4                                                                                                                         |0.99985                                                                                                                           |\n",
      "|806160108|Existing Customer|61          |M     |1              |High School    |Married       |$40K - $60K    |Blue         |56            |2                       |2                     |3                    |3193.0      |2517               |676.0          |1.831               |1336           |30            |1.143              |0.788                |1.7468E-4                                                                                                                         |0.99983                                                                                                                           |\n",
      "|709327383|Existing Customer|45          |F     |2              |Graduate       |Married       |Unknown        |Blue         |37            |6                       |1                     |2                    |14470.0     |1157               |13313.0        |0.966               |1207           |21            |0.909              |0.08                 |5.51E-5                                                                                                                           |0.99994                                                                                                                           |\n",
      "+---------+-----------------+------------+------+---------------+---------------+--------------+---------------+-------------+--------------+------------------------+----------------------+---------------------+------------+-------------------+---------------+--------------------+---------------+--------------+-------------------+---------------------+----------------------------------------------------------------------------------------------------------------------------------+----------------------------------------------------------------------------------------------------------------------------------+\n",
      "only showing top 20 rows\n",
      "\n"
     ]
    }
   ],
   "source": [
    "from pyspark.sql import SparkSession\n",
    "from pyspark.sql.functions import col\n",
    "\n",
    "spark = SparkSession.builder.appName(\"CSVImportExample\").getOrCreate()\n",
    "\n",
    "df = spark.read.csv(\"BankChurners_1.csv\", header=True, inferSchema=True)\n",
    "df.show(truncate=False)"
   ]
  },
  {
   "cell_type": "code",
   "execution_count": null,
   "id": "c2e55b53",
   "metadata": {},
   "outputs": [],
   "source": []
  }
 ],
 "metadata": {
  "kernelspec": {
   "display_name": "Python 3 (ipykernel)",
   "language": "python",
   "name": "python3"
  },
  "language_info": {
   "codemirror_mode": {
    "name": "ipython",
    "version": 3
   },
   "file_extension": ".py",
   "mimetype": "text/x-python",
   "name": "python",
   "nbconvert_exporter": "python",
   "pygments_lexer": "ipython3",
   "version": "3.10.4"
  }
 },
 "nbformat": 4,
 "nbformat_minor": 5
}
