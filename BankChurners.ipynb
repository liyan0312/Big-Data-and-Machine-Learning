{
 "cells": [
  {
   "cell_type": "code",
   "execution_count": 1,
   "id": "c47c7642",
   "metadata": {},
   "outputs": [],
   "source": [
    "from pyspark.sql import SparkSession\n",
    "from pyspark.sql.functions import col"
   ]
  },
  {
   "cell_type": "code",
   "execution_count": 2,
   "id": "89bbf3cd",
   "metadata": {},
   "outputs": [
    {
     "name": "stderr",
     "output_type": "stream",
     "text": [
      "Setting default log level to \"WARN\".\n",
      "To adjust logging level use sc.setLogLevel(newLevel). For SparkR, use setLogLevel(newLevel).\n",
      "23/10/05 03:24:26 WARN NativeCodeLoader: Unable to load native-hadoop library for your platform... using builtin-java classes where applicable\n"
     ]
    }
   ],
   "source": [
    "spark = SparkSession.builder.appName(\"CSVImportExample\").getOrCreate()"
   ]
  },
  {
   "cell_type": "code",
   "execution_count": 3,
   "id": "c004a2af",
   "metadata": {},
   "outputs": [
    {
     "name": "stderr",
     "output_type": "stream",
     "text": [
      "                                                                                \r"
     ]
    },
    {
     "name": "stdout",
     "output_type": "stream",
     "text": [
      "+---------+-----------------+------------+------+---------------+---------------+--------------+---------------+-------------+--------------+------------------------+----------------------+---------------------+------------+-------------------+---------------+--------------------+---------------+--------------+-------------------+---------------------+----------------------------------------------------------------------------------------------------------------------------------+----------------------------------------------------------------------------------------------------------------------------------+\n",
      "|CLIENTNUM|Attrition_Flag   |Customer_Age|Gender|Dependent_count|Education_Level|Marital_Status|Income_Category|Card_Category|Months_on_book|Total_Relationship_Count|Months_Inactive_12_mon|Contacts_Count_12_mon|Credit_Limit|Total_Revolving_Bal|Avg_Open_To_Buy|Total_Amt_Chng_Q4_Q1|Total_Trans_Amt|Total_Trans_Ct|Total_Ct_Chng_Q4_Q1|Avg_Utilization_Ratio|Naive_Bayes_Classifier_Attrition_Flag_Card_Category_Contacts_Count_12_mon_Dependent_count_Education_Level_Months_Inactive_12_mon_1|Naive_Bayes_Classifier_Attrition_Flag_Card_Category_Contacts_Count_12_mon_Dependent_count_Education_Level_Months_Inactive_12_mon_2|\n",
      "+---------+-----------------+------------+------+---------------+---------------+--------------+---------------+-------------+--------------+------------------------+----------------------+---------------------+------------+-------------------+---------------+--------------------+---------------+--------------+-------------------+---------------------+----------------------------------------------------------------------------------------------------------------------------------+----------------------------------------------------------------------------------------------------------------------------------+\n",
      "|768805383|Existing Customer|45          |M     |3              |High School    |Married       |$60K - $80K    |Blue         |39            |5                       |1                     |3                    |12691.0     |777                |11914.0        |1.335               |1144           |42            |1.625              |0.061                |9.34E-5                                                                                                                           |0.99991                                                                                                                           |\n",
      "|818770008|Existing Customer|49          |F     |5              |Graduate       |Single        |Less than $40K |Blue         |44            |6                       |1                     |2                    |8256.0      |864                |7392.0         |1.541               |1291           |33            |3.714              |0.105                |5.69E-5                                                                                                                           |0.99994                                                                                                                           |\n",
      "|713982108|Existing Customer|51          |M     |3              |Graduate       |Married       |$80K - $120K   |Blue         |36            |4                       |1                     |0                    |3418.0      |0                  |3418.0         |2.594               |1887           |20            |2.333              |0.0                  |2.11E-5                                                                                                                           |0.99998                                                                                                                           |\n",
      "|769911858|Existing Customer|40          |F     |4              |High School    |Unknown       |Less than $40K |Blue         |34            |3                       |4                     |1                    |3313.0      |2517               |796.0          |1.405               |1171           |20            |2.333              |0.76                 |1.3366E-4                                                                                                                         |0.99987                                                                                                                           |\n",
      "|709106358|Existing Customer|40          |M     |3              |Uneducated     |Married       |$60K - $80K    |Blue         |21            |5                       |1                     |0                    |4716.0      |0                  |4716.0         |2.175               |816            |28            |2.5                |0.0                  |2.17E-5                                                                                                                           |0.99998                                                                                                                           |\n",
      "|713061558|Existing Customer|44          |M     |2              |Graduate       |Married       |$40K - $60K    |Blue         |36            |3                       |1                     |2                    |4010.0      |1247               |2763.0         |1.376               |1088           |24            |0.846              |0.311                |5.51E-5                                                                                                                           |0.99994                                                                                                                           |\n",
      "|810347208|Existing Customer|51          |M     |4              |Unknown        |Married       |$120K +        |Gold         |46            |6                       |1                     |3                    |34516.0     |2264               |32252.0        |1.975               |1330           |31            |0.722              |0.066                |1.2303E-4                                                                                                                         |0.99988                                                                                                                           |\n",
      "|818906208|Existing Customer|32          |M     |0              |High School    |Unknown       |$60K - $80K    |Silver       |27            |2                       |2                     |2                    |29081.0     |1396               |27685.0        |2.204               |1538           |36            |0.714              |0.048                |8.58E-5                                                                                                                           |0.99991                                                                                                                           |\n",
      "|710930508|Existing Customer|37          |M     |3              |Uneducated     |Single        |$60K - $80K    |Blue         |36            |5                       |2                     |0                    |22352.0     |2517               |19835.0        |3.355               |1350           |24            |1.182              |0.113                |4.48E-5                                                                                                                           |0.99996                                                                                                                           |\n",
      "|719661558|Existing Customer|48          |M     |2              |Graduate       |Single        |$80K - $120K   |Blue         |36            |6                       |3                     |3                    |11656.0     |1677               |9979.0         |1.524               |1441           |32            |0.882              |0.144                |3.0251E-4                                                                                                                         |0.9997                                                                                                                            |\n",
      "|708790833|Existing Customer|42          |M     |5              |Uneducated     |Unknown       |$120K +        |Blue         |31            |5                       |3                     |2                    |6748.0      |1467               |5281.0         |0.831               |1201           |42            |0.68               |0.217                |1.9094E-4                                                                                                                         |0.99981                                                                                                                           |\n",
      "|710821833|Existing Customer|65          |M     |1              |Unknown        |Married       |$40K - $60K    |Blue         |54            |6                       |2                     |3                    |9095.0      |1587               |7508.0         |1.433               |1314           |26            |1.364              |0.174                |1.9751E-4                                                                                                                         |0.9998                                                                                                                            |\n",
      "|710599683|Existing Customer|56          |M     |1              |College        |Single        |$80K - $120K   |Blue         |36            |3                       |6                     |0                    |11751.0     |0                  |11751.0        |3.397               |1539           |17            |3.25               |0.0                  |4.78E-5                                                                                                                           |0.99995                                                                                                                           |\n",
      "|816082233|Existing Customer|35          |M     |3              |Graduate       |Unknown       |$60K - $80K    |Blue         |30            |5                       |1                     |3                    |8547.0      |1666               |6881.0         |1.163               |1311           |33            |2.0                |0.195                |9.61E-5                                                                                                                           |0.9999                                                                                                                            |\n",
      "|712396908|Existing Customer|57          |F     |2              |Graduate       |Married       |Less than $40K |Blue         |48            |5                       |2                     |2                    |2436.0      |680                |1756.0         |1.19                |1570           |29            |0.611              |0.279                |1.1382E-4                                                                                                                         |0.99989                                                                                                                           |\n",
      "|714885258|Existing Customer|44          |M     |4              |Unknown        |Unknown       |$80K - $120K   |Blue         |37            |5                       |1                     |2                    |4234.0      |972                |3262.0         |1.707               |1348           |27            |1.7                |0.23                 |6.35E-5                                                                                                                           |0.99994                                                                                                                           |\n",
      "|709967358|Existing Customer|48          |M     |4              |Post-Graduate  |Single        |$80K - $120K   |Blue         |36            |6                       |2                     |3                    |30367.0     |2362               |28005.0        |1.708               |1671           |27            |0.929              |0.078                |2.3623E-4                                                                                                                         |0.99976                                                                                                                           |\n",
      "|753327333|Existing Customer|41          |M     |3              |Unknown        |Married       |$80K - $120K   |Blue         |34            |4                       |4                     |1                    |13535.0     |1291               |12244.0        |0.653               |1028           |21            |1.625              |0.095                |1.4953E-4                                                                                                                         |0.99985                                                                                                                           |\n",
      "|806160108|Existing Customer|61          |M     |1              |High School    |Married       |$40K - $60K    |Blue         |56            |2                       |2                     |3                    |3193.0      |2517               |676.0          |1.831               |1336           |30            |1.143              |0.788                |1.7468E-4                                                                                                                         |0.99983                                                                                                                           |\n",
      "|709327383|Existing Customer|45          |F     |2              |Graduate       |Married       |Unknown        |Blue         |37            |6                       |1                     |2                    |14470.0     |1157               |13313.0        |0.966               |1207           |21            |0.909              |0.08                 |5.51E-5                                                                                                                           |0.99994                                                                                                                           |\n",
      "+---------+-----------------+------------+------+---------------+---------------+--------------+---------------+-------------+--------------+------------------------+----------------------+---------------------+------------+-------------------+---------------+--------------------+---------------+--------------+-------------------+---------------------+----------------------------------------------------------------------------------------------------------------------------------+----------------------------------------------------------------------------------------------------------------------------------+\n",
      "only showing top 20 rows\n",
      "\n"
     ]
    }
   ],
   "source": [
    "df = spark.read.csv(\"BankChurners_1.csv\", header=True, inferSchema=True)\n",
    "df.show(truncate=False)"
   ]
  },
  {
   "cell_type": "code",
   "execution_count": 4,
   "id": "4663ceaa",
   "metadata": {},
   "outputs": [
    {
     "name": "stderr",
     "output_type": "stream",
     "text": [
      "23/10/05 03:24:47 WARN package: Truncated the string representation of a plan since it was too large. This behavior can be adjusted by setting 'spark.sql.debug.maxToStringFields'.\n",
      "[Stage 5:>                                                          (0 + 1) / 1]\r"
     ]
    },
    {
     "name": "stdout",
     "output_type": "stream",
     "text": [
      "+-------+-------------------+-----------------+-----------------+------+------------------+---------------+--------------+---------------+-------------+------------------+------------------------+----------------------+---------------------+-----------------+-------------------+-----------------+--------------------+-----------------+-----------------+-------------------+---------------------+----------------------------------------------------------------------------------------------------------------------------------+----------------------------------------------------------------------------------------------------------------------------------+\n",
      "|summary|          CLIENTNUM|   Attrition_Flag|     Customer_Age|Gender|   Dependent_count|Education_Level|Marital_Status|Income_Category|Card_Category|    Months_on_book|Total_Relationship_Count|Months_Inactive_12_mon|Contacts_Count_12_mon|     Credit_Limit|Total_Revolving_Bal|  Avg_Open_To_Buy|Total_Amt_Chng_Q4_Q1|  Total_Trans_Amt|   Total_Trans_Ct|Total_Ct_Chng_Q4_Q1|Avg_Utilization_Ratio|Naive_Bayes_Classifier_Attrition_Flag_Card_Category_Contacts_Count_12_mon_Dependent_count_Education_Level_Months_Inactive_12_mon_1|Naive_Bayes_Classifier_Attrition_Flag_Card_Category_Contacts_Count_12_mon_Dependent_count_Education_Level_Months_Inactive_12_mon_2|\n",
      "+-------+-------------------+-----------------+-----------------+------+------------------+---------------+--------------+---------------+-------------+------------------+------------------------+----------------------+---------------------+-----------------+-------------------+-----------------+--------------------+-----------------+-----------------+-------------------+---------------------+----------------------------------------------------------------------------------------------------------------------------------+----------------------------------------------------------------------------------------------------------------------------------+\n",
      "|  count|              10127|            10127|            10127| 10127|             10127|          10127|         10127|          10127|        10127|             10127|                   10127|                 10127|                10127|            10127|              10127|            10127|               10127|            10127|            10127|              10127|                10126|                                                                                                                             10127|                                                                                                                             10127|\n",
      "|   mean|7.391776063336625E8|             null|46.32596030413745|  null|2.3462032191172115|           null|          null|           null|         null|35.928409203120374|      3.8125802310654686|    2.3411671768539546|   2.4553174681544387|8631.953698034848| 1162.8140614199665|7469.139636614887|  0.7599406536980376|4404.086303939963|64.85868062413589| 0.7122223758269962|  0.27490687339522024|                                                                                                               0.15999746437444629|                                                                                                                0.8400025708403275|\n",
      "| stddev|3.690378345023116E7|             null|8.016814032549046|  null|  1.29890834890379|           null|          null|           null|         null|  7.98641633087208|        1.55440786533883|    1.0106223994182844|   1.1062251426359249|9088.776650223148|  814.9873352357533|9090.685323679114|  0.2192067692307027|3397.129253557085|23.47372951788508|0.23808609133294137|  0.27570182375688984|                                                                                                                0.3653010122071674|                                                                                                               0.36530103711017936|\n",
      "|    min|          708082083|Attrited Customer|               26|     F|                 0|        College|      Divorced|        $120K +|         Blue|                13|                       1|                     0|                    0|           1438.3|                  0|              3.0|                 0.0|              510|               10|                0.0|                  0.0|                                                                                                                           7.66E-6|                                                                                                                         4.1998E-4|\n",
      "|    25%|          713032233|             null|               41|  null|                 1|           null|          null|           null|         null|                31|                       3|                     2|                    2|           2555.0|                357|           1322.0|               0.631|             2155|             45.0|              0.581|                0.022|                                                                                                                            9.9E-5|                                                                                                                           0.99966|\n",
      "|    50%|          717924933|             null|               46|  null|                 2|           null|          null|           null|         null|                36|                       4|                     2|                    2|           4549.0|               1276|           3472.0|               0.736|             3899|             67.0|              0.702|                0.175|                                                                                                                         1.8146E-4|                                                                                                                           0.99982|\n",
      "|    75%|          773140683|             null|               52|  null|                 3|           null|          null|           null|         null|                40|                       5|                     3|                    3|          11067.0|               1784|           9857.0|               0.859|             4741|             81.0|              0.818|                0.503|                                                                                                                          3.373E-4|                                                                                                                            0.9999|\n",
      "|    max|          828343083|Existing Customer|               73|  Male|                 5|        Unknown|       Unknown|        Unknown|       Silver|                56|                       6|                     6|                    6|          34516.0|               2517|          34516.0|               3.397|            18484|               aa|              3.714|                0.999|                                                                                                                           0.99958|                                                                                                                           0.99999|\n",
      "+-------+-------------------+-----------------+-----------------+------+------------------+---------------+--------------+---------------+-------------+------------------+------------------------+----------------------+---------------------+-----------------+-------------------+-----------------+--------------------+-----------------+-----------------+-------------------+---------------------+----------------------------------------------------------------------------------------------------------------------------------+----------------------------------------------------------------------------------------------------------------------------------+\n",
      "\n"
     ]
    },
    {
     "name": "stderr",
     "output_type": "stream",
     "text": [
      "\r",
      "                                                                                \r"
     ]
    }
   ],
   "source": [
    "from pyspark.sql import SparkSession\n",
    "import pandas as pd\n",
    "df_desc = df.summary()\n",
    "df_desc.show()"
   ]
  },
  {
   "cell_type": "code",
   "execution_count": 5,
   "id": "480e50e1",
   "metadata": {},
   "outputs": [
    {
     "name": "stdout",
     "output_type": "stream",
     "text": [
      "root\n",
      " |-- CLIENTNUM: integer (nullable = true)\n",
      " |-- Attrition_Flag: string (nullable = true)\n",
      " |-- Customer_Age: integer (nullable = true)\n",
      " |-- Gender: string (nullable = true)\n",
      " |-- Dependent_count: integer (nullable = true)\n",
      " |-- Education_Level: string (nullable = true)\n",
      " |-- Marital_Status: string (nullable = true)\n",
      " |-- Income_Category: string (nullable = true)\n",
      " |-- Card_Category: string (nullable = true)\n",
      " |-- Months_on_book: integer (nullable = true)\n",
      " |-- Total_Relationship_Count: integer (nullable = true)\n",
      " |-- Months_Inactive_12_mon: integer (nullable = true)\n",
      " |-- Contacts_Count_12_mon: integer (nullable = true)\n",
      " |-- Credit_Limit: double (nullable = true)\n",
      " |-- Total_Revolving_Bal: integer (nullable = true)\n",
      " |-- Avg_Open_To_Buy: double (nullable = true)\n",
      " |-- Total_Amt_Chng_Q4_Q1: double (nullable = true)\n",
      " |-- Total_Trans_Amt: integer (nullable = true)\n",
      " |-- Total_Trans_Ct: string (nullable = true)\n",
      " |-- Total_Ct_Chng_Q4_Q1: double (nullable = true)\n",
      " |-- Avg_Utilization_Ratio: double (nullable = true)\n",
      " |-- Naive_Bayes_Classifier_Attrition_Flag_Card_Category_Contacts_Count_12_mon_Dependent_count_Education_Level_Months_Inactive_12_mon_1: double (nullable = true)\n",
      " |-- Naive_Bayes_Classifier_Attrition_Flag_Card_Category_Contacts_Count_12_mon_Dependent_count_Education_Level_Months_Inactive_12_mon_2: double (nullable = true)\n",
      "\n",
      "10127 23\n"
     ]
    }
   ],
   "source": [
    "df.printSchema()\n",
    "row_count = df.count()\n",
    "num_columns = len(df.columns)\n",
    "print (row_count,num_columns)"
   ]
  },
  {
   "cell_type": "code",
   "execution_count": 6,
   "id": "f5d4d197",
   "metadata": {},
   "outputs": [
    {
     "name": "stderr",
     "output_type": "stream",
     "text": [
      "                                                                                \r"
     ]
    },
    {
     "data": {
      "text/html": [
       "<div>\n",
       "<style scoped>\n",
       "    .dataframe tbody tr th:only-of-type {\n",
       "        vertical-align: middle;\n",
       "    }\n",
       "\n",
       "    .dataframe tbody tr th {\n",
       "        vertical-align: top;\n",
       "    }\n",
       "\n",
       "    .dataframe thead th {\n",
       "        text-align: right;\n",
       "    }\n",
       "</style>\n",
       "<table border=\"1\" class=\"dataframe\">\n",
       "  <thead>\n",
       "    <tr style=\"text-align: right;\">\n",
       "      <th>summary</th>\n",
       "      <th>count</th>\n",
       "      <th>mean</th>\n",
       "      <th>stddev</th>\n",
       "      <th>min</th>\n",
       "      <th>25%</th>\n",
       "      <th>50%</th>\n",
       "      <th>75%</th>\n",
       "      <th>max</th>\n",
       "    </tr>\n",
       "  </thead>\n",
       "  <tbody>\n",
       "    <tr>\n",
       "      <th>CLIENTNUM</th>\n",
       "      <td>10127</td>\n",
       "      <td>7.391776063336625E8</td>\n",
       "      <td>3.690378345023116E7</td>\n",
       "      <td>708082083</td>\n",
       "      <td>713032233</td>\n",
       "      <td>717924933</td>\n",
       "      <td>773140683</td>\n",
       "      <td>828343083</td>\n",
       "    </tr>\n",
       "    <tr>\n",
       "      <th>Attrition_Flag</th>\n",
       "      <td>10127</td>\n",
       "      <td>None</td>\n",
       "      <td>None</td>\n",
       "      <td>Attrited Customer</td>\n",
       "      <td>None</td>\n",
       "      <td>None</td>\n",
       "      <td>None</td>\n",
       "      <td>Existing Customer</td>\n",
       "    </tr>\n",
       "    <tr>\n",
       "      <th>Customer_Age</th>\n",
       "      <td>10127</td>\n",
       "      <td>46.32596030413745</td>\n",
       "      <td>8.016814032549046</td>\n",
       "      <td>26</td>\n",
       "      <td>41</td>\n",
       "      <td>46</td>\n",
       "      <td>52</td>\n",
       "      <td>73</td>\n",
       "    </tr>\n",
       "    <tr>\n",
       "      <th>Gender</th>\n",
       "      <td>10127</td>\n",
       "      <td>None</td>\n",
       "      <td>None</td>\n",
       "      <td>F</td>\n",
       "      <td>None</td>\n",
       "      <td>None</td>\n",
       "      <td>None</td>\n",
       "      <td>Male</td>\n",
       "    </tr>\n",
       "    <tr>\n",
       "      <th>Dependent_count</th>\n",
       "      <td>10127</td>\n",
       "      <td>2.3462032191172115</td>\n",
       "      <td>1.29890834890379</td>\n",
       "      <td>0</td>\n",
       "      <td>1</td>\n",
       "      <td>2</td>\n",
       "      <td>3</td>\n",
       "      <td>5</td>\n",
       "    </tr>\n",
       "    <tr>\n",
       "      <th>Education_Level</th>\n",
       "      <td>10127</td>\n",
       "      <td>None</td>\n",
       "      <td>None</td>\n",
       "      <td>College</td>\n",
       "      <td>None</td>\n",
       "      <td>None</td>\n",
       "      <td>None</td>\n",
       "      <td>Unknown</td>\n",
       "    </tr>\n",
       "    <tr>\n",
       "      <th>Marital_Status</th>\n",
       "      <td>10127</td>\n",
       "      <td>None</td>\n",
       "      <td>None</td>\n",
       "      <td>Divorced</td>\n",
       "      <td>None</td>\n",
       "      <td>None</td>\n",
       "      <td>None</td>\n",
       "      <td>Unknown</td>\n",
       "    </tr>\n",
       "    <tr>\n",
       "      <th>Income_Category</th>\n",
       "      <td>10127</td>\n",
       "      <td>None</td>\n",
       "      <td>None</td>\n",
       "      <td>$120K +</td>\n",
       "      <td>None</td>\n",
       "      <td>None</td>\n",
       "      <td>None</td>\n",
       "      <td>Unknown</td>\n",
       "    </tr>\n",
       "    <tr>\n",
       "      <th>Card_Category</th>\n",
       "      <td>10127</td>\n",
       "      <td>None</td>\n",
       "      <td>None</td>\n",
       "      <td>Blue</td>\n",
       "      <td>None</td>\n",
       "      <td>None</td>\n",
       "      <td>None</td>\n",
       "      <td>Silver</td>\n",
       "    </tr>\n",
       "    <tr>\n",
       "      <th>Months_on_book</th>\n",
       "      <td>10127</td>\n",
       "      <td>35.928409203120374</td>\n",
       "      <td>7.98641633087208</td>\n",
       "      <td>13</td>\n",
       "      <td>31</td>\n",
       "      <td>36</td>\n",
       "      <td>40</td>\n",
       "      <td>56</td>\n",
       "    </tr>\n",
       "    <tr>\n",
       "      <th>Total_Relationship_Count</th>\n",
       "      <td>10127</td>\n",
       "      <td>3.8125802310654686</td>\n",
       "      <td>1.55440786533883</td>\n",
       "      <td>1</td>\n",
       "      <td>3</td>\n",
       "      <td>4</td>\n",
       "      <td>5</td>\n",
       "      <td>6</td>\n",
       "    </tr>\n",
       "    <tr>\n",
       "      <th>Months_Inactive_12_mon</th>\n",
       "      <td>10127</td>\n",
       "      <td>2.3411671768539546</td>\n",
       "      <td>1.0106223994182844</td>\n",
       "      <td>0</td>\n",
       "      <td>2</td>\n",
       "      <td>2</td>\n",
       "      <td>3</td>\n",
       "      <td>6</td>\n",
       "    </tr>\n",
       "    <tr>\n",
       "      <th>Contacts_Count_12_mon</th>\n",
       "      <td>10127</td>\n",
       "      <td>2.4553174681544387</td>\n",
       "      <td>1.1062251426359249</td>\n",
       "      <td>0</td>\n",
       "      <td>2</td>\n",
       "      <td>2</td>\n",
       "      <td>3</td>\n",
       "      <td>6</td>\n",
       "    </tr>\n",
       "    <tr>\n",
       "      <th>Credit_Limit</th>\n",
       "      <td>10127</td>\n",
       "      <td>8631.953698034848</td>\n",
       "      <td>9088.776650223148</td>\n",
       "      <td>1438.3</td>\n",
       "      <td>2555.0</td>\n",
       "      <td>4549.0</td>\n",
       "      <td>11067.0</td>\n",
       "      <td>34516.0</td>\n",
       "    </tr>\n",
       "    <tr>\n",
       "      <th>Total_Revolving_Bal</th>\n",
       "      <td>10127</td>\n",
       "      <td>1162.8140614199665</td>\n",
       "      <td>814.9873352357533</td>\n",
       "      <td>0</td>\n",
       "      <td>357</td>\n",
       "      <td>1276</td>\n",
       "      <td>1784</td>\n",
       "      <td>2517</td>\n",
       "    </tr>\n",
       "    <tr>\n",
       "      <th>Avg_Open_To_Buy</th>\n",
       "      <td>10127</td>\n",
       "      <td>7469.139636614887</td>\n",
       "      <td>9090.685323679114</td>\n",
       "      <td>3.0</td>\n",
       "      <td>1322.0</td>\n",
       "      <td>3472.0</td>\n",
       "      <td>9857.0</td>\n",
       "      <td>34516.0</td>\n",
       "    </tr>\n",
       "    <tr>\n",
       "      <th>Total_Amt_Chng_Q4_Q1</th>\n",
       "      <td>10127</td>\n",
       "      <td>0.7599406536980376</td>\n",
       "      <td>0.2192067692307027</td>\n",
       "      <td>0.0</td>\n",
       "      <td>0.631</td>\n",
       "      <td>0.736</td>\n",
       "      <td>0.859</td>\n",
       "      <td>3.397</td>\n",
       "    </tr>\n",
       "    <tr>\n",
       "      <th>Total_Trans_Amt</th>\n",
       "      <td>10127</td>\n",
       "      <td>4404.086303939963</td>\n",
       "      <td>3397.129253557085</td>\n",
       "      <td>510</td>\n",
       "      <td>2155</td>\n",
       "      <td>3899</td>\n",
       "      <td>4741</td>\n",
       "      <td>18484</td>\n",
       "    </tr>\n",
       "    <tr>\n",
       "      <th>Total_Trans_Ct</th>\n",
       "      <td>10127</td>\n",
       "      <td>64.85868062413589</td>\n",
       "      <td>23.47372951788508</td>\n",
       "      <td>10</td>\n",
       "      <td>45.0</td>\n",
       "      <td>67.0</td>\n",
       "      <td>81.0</td>\n",
       "      <td>aa</td>\n",
       "    </tr>\n",
       "    <tr>\n",
       "      <th>Total_Ct_Chng_Q4_Q1</th>\n",
       "      <td>10127</td>\n",
       "      <td>0.7122223758269962</td>\n",
       "      <td>0.23808609133294137</td>\n",
       "      <td>0.0</td>\n",
       "      <td>0.581</td>\n",
       "      <td>0.702</td>\n",
       "      <td>0.818</td>\n",
       "      <td>3.714</td>\n",
       "    </tr>\n",
       "    <tr>\n",
       "      <th>Avg_Utilization_Ratio</th>\n",
       "      <td>10126</td>\n",
       "      <td>0.27490687339522024</td>\n",
       "      <td>0.27570182375688984</td>\n",
       "      <td>0.0</td>\n",
       "      <td>0.022</td>\n",
       "      <td>0.175</td>\n",
       "      <td>0.503</td>\n",
       "      <td>0.999</td>\n",
       "    </tr>\n",
       "    <tr>\n",
       "      <th>Naive_Bayes_Classifier_Attrition_Flag_Card_Category_Contacts_Count_12_mon_Dependent_count_Education_Level_Months_Inactive_12_mon_1</th>\n",
       "      <td>10127</td>\n",
       "      <td>0.15999746437444629</td>\n",
       "      <td>0.3653010122071674</td>\n",
       "      <td>7.66E-6</td>\n",
       "      <td>9.9E-5</td>\n",
       "      <td>1.8146E-4</td>\n",
       "      <td>3.373E-4</td>\n",
       "      <td>0.99958</td>\n",
       "    </tr>\n",
       "    <tr>\n",
       "      <th>Naive_Bayes_Classifier_Attrition_Flag_Card_Category_Contacts_Count_12_mon_Dependent_count_Education_Level_Months_Inactive_12_mon_2</th>\n",
       "      <td>10127</td>\n",
       "      <td>0.8400025708403275</td>\n",
       "      <td>0.36530103711017936</td>\n",
       "      <td>4.1998E-4</td>\n",
       "      <td>0.99966</td>\n",
       "      <td>0.99982</td>\n",
       "      <td>0.9999</td>\n",
       "      <td>0.99999</td>\n",
       "    </tr>\n",
       "  </tbody>\n",
       "</table>\n",
       "</div>"
      ],
      "text/plain": [
       "summary                                             count  \\\n",
       "CLIENTNUM                                           10127   \n",
       "Attrition_Flag                                      10127   \n",
       "Customer_Age                                        10127   \n",
       "Gender                                              10127   \n",
       "Dependent_count                                     10127   \n",
       "Education_Level                                     10127   \n",
       "Marital_Status                                      10127   \n",
       "Income_Category                                     10127   \n",
       "Card_Category                                       10127   \n",
       "Months_on_book                                      10127   \n",
       "Total_Relationship_Count                            10127   \n",
       "Months_Inactive_12_mon                              10127   \n",
       "Contacts_Count_12_mon                               10127   \n",
       "Credit_Limit                                        10127   \n",
       "Total_Revolving_Bal                                 10127   \n",
       "Avg_Open_To_Buy                                     10127   \n",
       "Total_Amt_Chng_Q4_Q1                                10127   \n",
       "Total_Trans_Amt                                     10127   \n",
       "Total_Trans_Ct                                      10127   \n",
       "Total_Ct_Chng_Q4_Q1                                 10127   \n",
       "Avg_Utilization_Ratio                               10126   \n",
       "Naive_Bayes_Classifier_Attrition_Flag_Card_Cate...  10127   \n",
       "Naive_Bayes_Classifier_Attrition_Flag_Card_Cate...  10127   \n",
       "\n",
       "summary                                                            mean  \\\n",
       "CLIENTNUM                                           7.391776063336625E8   \n",
       "Attrition_Flag                                                     None   \n",
       "Customer_Age                                          46.32596030413745   \n",
       "Gender                                                             None   \n",
       "Dependent_count                                      2.3462032191172115   \n",
       "Education_Level                                                    None   \n",
       "Marital_Status                                                     None   \n",
       "Income_Category                                                    None   \n",
       "Card_Category                                                      None   \n",
       "Months_on_book                                       35.928409203120374   \n",
       "Total_Relationship_Count                             3.8125802310654686   \n",
       "Months_Inactive_12_mon                               2.3411671768539546   \n",
       "Contacts_Count_12_mon                                2.4553174681544387   \n",
       "Credit_Limit                                          8631.953698034848   \n",
       "Total_Revolving_Bal                                  1162.8140614199665   \n",
       "Avg_Open_To_Buy                                       7469.139636614887   \n",
       "Total_Amt_Chng_Q4_Q1                                 0.7599406536980376   \n",
       "Total_Trans_Amt                                       4404.086303939963   \n",
       "Total_Trans_Ct                                        64.85868062413589   \n",
       "Total_Ct_Chng_Q4_Q1                                  0.7122223758269962   \n",
       "Avg_Utilization_Ratio                               0.27490687339522024   \n",
       "Naive_Bayes_Classifier_Attrition_Flag_Card_Cate...  0.15999746437444629   \n",
       "Naive_Bayes_Classifier_Attrition_Flag_Card_Cate...   0.8400025708403275   \n",
       "\n",
       "summary                                                          stddev  \\\n",
       "CLIENTNUM                                           3.690378345023116E7   \n",
       "Attrition_Flag                                                     None   \n",
       "Customer_Age                                          8.016814032549046   \n",
       "Gender                                                             None   \n",
       "Dependent_count                                        1.29890834890379   \n",
       "Education_Level                                                    None   \n",
       "Marital_Status                                                     None   \n",
       "Income_Category                                                    None   \n",
       "Card_Category                                                      None   \n",
       "Months_on_book                                         7.98641633087208   \n",
       "Total_Relationship_Count                               1.55440786533883   \n",
       "Months_Inactive_12_mon                               1.0106223994182844   \n",
       "Contacts_Count_12_mon                                1.1062251426359249   \n",
       "Credit_Limit                                          9088.776650223148   \n",
       "Total_Revolving_Bal                                   814.9873352357533   \n",
       "Avg_Open_To_Buy                                       9090.685323679114   \n",
       "Total_Amt_Chng_Q4_Q1                                 0.2192067692307027   \n",
       "Total_Trans_Amt                                       3397.129253557085   \n",
       "Total_Trans_Ct                                        23.47372951788508   \n",
       "Total_Ct_Chng_Q4_Q1                                 0.23808609133294137   \n",
       "Avg_Utilization_Ratio                               0.27570182375688984   \n",
       "Naive_Bayes_Classifier_Attrition_Flag_Card_Cate...   0.3653010122071674   \n",
       "Naive_Bayes_Classifier_Attrition_Flag_Card_Cate...  0.36530103711017936   \n",
       "\n",
       "summary                                                           min  \\\n",
       "CLIENTNUM                                                   708082083   \n",
       "Attrition_Flag                                      Attrited Customer   \n",
       "Customer_Age                                                       26   \n",
       "Gender                                                              F   \n",
       "Dependent_count                                                     0   \n",
       "Education_Level                                               College   \n",
       "Marital_Status                                               Divorced   \n",
       "Income_Category                                               $120K +   \n",
       "Card_Category                                                    Blue   \n",
       "Months_on_book                                                     13   \n",
       "Total_Relationship_Count                                            1   \n",
       "Months_Inactive_12_mon                                              0   \n",
       "Contacts_Count_12_mon                                               0   \n",
       "Credit_Limit                                                   1438.3   \n",
       "Total_Revolving_Bal                                                 0   \n",
       "Avg_Open_To_Buy                                                   3.0   \n",
       "Total_Amt_Chng_Q4_Q1                                              0.0   \n",
       "Total_Trans_Amt                                                   510   \n",
       "Total_Trans_Ct                                                     10   \n",
       "Total_Ct_Chng_Q4_Q1                                               0.0   \n",
       "Avg_Utilization_Ratio                                             0.0   \n",
       "Naive_Bayes_Classifier_Attrition_Flag_Card_Cate...            7.66E-6   \n",
       "Naive_Bayes_Classifier_Attrition_Flag_Card_Cate...          4.1998E-4   \n",
       "\n",
       "summary                                                   25%        50%  \\\n",
       "CLIENTNUM                                           713032233  717924933   \n",
       "Attrition_Flag                                           None       None   \n",
       "Customer_Age                                               41         46   \n",
       "Gender                                                   None       None   \n",
       "Dependent_count                                             1          2   \n",
       "Education_Level                                          None       None   \n",
       "Marital_Status                                           None       None   \n",
       "Income_Category                                          None       None   \n",
       "Card_Category                                            None       None   \n",
       "Months_on_book                                             31         36   \n",
       "Total_Relationship_Count                                    3          4   \n",
       "Months_Inactive_12_mon                                      2          2   \n",
       "Contacts_Count_12_mon                                       2          2   \n",
       "Credit_Limit                                           2555.0     4549.0   \n",
       "Total_Revolving_Bal                                       357       1276   \n",
       "Avg_Open_To_Buy                                        1322.0     3472.0   \n",
       "Total_Amt_Chng_Q4_Q1                                    0.631      0.736   \n",
       "Total_Trans_Amt                                          2155       3899   \n",
       "Total_Trans_Ct                                           45.0       67.0   \n",
       "Total_Ct_Chng_Q4_Q1                                     0.581      0.702   \n",
       "Avg_Utilization_Ratio                                   0.022      0.175   \n",
       "Naive_Bayes_Classifier_Attrition_Flag_Card_Cate...     9.9E-5  1.8146E-4   \n",
       "Naive_Bayes_Classifier_Attrition_Flag_Card_Cate...    0.99966    0.99982   \n",
       "\n",
       "summary                                                   75%  \\\n",
       "CLIENTNUM                                           773140683   \n",
       "Attrition_Flag                                           None   \n",
       "Customer_Age                                               52   \n",
       "Gender                                                   None   \n",
       "Dependent_count                                             3   \n",
       "Education_Level                                          None   \n",
       "Marital_Status                                           None   \n",
       "Income_Category                                          None   \n",
       "Card_Category                                            None   \n",
       "Months_on_book                                             40   \n",
       "Total_Relationship_Count                                    5   \n",
       "Months_Inactive_12_mon                                      3   \n",
       "Contacts_Count_12_mon                                       3   \n",
       "Credit_Limit                                          11067.0   \n",
       "Total_Revolving_Bal                                      1784   \n",
       "Avg_Open_To_Buy                                        9857.0   \n",
       "Total_Amt_Chng_Q4_Q1                                    0.859   \n",
       "Total_Trans_Amt                                          4741   \n",
       "Total_Trans_Ct                                           81.0   \n",
       "Total_Ct_Chng_Q4_Q1                                     0.818   \n",
       "Avg_Utilization_Ratio                                   0.503   \n",
       "Naive_Bayes_Classifier_Attrition_Flag_Card_Cate...   3.373E-4   \n",
       "Naive_Bayes_Classifier_Attrition_Flag_Card_Cate...     0.9999   \n",
       "\n",
       "summary                                                           max  \n",
       "CLIENTNUM                                                   828343083  \n",
       "Attrition_Flag                                      Existing Customer  \n",
       "Customer_Age                                                       73  \n",
       "Gender                                                           Male  \n",
       "Dependent_count                                                     5  \n",
       "Education_Level                                               Unknown  \n",
       "Marital_Status                                                Unknown  \n",
       "Income_Category                                               Unknown  \n",
       "Card_Category                                                  Silver  \n",
       "Months_on_book                                                     56  \n",
       "Total_Relationship_Count                                            6  \n",
       "Months_Inactive_12_mon                                              6  \n",
       "Contacts_Count_12_mon                                               6  \n",
       "Credit_Limit                                                  34516.0  \n",
       "Total_Revolving_Bal                                              2517  \n",
       "Avg_Open_To_Buy                                               34516.0  \n",
       "Total_Amt_Chng_Q4_Q1                                            3.397  \n",
       "Total_Trans_Amt                                                 18484  \n",
       "Total_Trans_Ct                                                     aa  \n",
       "Total_Ct_Chng_Q4_Q1                                             3.714  \n",
       "Avg_Utilization_Ratio                                           0.999  \n",
       "Naive_Bayes_Classifier_Attrition_Flag_Card_Cate...            0.99958  \n",
       "Naive_Bayes_Classifier_Attrition_Flag_Card_Cate...            0.99999  "
      ]
     },
     "execution_count": 6,
     "metadata": {},
     "output_type": "execute_result"
    }
   ],
   "source": [
    "# Convert summary results to Pandas DataFrame\n",
    "summary_df = df.summary().toPandas()\n",
    "\n",
    "summary_df = summary_df.transpose()\n",
    "new_header = summary_df.iloc[0]\n",
    "summary_df = summary_df[1:]\n",
    "summary_df.columns = new_header\n",
    "\n",
    "summary_df"
   ]
  },
  {
   "cell_type": "code",
   "execution_count": 7,
   "id": "b4dbd674",
   "metadata": {},
   "outputs": [
    {
     "data": {
      "image/png": "[encoded data removed]",
      "text/plain": [
       "<Figure size 640x480 with 1 Axes>"
      ]
     },
     "metadata": {},
     "output_type": "display_data"
    }
   ],
   "source": [
    "# Import the relevant Python libraries.\n",
    "import numpy as np\n",
    "import matplotlib.pyplot as plt\n",
    "%matplotlib inline\n",
    "\n",
    "# Convert sex to an array using Numpy and plot it using pyplot. \n",
    "sexArr = np.array(df.select('Gender').collect())\n",
    "plt.hist(sexArr)\n",
    "plt.show()"
   ]
  },
  {
   "cell_type": "code",
   "execution_count": 8,
   "id": "7bb97871",
   "metadata": {},
   "outputs": [
    {
     "data": {
      "image/png": "[encoded data removed]",
      "text/plain": [
       "<Figure size 640x480 with 1 Axes>"
      ]
     },
     "metadata": {},
     "output_type": "display_data"
    }
   ],
   "source": [
    "customer_age_arr = np.array(df.select('Customer_Age').collect())\n",
    "\n",
    "plt.hist(customer_age_arr, bins=20, edgecolor='k')\n",
    "plt.show()"
   ]
  },
  {
   "cell_type": "code",
   "execution_count": 9,
   "id": "73acd175",
   "metadata": {},
   "outputs": [
    {
     "data": {
      "image/png": "[encoded data removed]",
      "text/plain": [
       "<Figure size 640x480 with 1 Axes>"
      ]
     },
     "metadata": {},
     "output_type": "display_data"
    }
   ],
   "source": [
    "dependent_count_arr = np.array(df.select('Dependent_count').collect())\n",
    "unique_values, value_counts = np.unique(dependent_count_arr, return_counts=True)\n",
    "\n",
    "plt.bar(unique_values, value_counts)\n",
    "plt.show()"
   ]
  },
  {
   "cell_type": "code",
   "execution_count": 10,
   "id": "834b2086",
   "metadata": {},
   "outputs": [
    {
     "data": {
      "image/png": "[encoded data removed]",
      "text/plain": [
       "<Figure size 640x480 with 1 Axes>"
      ]
     },
     "metadata": {},
     "output_type": "display_data"
    }
   ],
   "source": [
    "from collections import Counter\n",
    "\n",
    "#Using Spark DataFrame to Calculate Counts for Different Education Levels\n",
    "education_counts = df.groupBy('Education_Level').count().toPandas()\n",
    "\n",
    "education_counts_dict = dict(zip(education_counts['Education_Level'], education_counts['count']))\n",
    "\n",
    "plt.pie(education_counts_dict.values(), labels=education_counts_dict.keys(), autopct='%1.1f%%')\n",
    "plt.show()"
   ]
  },
  {
   "cell_type": "code",
   "execution_count": 11,
   "id": "cd1a74d7",
   "metadata": {},
   "outputs": [
    {
     "data": {
      "image/png": "[encoded data removed]",
      "text/plain": [
       "<Figure size 640x480 with 1 Axes>"
      ]
     },
     "metadata": {},
     "output_type": "display_data"
    }
   ],
   "source": [
    "Card_Category_count_arr = np.array(df.select('Card_Category').collect())\n",
    "\n",
    "unique_values, value_counts = np.unique(Card_Category_count_arr, return_counts=True)\n",
    "\n",
    "plt.bar(unique_values, value_counts)\n",
    "plt.show()"
   ]
  },
  {
   "cell_type": "code",
   "execution_count": 12,
   "id": "42157d77",
   "metadata": {},
   "outputs": [
    {
     "data": {
      "image/png": "[encoded data removed]",
      "text/plain": [
       "<Figure size 640x480 with 1 Axes>"
      ]
     },
     "metadata": {},
     "output_type": "display_data"
    }
   ],
   "source": [
    "Marital_count_arr = np.array(df.select('Marital_Status').collect())\n",
    "\n",
    "unique_values, value_counts = np.unique(Marital_count_arr, return_counts=True)\n",
    "\n",
    "plt.bar(unique_values, value_counts)\n",
    "plt.show()"
   ]
  },
  {
   "cell_type": "code",
   "execution_count": 13,
   "id": "fc0e06fa",
   "metadata": {},
   "outputs": [
    {
     "data": {
      "image/png": "[encoded data removed]",
      "text/plain": [
       "<Figure size 640x480 with 1 Axes>"
      ]
     },
     "metadata": {},
     "output_type": "display_data"
    }
   ],
   "source": [
    "Attrition_counts = df.groupBy('Attrition_Flag').count().toPandas()\n",
    "\n",
    "Attrition_counts_dict = dict(zip(Attrition_counts['Attrition_Flag'], Attrition_counts['count']))\n",
    "\n",
    "plt.pie(Attrition_counts_dict.values(), labels=Attrition_counts_dict.keys(), autopct='%1.1f%%')\n",
    "plt.show()"
   ]
  },
  {
   "cell_type": "code",
   "execution_count": 14,
   "id": "dfd27c48",
   "metadata": {},
   "outputs": [
    {
     "data": {
      "image/png": "[encoded data removed]",
      "text/plain": [
       "<Figure size 800x600 with 1 Axes>"
      ]
     },
     "metadata": {},
     "output_type": "display_data"
    }
   ],
   "source": [
    "import matplotlib.pyplot as plt\n",
    "from pyspark.sql import functions as F\n",
    "import seaborn as sns\n",
    "\n",
    "count_data = df.groupBy('Attrition_Flag', 'Gender').agg(F.count('*').alias('count')).orderBy('Attrition_Flag', 'Gender')\n",
    "\n",
    "count_data = count_data.toPandas()\n",
    "\n",
    "plt.figure(figsize=(8, 6))\n",
    "ax = sns.barplot(x='Attrition_Flag', y='count', hue='Gender', data=count_data)\n",
    "plt.show()"
   ]
  },
  {
   "cell_type": "code",
   "execution_count": 15,
   "id": "9bcac27b",
   "metadata": {},
   "outputs": [],
   "source": [
    "#2.4 Verify the data quality"
   ]
  },
  {
   "cell_type": "code",
   "execution_count": 16,
   "id": "6dcf2100",
   "metadata": {},
   "outputs": [
    {
     "name": "stdout",
     "output_type": "stream",
     "text": [
      "+-----------------+------------+------+---------------+---------------+--------------+---------------+-------------+--------------+------------------------+----------------------+---------------------+------------+-------------------+---------------+--------------------+---------------+--------------+-------------------+---------------------+\n",
      "|   Attrition_Flag|Customer_Age|Gender|Dependent_count|Education_Level|Marital_Status|Income_Category|Card_Category|Months_on_book|Total_Relationship_Count|Months_Inactive_12_mon|Contacts_Count_12_mon|Credit_Limit|Total_Revolving_Bal|Avg_Open_To_Buy|Total_Amt_Chng_Q4_Q1|Total_Trans_Amt|Total_Trans_Ct|Total_Ct_Chng_Q4_Q1|Avg_Utilization_Ratio|\n",
      "+-----------------+------------+------+---------------+---------------+--------------+---------------+-------------+--------------+------------------------+----------------------+---------------------+------------+-------------------+---------------+--------------------+---------------+--------------+-------------------+---------------------+\n",
      "|Existing Customer|          45|     M|              3|    High School|       Married|    $60K - $80K|         Blue|            39|                       5|                     1|                    3|     12691.0|                777|        11914.0|               1.335|           1144|            42|              1.625|                0.061|\n",
      "|Existing Customer|          49|     F|              5|       Graduate|        Single| Less than $40K|         Blue|            44|                       6|                     1|                    2|      8256.0|                864|         7392.0|               1.541|           1291|            33|              3.714|                0.105|\n",
      "|Existing Customer|          51|     M|              3|       Graduate|       Married|   $80K - $120K|         Blue|            36|                       4|                     1|                    0|      3418.0|                  0|         3418.0|               2.594|           1887|            20|              2.333|                  0.0|\n",
      "|Existing Customer|          40|     F|              4|    High School|       Unknown| Less than $40K|         Blue|            34|                       3|                     4|                    1|      3313.0|               2517|          796.0|               1.405|           1171|            20|              2.333|                 0.76|\n",
      "|Existing Customer|          40|     M|              3|     Uneducated|       Married|    $60K - $80K|         Blue|            21|                       5|                     1|                    0|      4716.0|                  0|         4716.0|               2.175|            816|            28|                2.5|                  0.0|\n",
      "|Existing Customer|          44|     M|              2|       Graduate|       Married|    $40K - $60K|         Blue|            36|                       3|                     1|                    2|      4010.0|               1247|         2763.0|               1.376|           1088|            24|              0.846|                0.311|\n",
      "|Existing Customer|          51|     M|              4|        Unknown|       Married|        $120K +|         Gold|            46|                       6|                     1|                    3|     34516.0|               2264|        32252.0|               1.975|           1330|            31|              0.722|                0.066|\n",
      "|Existing Customer|          32|     M|              0|    High School|       Unknown|    $60K - $80K|       Silver|            27|                       2|                     2|                    2|     29081.0|               1396|        27685.0|               2.204|           1538|            36|              0.714|                0.048|\n",
      "|Existing Customer|          37|     M|              3|     Uneducated|        Single|    $60K - $80K|         Blue|            36|                       5|                     2|                    0|     22352.0|               2517|        19835.0|               3.355|           1350|            24|              1.182|                0.113|\n",
      "|Existing Customer|          48|     M|              2|       Graduate|        Single|   $80K - $120K|         Blue|            36|                       6|                     3|                    3|     11656.0|               1677|         9979.0|               1.524|           1441|            32|              0.882|                0.144|\n",
      "|Existing Customer|          42|     M|              5|     Uneducated|       Unknown|        $120K +|         Blue|            31|                       5|                     3|                    2|      6748.0|               1467|         5281.0|               0.831|           1201|            42|               0.68|                0.217|\n",
      "|Existing Customer|          65|     M|              1|        Unknown|       Married|    $40K - $60K|         Blue|            54|                       6|                     2|                    3|      9095.0|               1587|         7508.0|               1.433|           1314|            26|              1.364|                0.174|\n",
      "|Existing Customer|          56|     M|              1|        College|        Single|   $80K - $120K|         Blue|            36|                       3|                     6|                    0|     11751.0|                  0|        11751.0|               3.397|           1539|            17|               3.25|                  0.0|\n",
      "|Existing Customer|          35|     M|              3|       Graduate|       Unknown|    $60K - $80K|         Blue|            30|                       5|                     1|                    3|      8547.0|               1666|         6881.0|               1.163|           1311|            33|                2.0|                0.195|\n",
      "|Existing Customer|          57|     F|              2|       Graduate|       Married| Less than $40K|         Blue|            48|                       5|                     2|                    2|      2436.0|                680|         1756.0|                1.19|           1570|            29|              0.611|                0.279|\n",
      "|Existing Customer|          44|     M|              4|        Unknown|       Unknown|   $80K - $120K|         Blue|            37|                       5|                     1|                    2|      4234.0|                972|         3262.0|               1.707|           1348|            27|                1.7|                 0.23|\n",
      "|Existing Customer|          48|     M|              4|  Post-Graduate|        Single|   $80K - $120K|         Blue|            36|                       6|                     2|                    3|     30367.0|               2362|        28005.0|               1.708|           1671|            27|              0.929|                0.078|\n",
      "|Existing Customer|          41|     M|              3|        Unknown|       Married|   $80K - $120K|         Blue|            34|                       4|                     4|                    1|     13535.0|               1291|        12244.0|               0.653|           1028|            21|              1.625|                0.095|\n",
      "|Existing Customer|          61|     M|              1|    High School|       Married|    $40K - $60K|         Blue|            56|                       2|                     2|                    3|      3193.0|               2517|          676.0|               1.831|           1336|            30|              1.143|                0.788|\n",
      "|Existing Customer|          45|     F|              2|       Graduate|       Married|        Unknown|         Blue|            37|                       6|                     1|                    2|     14470.0|               1157|        13313.0|               0.966|           1207|            21|              0.909|                 0.08|\n",
      "+-----------------+------------+------+---------------+---------------+--------------+---------------+-------------+--------------+------------------------+----------------------+---------------------+------------+-------------------+---------------+--------------------+---------------+--------------+-------------------+---------------------+\n",
      "only showing top 20 rows\n",
      "\n",
      "root\n",
      " |-- Attrition_Flag: string (nullable = true)\n",
      " |-- Customer_Age: integer (nullable = true)\n",
      " |-- Gender: string (nullable = true)\n",
      " |-- Dependent_count: integer (nullable = true)\n",
      " |-- Education_Level: string (nullable = true)\n",
      " |-- Marital_Status: string (nullable = true)\n",
      " |-- Income_Category: string (nullable = true)\n",
      " |-- Card_Category: string (nullable = true)\n",
      " |-- Months_on_book: integer (nullable = true)\n",
      " |-- Total_Relationship_Count: integer (nullable = true)\n",
      " |-- Months_Inactive_12_mon: integer (nullable = true)\n",
      " |-- Contacts_Count_12_mon: integer (nullable = true)\n",
      " |-- Credit_Limit: double (nullable = true)\n",
      " |-- Total_Revolving_Bal: integer (nullable = true)\n",
      " |-- Avg_Open_To_Buy: double (nullable = true)\n",
      " |-- Total_Amt_Chng_Q4_Q1: double (nullable = true)\n",
      " |-- Total_Trans_Amt: integer (nullable = true)\n",
      " |-- Total_Trans_Ct: string (nullable = true)\n",
      " |-- Total_Ct_Chng_Q4_Q1: double (nullable = true)\n",
      " |-- Avg_Utilization_Ratio: double (nullable = true)\n",
      "\n",
      "10127 20\n"
     ]
    }
   ],
   "source": [
    "columns_to_drop = [\"CLIENTNUM\", \"Naive_Bayes_Classifier_Attrition_Flag_Card_Category_Contacts_Count_12_mon_Dependent_count_Education_Level_Months_Inactive_12_mon_1\", \"Naive_Bayes_Classifier_Attrition_Flag_Card_Category_Contacts_Count_12_mon_Dependent_count_Education_Level_Months_Inactive_12_mon_2\"]\n",
    "df = df.drop(*columns_to_drop)\n",
    "\n",
    "df.show()\n",
    "df.printSchema()\n",
    "row_count = df.count()\n",
    "num_columns = len(df.columns)\n",
    "print (row_count,num_columns)"
   ]
  },
  {
   "cell_type": "code",
   "execution_count": 17,
   "id": "61e85e50",
   "metadata": {
    "scrolled": true
   },
   "outputs": [
    {
     "name": "stderr",
     "output_type": "stream",
     "text": [
      "                                                                                \r"
     ]
    },
    {
     "data": {
      "text/html": [
       "<div>\n",
       "<style scoped>\n",
       "    .dataframe tbody tr th:only-of-type {\n",
       "        vertical-align: middle;\n",
       "    }\n",
       "\n",
       "    .dataframe tbody tr th {\n",
       "        vertical-align: top;\n",
       "    }\n",
       "\n",
       "    .dataframe thead th {\n",
       "        text-align: right;\n",
       "    }\n",
       "</style>\n",
       "<table border=\"1\" class=\"dataframe\">\n",
       "  <thead>\n",
       "    <tr style=\"text-align: right;\">\n",
       "      <th>summary</th>\n",
       "      <th>count</th>\n",
       "      <th>mean</th>\n",
       "      <th>stddev</th>\n",
       "      <th>min</th>\n",
       "      <th>25%</th>\n",
       "      <th>50%</th>\n",
       "      <th>75%</th>\n",
       "      <th>max</th>\n",
       "    </tr>\n",
       "  </thead>\n",
       "  <tbody>\n",
       "    <tr>\n",
       "      <th>Attrition_Flag</th>\n",
       "      <td>10127</td>\n",
       "      <td>None</td>\n",
       "      <td>None</td>\n",
       "      <td>Attrited Customer</td>\n",
       "      <td>None</td>\n",
       "      <td>None</td>\n",
       "      <td>None</td>\n",
       "      <td>Existing Customer</td>\n",
       "    </tr>\n",
       "    <tr>\n",
       "      <th>Customer_Age</th>\n",
       "      <td>10127</td>\n",
       "      <td>46.32596030413745</td>\n",
       "      <td>8.016814032549046</td>\n",
       "      <td>26</td>\n",
       "      <td>41</td>\n",
       "      <td>46</td>\n",
       "      <td>52</td>\n",
       "      <td>73</td>\n",
       "    </tr>\n",
       "    <tr>\n",
       "      <th>Gender</th>\n",
       "      <td>10127</td>\n",
       "      <td>None</td>\n",
       "      <td>None</td>\n",
       "      <td>F</td>\n",
       "      <td>None</td>\n",
       "      <td>None</td>\n",
       "      <td>None</td>\n",
       "      <td>Male</td>\n",
       "    </tr>\n",
       "    <tr>\n",
       "      <th>Dependent_count</th>\n",
       "      <td>10127</td>\n",
       "      <td>2.3462032191172115</td>\n",
       "      <td>1.29890834890379</td>\n",
       "      <td>0</td>\n",
       "      <td>1</td>\n",
       "      <td>2</td>\n",
       "      <td>3</td>\n",
       "      <td>5</td>\n",
       "    </tr>\n",
       "    <tr>\n",
       "      <th>Education_Level</th>\n",
       "      <td>10127</td>\n",
       "      <td>None</td>\n",
       "      <td>None</td>\n",
       "      <td>College</td>\n",
       "      <td>None</td>\n",
       "      <td>None</td>\n",
       "      <td>None</td>\n",
       "      <td>Unknown</td>\n",
       "    </tr>\n",
       "    <tr>\n",
       "      <th>Marital_Status</th>\n",
       "      <td>10127</td>\n",
       "      <td>None</td>\n",
       "      <td>None</td>\n",
       "      <td>Divorced</td>\n",
       "      <td>None</td>\n",
       "      <td>None</td>\n",
       "      <td>None</td>\n",
       "      <td>Unknown</td>\n",
       "    </tr>\n",
       "    <tr>\n",
       "      <th>Income_Category</th>\n",
       "      <td>10127</td>\n",
       "      <td>None</td>\n",
       "      <td>None</td>\n",
       "      <td>$120K +</td>\n",
       "      <td>None</td>\n",
       "      <td>None</td>\n",
       "      <td>None</td>\n",
       "      <td>Unknown</td>\n",
       "    </tr>\n",
       "    <tr>\n",
       "      <th>Card_Category</th>\n",
       "      <td>10127</td>\n",
       "      <td>None</td>\n",
       "      <td>None</td>\n",
       "      <td>Blue</td>\n",
       "      <td>None</td>\n",
       "      <td>None</td>\n",
       "      <td>None</td>\n",
       "      <td>Silver</td>\n",
       "    </tr>\n",
       "    <tr>\n",
       "      <th>Months_on_book</th>\n",
       "      <td>10127</td>\n",
       "      <td>35.928409203120374</td>\n",
       "      <td>7.98641633087208</td>\n",
       "      <td>13</td>\n",
       "      <td>31</td>\n",
       "      <td>36</td>\n",
       "      <td>40</td>\n",
       "      <td>56</td>\n",
       "    </tr>\n",
       "    <tr>\n",
       "      <th>Total_Relationship_Count</th>\n",
       "      <td>10127</td>\n",
       "      <td>3.8125802310654686</td>\n",
       "      <td>1.55440786533883</td>\n",
       "      <td>1</td>\n",
       "      <td>3</td>\n",
       "      <td>4</td>\n",
       "      <td>5</td>\n",
       "      <td>6</td>\n",
       "    </tr>\n",
       "    <tr>\n",
       "      <th>Months_Inactive_12_mon</th>\n",
       "      <td>10127</td>\n",
       "      <td>2.3411671768539546</td>\n",
       "      <td>1.0106223994182844</td>\n",
       "      <td>0</td>\n",
       "      <td>2</td>\n",
       "      <td>2</td>\n",
       "      <td>3</td>\n",
       "      <td>6</td>\n",
       "    </tr>\n",
       "    <tr>\n",
       "      <th>Contacts_Count_12_mon</th>\n",
       "      <td>10127</td>\n",
       "      <td>2.4553174681544387</td>\n",
       "      <td>1.1062251426359249</td>\n",
       "      <td>0</td>\n",
       "      <td>2</td>\n",
       "      <td>2</td>\n",
       "      <td>3</td>\n",
       "      <td>6</td>\n",
       "    </tr>\n",
       "    <tr>\n",
       "      <th>Credit_Limit</th>\n",
       "      <td>10127</td>\n",
       "      <td>8631.953698034848</td>\n",
       "      <td>9088.776650223148</td>\n",
       "      <td>1438.3</td>\n",
       "      <td>2555.0</td>\n",
       "      <td>4549.0</td>\n",
       "      <td>11067.0</td>\n",
       "      <td>34516.0</td>\n",
       "    </tr>\n",
       "    <tr>\n",
       "      <th>Total_Revolving_Bal</th>\n",
       "      <td>10127</td>\n",
       "      <td>1162.8140614199665</td>\n",
       "      <td>814.9873352357533</td>\n",
       "      <td>0</td>\n",
       "      <td>357</td>\n",
       "      <td>1276</td>\n",
       "      <td>1784</td>\n",
       "      <td>2517</td>\n",
       "    </tr>\n",
       "    <tr>\n",
       "      <th>Avg_Open_To_Buy</th>\n",
       "      <td>10127</td>\n",
       "      <td>7469.139636614887</td>\n",
       "      <td>9090.685323679114</td>\n",
       "      <td>3.0</td>\n",
       "      <td>1322.0</td>\n",
       "      <td>3472.0</td>\n",
       "      <td>9857.0</td>\n",
       "      <td>34516.0</td>\n",
       "    </tr>\n",
       "    <tr>\n",
       "      <th>Total_Amt_Chng_Q4_Q1</th>\n",
       "      <td>10127</td>\n",
       "      <td>0.7599406536980376</td>\n",
       "      <td>0.2192067692307027</td>\n",
       "      <td>0.0</td>\n",
       "      <td>0.631</td>\n",
       "      <td>0.736</td>\n",
       "      <td>0.859</td>\n",
       "      <td>3.397</td>\n",
       "    </tr>\n",
       "    <tr>\n",
       "      <th>Total_Trans_Amt</th>\n",
       "      <td>10127</td>\n",
       "      <td>4404.086303939963</td>\n",
       "      <td>3397.129253557085</td>\n",
       "      <td>510</td>\n",
       "      <td>2155</td>\n",
       "      <td>3899</td>\n",
       "      <td>4741</td>\n",
       "      <td>18484</td>\n",
       "    </tr>\n",
       "    <tr>\n",
       "      <th>Total_Trans_Ct</th>\n",
       "      <td>10127</td>\n",
       "      <td>64.85868062413589</td>\n",
       "      <td>23.47372951788508</td>\n",
       "      <td>10</td>\n",
       "      <td>45.0</td>\n",
       "      <td>67.0</td>\n",
       "      <td>81.0</td>\n",
       "      <td>aa</td>\n",
       "    </tr>\n",
       "    <tr>\n",
       "      <th>Total_Ct_Chng_Q4_Q1</th>\n",
       "      <td>10127</td>\n",
       "      <td>0.7122223758269962</td>\n",
       "      <td>0.23808609133294137</td>\n",
       "      <td>0.0</td>\n",
       "      <td>0.581</td>\n",
       "      <td>0.702</td>\n",
       "      <td>0.818</td>\n",
       "      <td>3.714</td>\n",
       "    </tr>\n",
       "    <tr>\n",
       "      <th>Avg_Utilization_Ratio</th>\n",
       "      <td>10127</td>\n",
       "      <td>0.2748970079984201</td>\n",
       "      <td>0.2756899974192098</td>\n",
       "      <td>0.0</td>\n",
       "      <td>0.022</td>\n",
       "      <td>0.175</td>\n",
       "      <td>0.503</td>\n",
       "      <td>0.999</td>\n",
       "    </tr>\n",
       "  </tbody>\n",
       "</table>\n",
       "</div>"
      ],
      "text/plain": [
       "summary                   count                mean               stddev  \\\n",
       "Attrition_Flag            10127                None                 None   \n",
       "Customer_Age              10127   46.32596030413745    8.016814032549046   \n",
       "Gender                    10127                None                 None   \n",
       "Dependent_count           10127  2.3462032191172115     1.29890834890379   \n",
       "Education_Level           10127                None                 None   \n",
       "Marital_Status            10127                None                 None   \n",
       "Income_Category           10127                None                 None   \n",
       "Card_Category             10127                None                 None   \n",
       "Months_on_book            10127  35.928409203120374     7.98641633087208   \n",
       "Total_Relationship_Count  10127  3.8125802310654686     1.55440786533883   \n",
       "Months_Inactive_12_mon    10127  2.3411671768539546   1.0106223994182844   \n",
       "Contacts_Count_12_mon     10127  2.4553174681544387   1.1062251426359249   \n",
       "Credit_Limit              10127   8631.953698034848    9088.776650223148   \n",
       "Total_Revolving_Bal       10127  1162.8140614199665    814.9873352357533   \n",
       "Avg_Open_To_Buy           10127   7469.139636614887    9090.685323679114   \n",
       "Total_Amt_Chng_Q4_Q1      10127  0.7599406536980376   0.2192067692307027   \n",
       "Total_Trans_Amt           10127   4404.086303939963    3397.129253557085   \n",
       "Total_Trans_Ct            10127   64.85868062413589    23.47372951788508   \n",
       "Total_Ct_Chng_Q4_Q1       10127  0.7122223758269962  0.23808609133294137   \n",
       "Avg_Utilization_Ratio     10127  0.2748970079984201   0.2756899974192098   \n",
       "\n",
       "summary                                 min     25%     50%      75%  \\\n",
       "Attrition_Flag            Attrited Customer    None    None     None   \n",
       "Customer_Age                             26      41      46       52   \n",
       "Gender                                    F    None    None     None   \n",
       "Dependent_count                           0       1       2        3   \n",
       "Education_Level                     College    None    None     None   \n",
       "Marital_Status                     Divorced    None    None     None   \n",
       "Income_Category                     $120K +    None    None     None   \n",
       "Card_Category                          Blue    None    None     None   \n",
       "Months_on_book                           13      31      36       40   \n",
       "Total_Relationship_Count                  1       3       4        5   \n",
       "Months_Inactive_12_mon                    0       2       2        3   \n",
       "Contacts_Count_12_mon                     0       2       2        3   \n",
       "Credit_Limit                         1438.3  2555.0  4549.0  11067.0   \n",
       "Total_Revolving_Bal                       0     357    1276     1784   \n",
       "Avg_Open_To_Buy                         3.0  1322.0  3472.0   9857.0   \n",
       "Total_Amt_Chng_Q4_Q1                    0.0   0.631   0.736    0.859   \n",
       "Total_Trans_Amt                         510    2155    3899     4741   \n",
       "Total_Trans_Ct                           10    45.0    67.0     81.0   \n",
       "Total_Ct_Chng_Q4_Q1                     0.0   0.581   0.702    0.818   \n",
       "Avg_Utilization_Ratio                   0.0   0.022   0.175    0.503   \n",
       "\n",
       "summary                                 max  \n",
       "Attrition_Flag            Existing Customer  \n",
       "Customer_Age                             73  \n",
       "Gender                                 Male  \n",
       "Dependent_count                           5  \n",
       "Education_Level                     Unknown  \n",
       "Marital_Status                      Unknown  \n",
       "Income_Category                     Unknown  \n",
       "Card_Category                        Silver  \n",
       "Months_on_book                           56  \n",
       "Total_Relationship_Count                  6  \n",
       "Months_Inactive_12_mon                    6  \n",
       "Contacts_Count_12_mon                     6  \n",
       "Credit_Limit                        34516.0  \n",
       "Total_Revolving_Bal                    2517  \n",
       "Avg_Open_To_Buy                     34516.0  \n",
       "Total_Amt_Chng_Q4_Q1                  3.397  \n",
       "Total_Trans_Amt                       18484  \n",
       "Total_Trans_Ct                           aa  \n",
       "Total_Ct_Chng_Q4_Q1                   3.714  \n",
       "Avg_Utilization_Ratio                 0.999  "
      ]
     },
     "execution_count": 17,
     "metadata": {},
     "output_type": "execute_result"
    }
   ],
   "source": [
    "from pyspark.sql.functions import col, median, when\n",
    "\n",
    "# Calculate Avg_Utilization_Ratio Median of Ratio column\n",
    "median_value = df.selectExpr('percentile_approx(Avg_Utilization_Ratio, 0.5)').collect()[0][0]\n",
    "\n",
    "# Using the fill method to fill in missing values as the median\n",
    "df = df.withColumn('Avg_Utilization_Ratio', when(col('Avg_Utilization_Ratio').isNull(), median_value).otherwise(col('Avg_Utilization_Ratio')))\n",
    "\n",
    "summary_df = df.summary().toPandas()\n",
    "\n",
    "summary_df = summary_df.transpose()\n",
    "new_header = summary_df.iloc[0]\n",
    "summary_df = summary_df[1:]\n",
    "summary_df.columns = new_header\n",
    "\n",
    "summary_df"
   ]
  },
  {
   "cell_type": "code",
   "execution_count": 18,
   "id": "87ff1879",
   "metadata": {},
   "outputs": [
    {
     "data": {
      "image/png": "[encoded data removed]",
      "text/plain": [
       "<Figure size 640x480 with 1 Axes>"
      ]
     },
     "metadata": {},
     "output_type": "display_data"
    }
   ],
   "source": [
    "# Use the withColumn and when functions to set Attachment_ Convert the value of the Flag column to 0 and 1\n",
    "df = df.withColumn(\"Attrition_Flag\", when(df[\"Attrition_Flag\"] == \"Existing Customer\", 0).otherwise(1))\n",
    "\n",
    "#show the results\n",
    "Attrition_counts = df.groupBy('Attrition_Flag').count().toPandas()\n",
    "\n",
    "Attrition_counts_dict = dict(zip(Attrition_counts['Attrition_Flag'], Attrition_counts['count']))\n",
    "\n",
    "plt.pie(Attrition_counts_dict.values(), labels=Attrition_counts_dict.keys(), autopct='%1.1f%%')\n",
    "plt.show()"
   ]
  },
  {
   "cell_type": "code",
   "execution_count": 19,
   "id": "e00fc453",
   "metadata": {},
   "outputs": [
    {
     "name": "stderr",
     "output_type": "stream",
     "text": [
      "23/10/05 03:25:16 WARN InstanceBuilder: Failed to load implementation from:dev.ludovic.netlib.blas.JNIBLAS\n",
      "                                                                                \r"
     ]
    },
    {
     "data": {
      "image/png": "[encoded data removed]",
      "text/plain": [
       "<Figure size 1000x800 with 2 Axes>"
      ]
     },
     "metadata": {},
     "output_type": "display_data"
    }
   ],
   "source": [
    "from pyspark.sql import SparkSession\n",
    "from pyspark.ml.feature import VectorAssembler\n",
    "from pyspark.ml.stat import Correlation\n",
    "from pyspark.sql.types import StringType\n",
    "\n",
    "numeric_data_types = ['int', 'double', 'float', 'long']\n",
    "\n",
    "# Select a subset that only contains numerical columns\n",
    "numeric_columns = [col_name for col_name, data_type in df.dtypes if data_type.lower() in numeric_data_types]\n",
    "df_numeric = df.select(numeric_columns)\n",
    "\n",
    "from pyspark.ml.feature import VectorAssembler\n",
    "\n",
    "vector_assembler = VectorAssembler(inputCols=df_numeric.columns, outputCol=\"features\")\n",
    "df_assembled = vector_assembler.transform(df_numeric).select(\"features\")\n",
    "\n",
    "# Using Correlation to Calculate Correlation\n",
    "from pyspark.ml.stat import Correlation\n",
    "\n",
    "correlation_matrix = Correlation.corr(df_assembled, \"features\").head()[0]\n",
    "\n",
    "# Convert the correlation matrix to Pandas DataFrame for display\n",
    "import pandas as pd\n",
    "\n",
    "correlation_matrix_df = pd.DataFrame(correlation_matrix.toArray(), columns=df_numeric.columns, index=df_numeric.columns)\n",
    "\n",
    "# Display correlation matrix\n",
    "\n",
    "sns.set(style=\"white\")\n",
    "plt.figure(figsize=(10, 8))\n",
    "sns.heatmap(correlation_matrix_df, annot=True, cmap=\"coolwarm\", square=True)\n",
    "\n",
    "plt.title(\"Correlation Matrix Heatmap\")\n",
    "\n",
    "plt.show()"
   ]
  },
  {
   "cell_type": "code",
   "execution_count": 20,
   "id": "07de78d0",
   "metadata": {},
   "outputs": [],
   "source": [
    "# 3.2 Cleaning the data"
   ]
  },
  {
   "cell_type": "code",
   "execution_count": 21,
   "id": "9dc71a5a",
   "metadata": {},
   "outputs": [
    {
     "name": "stderr",
     "output_type": "stream",
     "text": [
      "                                                                                \r"
     ]
    },
    {
     "data": {
      "text/html": [
       "<div>\n",
       "<style scoped>\n",
       "    .dataframe tbody tr th:only-of-type {\n",
       "        vertical-align: middle;\n",
       "    }\n",
       "\n",
       "    .dataframe tbody tr th {\n",
       "        vertical-align: top;\n",
       "    }\n",
       "\n",
       "    .dataframe thead th {\n",
       "        text-align: right;\n",
       "    }\n",
       "</style>\n",
       "<table border=\"1\" class=\"dataframe\">\n",
       "  <thead>\n",
       "    <tr style=\"text-align: right;\">\n",
       "      <th>summary</th>\n",
       "      <th>count</th>\n",
       "      <th>mean</th>\n",
       "      <th>stddev</th>\n",
       "      <th>min</th>\n",
       "      <th>25%</th>\n",
       "      <th>50%</th>\n",
       "      <th>75%</th>\n",
       "      <th>max</th>\n",
       "    </tr>\n",
       "  </thead>\n",
       "  <tbody>\n",
       "    <tr>\n",
       "      <th>Attrition_Flag</th>\n",
       "      <td>10127</td>\n",
       "      <td>0.1606596227905599</td>\n",
       "      <td>0.3672348368711593</td>\n",
       "      <td>0</td>\n",
       "      <td>0</td>\n",
       "      <td>0</td>\n",
       "      <td>0</td>\n",
       "      <td>1</td>\n",
       "    </tr>\n",
       "    <tr>\n",
       "      <th>Customer_Age</th>\n",
       "      <td>10127</td>\n",
       "      <td>46.32596030413745</td>\n",
       "      <td>8.016814032549046</td>\n",
       "      <td>26</td>\n",
       "      <td>41</td>\n",
       "      <td>46</td>\n",
       "      <td>52</td>\n",
       "      <td>73</td>\n",
       "    </tr>\n",
       "    <tr>\n",
       "      <th>Gender</th>\n",
       "      <td>10127</td>\n",
       "      <td>None</td>\n",
       "      <td>None</td>\n",
       "      <td>F</td>\n",
       "      <td>None</td>\n",
       "      <td>None</td>\n",
       "      <td>None</td>\n",
       "      <td>Male</td>\n",
       "    </tr>\n",
       "    <tr>\n",
       "      <th>Dependent_count</th>\n",
       "      <td>10127</td>\n",
       "      <td>2.3462032191172115</td>\n",
       "      <td>1.29890834890379</td>\n",
       "      <td>0</td>\n",
       "      <td>1</td>\n",
       "      <td>2</td>\n",
       "      <td>3</td>\n",
       "      <td>5</td>\n",
       "    </tr>\n",
       "    <tr>\n",
       "      <th>Education_Level</th>\n",
       "      <td>10127</td>\n",
       "      <td>None</td>\n",
       "      <td>None</td>\n",
       "      <td>College</td>\n",
       "      <td>None</td>\n",
       "      <td>None</td>\n",
       "      <td>None</td>\n",
       "      <td>Unknown</td>\n",
       "    </tr>\n",
       "    <tr>\n",
       "      <th>Marital_Status</th>\n",
       "      <td>10127</td>\n",
       "      <td>None</td>\n",
       "      <td>None</td>\n",
       "      <td>Divorced</td>\n",
       "      <td>None</td>\n",
       "      <td>None</td>\n",
       "      <td>None</td>\n",
       "      <td>Unknown</td>\n",
       "    </tr>\n",
       "    <tr>\n",
       "      <th>Income_Category</th>\n",
       "      <td>10127</td>\n",
       "      <td>None</td>\n",
       "      <td>None</td>\n",
       "      <td>$120K +</td>\n",
       "      <td>None</td>\n",
       "      <td>None</td>\n",
       "      <td>None</td>\n",
       "      <td>Unknown</td>\n",
       "    </tr>\n",
       "    <tr>\n",
       "      <th>Card_Category</th>\n",
       "      <td>10127</td>\n",
       "      <td>None</td>\n",
       "      <td>None</td>\n",
       "      <td>Blue</td>\n",
       "      <td>None</td>\n",
       "      <td>None</td>\n",
       "      <td>None</td>\n",
       "      <td>Silver</td>\n",
       "    </tr>\n",
       "    <tr>\n",
       "      <th>Months_on_book</th>\n",
       "      <td>10127</td>\n",
       "      <td>35.928409203120374</td>\n",
       "      <td>7.98641633087208</td>\n",
       "      <td>13</td>\n",
       "      <td>31</td>\n",
       "      <td>36</td>\n",
       "      <td>40</td>\n",
       "      <td>56</td>\n",
       "    </tr>\n",
       "    <tr>\n",
       "      <th>Total_Relationship_Count</th>\n",
       "      <td>10127</td>\n",
       "      <td>3.8125802310654686</td>\n",
       "      <td>1.55440786533883</td>\n",
       "      <td>1</td>\n",
       "      <td>3</td>\n",
       "      <td>4</td>\n",
       "      <td>5</td>\n",
       "      <td>6</td>\n",
       "    </tr>\n",
       "    <tr>\n",
       "      <th>Months_Inactive_12_mon</th>\n",
       "      <td>10127</td>\n",
       "      <td>2.3411671768539546</td>\n",
       "      <td>1.0106223994182844</td>\n",
       "      <td>0</td>\n",
       "      <td>2</td>\n",
       "      <td>2</td>\n",
       "      <td>3</td>\n",
       "      <td>6</td>\n",
       "    </tr>\n",
       "    <tr>\n",
       "      <th>Contacts_Count_12_mon</th>\n",
       "      <td>10127</td>\n",
       "      <td>2.4553174681544387</td>\n",
       "      <td>1.1062251426359249</td>\n",
       "      <td>0</td>\n",
       "      <td>2</td>\n",
       "      <td>2</td>\n",
       "      <td>3</td>\n",
       "      <td>6</td>\n",
       "    </tr>\n",
       "    <tr>\n",
       "      <th>Credit_Limit</th>\n",
       "      <td>10127</td>\n",
       "      <td>8631.953698034848</td>\n",
       "      <td>9088.776650223148</td>\n",
       "      <td>1438.3</td>\n",
       "      <td>2555.0</td>\n",
       "      <td>4549.0</td>\n",
       "      <td>11067.0</td>\n",
       "      <td>34516.0</td>\n",
       "    </tr>\n",
       "    <tr>\n",
       "      <th>Total_Revolving_Bal</th>\n",
       "      <td>10127</td>\n",
       "      <td>1162.8140614199665</td>\n",
       "      <td>814.9873352357533</td>\n",
       "      <td>0</td>\n",
       "      <td>357</td>\n",
       "      <td>1276</td>\n",
       "      <td>1784</td>\n",
       "      <td>2517</td>\n",
       "    </tr>\n",
       "    <tr>\n",
       "      <th>Avg_Open_To_Buy</th>\n",
       "      <td>10127</td>\n",
       "      <td>7469.139636614887</td>\n",
       "      <td>9090.685323679114</td>\n",
       "      <td>3.0</td>\n",
       "      <td>1322.0</td>\n",
       "      <td>3472.0</td>\n",
       "      <td>9857.0</td>\n",
       "      <td>34516.0</td>\n",
       "    </tr>\n",
       "    <tr>\n",
       "      <th>Total_Amt_Chng_Q4_Q1</th>\n",
       "      <td>10127</td>\n",
       "      <td>0.7599406536980376</td>\n",
       "      <td>0.2192067692307027</td>\n",
       "      <td>0.0</td>\n",
       "      <td>0.631</td>\n",
       "      <td>0.736</td>\n",
       "      <td>0.859</td>\n",
       "      <td>3.397</td>\n",
       "    </tr>\n",
       "    <tr>\n",
       "      <th>Total_Trans_Amt</th>\n",
       "      <td>10127</td>\n",
       "      <td>4404.086303939963</td>\n",
       "      <td>3397.129253557085</td>\n",
       "      <td>510</td>\n",
       "      <td>2155</td>\n",
       "      <td>3899</td>\n",
       "      <td>4741</td>\n",
       "      <td>18484</td>\n",
       "    </tr>\n",
       "    <tr>\n",
       "      <th>Total_Trans_Ct</th>\n",
       "      <td>10127</td>\n",
       "      <td>64.85868062413589</td>\n",
       "      <td>23.47372951788508</td>\n",
       "      <td>10</td>\n",
       "      <td>45.0</td>\n",
       "      <td>67.0</td>\n",
       "      <td>81.0</td>\n",
       "      <td>aa</td>\n",
       "    </tr>\n",
       "    <tr>\n",
       "      <th>Total_Ct_Chng_Q4_Q1</th>\n",
       "      <td>10127</td>\n",
       "      <td>0.7122223758269962</td>\n",
       "      <td>0.23808609133294137</td>\n",
       "      <td>0.0</td>\n",
       "      <td>0.581</td>\n",
       "      <td>0.702</td>\n",
       "      <td>0.818</td>\n",
       "      <td>3.714</td>\n",
       "    </tr>\n",
       "    <tr>\n",
       "      <th>Avg_Utilization_Ratio</th>\n",
       "      <td>10127</td>\n",
       "      <td>0.2748970079984201</td>\n",
       "      <td>0.2756899974192098</td>\n",
       "      <td>0.0</td>\n",
       "      <td>0.022</td>\n",
       "      <td>0.175</td>\n",
       "      <td>0.503</td>\n",
       "      <td>0.999</td>\n",
       "    </tr>\n",
       "  </tbody>\n",
       "</table>\n",
       "</div>"
      ],
      "text/plain": [
       "summary                   count                mean               stddev  \\\n",
       "Attrition_Flag            10127  0.1606596227905599   0.3672348368711593   \n",
       "Customer_Age              10127   46.32596030413745    8.016814032549046   \n",
       "Gender                    10127                None                 None   \n",
       "Dependent_count           10127  2.3462032191172115     1.29890834890379   \n",
       "Education_Level           10127                None                 None   \n",
       "Marital_Status            10127                None                 None   \n",
       "Income_Category           10127                None                 None   \n",
       "Card_Category             10127                None                 None   \n",
       "Months_on_book            10127  35.928409203120374     7.98641633087208   \n",
       "Total_Relationship_Count  10127  3.8125802310654686     1.55440786533883   \n",
       "Months_Inactive_12_mon    10127  2.3411671768539546   1.0106223994182844   \n",
       "Contacts_Count_12_mon     10127  2.4553174681544387   1.1062251426359249   \n",
       "Credit_Limit              10127   8631.953698034848    9088.776650223148   \n",
       "Total_Revolving_Bal       10127  1162.8140614199665    814.9873352357533   \n",
       "Avg_Open_To_Buy           10127   7469.139636614887    9090.685323679114   \n",
       "Total_Amt_Chng_Q4_Q1      10127  0.7599406536980376   0.2192067692307027   \n",
       "Total_Trans_Amt           10127   4404.086303939963    3397.129253557085   \n",
       "Total_Trans_Ct            10127   64.85868062413589    23.47372951788508   \n",
       "Total_Ct_Chng_Q4_Q1       10127  0.7122223758269962  0.23808609133294137   \n",
       "Avg_Utilization_Ratio     10127  0.2748970079984201   0.2756899974192098   \n",
       "\n",
       "summary                        min     25%     50%      75%      max  \n",
       "Attrition_Flag                   0       0       0        0        1  \n",
       "Customer_Age                    26      41      46       52       73  \n",
       "Gender                           F    None    None     None     Male  \n",
       "Dependent_count                  0       1       2        3        5  \n",
       "Education_Level            College    None    None     None  Unknown  \n",
       "Marital_Status            Divorced    None    None     None  Unknown  \n",
       "Income_Category            $120K +    None    None     None  Unknown  \n",
       "Card_Category                 Blue    None    None     None   Silver  \n",
       "Months_on_book                  13      31      36       40       56  \n",
       "Total_Relationship_Count         1       3       4        5        6  \n",
       "Months_Inactive_12_mon           0       2       2        3        6  \n",
       "Contacts_Count_12_mon            0       2       2        3        6  \n",
       "Credit_Limit                1438.3  2555.0  4549.0  11067.0  34516.0  \n",
       "Total_Revolving_Bal              0     357    1276     1784     2517  \n",
       "Avg_Open_To_Buy                3.0  1322.0  3472.0   9857.0  34516.0  \n",
       "Total_Amt_Chng_Q4_Q1           0.0   0.631   0.736    0.859    3.397  \n",
       "Total_Trans_Amt                510    2155    3899     4741    18484  \n",
       "Total_Trans_Ct                  10    45.0    67.0     81.0       aa  \n",
       "Total_Ct_Chng_Q4_Q1            0.0   0.581   0.702    0.818    3.714  \n",
       "Avg_Utilization_Ratio          0.0   0.022   0.175    0.503    0.999  "
      ]
     },
     "execution_count": 21,
     "metadata": {},
     "output_type": "execute_result"
    }
   ],
   "source": [
    "# Convert summary results to Pandas DataFrame\n",
    "summary_df = df.summary().toPandas()\n",
    "\n",
    "summary_df = summary_df.transpose()\n",
    "new_header = summary_df.iloc[0]\n",
    "summary_df = summary_df[1:]\n",
    "summary_df.columns = new_header\n",
    "\n",
    "summary_df"
   ]
  },
  {
   "cell_type": "code",
   "execution_count": 22,
   "id": "e572ad07",
   "metadata": {},
   "outputs": [
    {
     "data": {
      "image/png": "[encoded data removed]",
      "text/plain": [
       "<Figure size 640x480 with 1 Axes>"
      ]
     },
     "metadata": {},
     "output_type": "display_data"
    }
   ],
   "source": [
    "df = df.withColumn('Gender', when(df['Gender'] == 'Male', 'M').otherwise(df['Gender']))\n",
    "sexArr = np.array(df.select('Gender').collect())\n",
    "plt.hist(sexArr)\n",
    "plt.show()"
   ]
  },
  {
   "cell_type": "code",
   "execution_count": 23,
   "id": "54340e1c",
   "metadata": {},
   "outputs": [
    {
     "data": {
      "image/png": "[encoded data removed]",
      "text/plain": [
       "<Figure size 640x480 with 1 Axes>"
      ]
     },
     "metadata": {},
     "output_type": "display_data"
    }
   ],
   "source": [
    "df = df.withColumn('Gender', when(col('Gender') == 'F', 1).when(col('Gender') == 'M', 0).otherwise(col('Gender')))\n",
    "sexArr = np.array(df.select('Gender').collect())\n",
    "plt.hist(sexArr)\n",
    "plt.show()"
   ]
  },
  {
   "cell_type": "code",
   "execution_count": 24,
   "id": "31e5ba05",
   "metadata": {},
   "outputs": [],
   "source": [
    "from pyspark.sql import SparkSession\n",
    "from pyspark.sql.functions import col, when\n",
    "from pyspark.sql.window import Window\n",
    "from pyspark.sql.functions import percentile_approx\n",
    "\n",
    "# Replace 'aa' with missing value (None)\n",
    "df = df.withColumn('Total_Trans_Ct', when(col('Total_Trans_Ct') == 'aa', None).otherwise(col('Total_Trans_Ct')))"
   ]
  },
  {
   "cell_type": "code",
   "execution_count": 25,
   "id": "d363d3ff",
   "metadata": {},
   "outputs": [
    {
     "name": "stdout",
     "output_type": "stream",
     "text": [
      "67.0\n"
     ]
    }
   ],
   "source": [
    "# Calculate 'Total'_ Trans_ Median of Ct 'column\n",
    "median_value = df.selectExpr('percentile_approx(Total_Trans_Ct, 0.5)').collect()[0][0]\n",
    "\n",
    "print(median_value)"
   ]
  },
  {
   "cell_type": "code",
   "execution_count": 26,
   "id": "07c4bf56",
   "metadata": {},
   "outputs": [
    {
     "name": "stderr",
     "output_type": "stream",
     "text": [
      "                                                                                \r"
     ]
    },
    {
     "data": {
      "text/html": [
       "<div>\n",
       "<style scoped>\n",
       "    .dataframe tbody tr th:only-of-type {\n",
       "        vertical-align: middle;\n",
       "    }\n",
       "\n",
       "    .dataframe tbody tr th {\n",
       "        vertical-align: top;\n",
       "    }\n",
       "\n",
       "    .dataframe thead th {\n",
       "        text-align: right;\n",
       "    }\n",
       "</style>\n",
       "<table border=\"1\" class=\"dataframe\">\n",
       "  <thead>\n",
       "    <tr style=\"text-align: right;\">\n",
       "      <th></th>\n",
       "      <th>summary</th>\n",
       "      <th>Attrition_Flag</th>\n",
       "      <th>Customer_Age</th>\n",
       "      <th>Gender</th>\n",
       "      <th>Dependent_count</th>\n",
       "      <th>Education_Level</th>\n",
       "      <th>Marital_Status</th>\n",
       "      <th>Income_Category</th>\n",
       "      <th>Card_Category</th>\n",
       "      <th>Months_on_book</th>\n",
       "      <th>...</th>\n",
       "      <th>Months_Inactive_12_mon</th>\n",
       "      <th>Contacts_Count_12_mon</th>\n",
       "      <th>Credit_Limit</th>\n",
       "      <th>Total_Revolving_Bal</th>\n",
       "      <th>Avg_Open_To_Buy</th>\n",
       "      <th>Total_Amt_Chng_Q4_Q1</th>\n",
       "      <th>Total_Trans_Amt</th>\n",
       "      <th>Total_Trans_Ct</th>\n",
       "      <th>Total_Ct_Chng_Q4_Q1</th>\n",
       "      <th>Avg_Utilization_Ratio</th>\n",
       "    </tr>\n",
       "  </thead>\n",
       "  <tbody>\n",
       "    <tr>\n",
       "      <th>0</th>\n",
       "      <td>count</td>\n",
       "      <td>10127</td>\n",
       "      <td>10127</td>\n",
       "      <td>10127</td>\n",
       "      <td>10127</td>\n",
       "      <td>10127</td>\n",
       "      <td>10127</td>\n",
       "      <td>10127</td>\n",
       "      <td>10127</td>\n",
       "      <td>10127</td>\n",
       "      <td>...</td>\n",
       "      <td>10127</td>\n",
       "      <td>10127</td>\n",
       "      <td>10127</td>\n",
       "      <td>10127</td>\n",
       "      <td>10127</td>\n",
       "      <td>10127</td>\n",
       "      <td>10127</td>\n",
       "      <td>10127</td>\n",
       "      <td>10127</td>\n",
       "      <td>10127</td>\n",
       "    </tr>\n",
       "    <tr>\n",
       "      <th>1</th>\n",
       "      <td>mean</td>\n",
       "      <td>0.1606596227905599</td>\n",
       "      <td>46.32596030413745</td>\n",
       "      <td>0.5290806754221389</td>\n",
       "      <td>2.3462032191172115</td>\n",
       "      <td>None</td>\n",
       "      <td>None</td>\n",
       "      <td>None</td>\n",
       "      <td>None</td>\n",
       "      <td>35.928409203120374</td>\n",
       "      <td>...</td>\n",
       "      <td>2.3411671768539546</td>\n",
       "      <td>2.4553174681544387</td>\n",
       "      <td>8631.953698034848</td>\n",
       "      <td>1162.8140614199665</td>\n",
       "      <td>7469.139636614887</td>\n",
       "      <td>0.7599406536980376</td>\n",
       "      <td>4404.086303939963</td>\n",
       "      <td>64.85889207070208</td>\n",
       "      <td>0.7122223758269962</td>\n",
       "      <td>0.2748970079984201</td>\n",
       "    </tr>\n",
       "    <tr>\n",
       "      <th>2</th>\n",
       "      <td>stddev</td>\n",
       "      <td>0.3672348368711593</td>\n",
       "      <td>8.016814032549046</td>\n",
       "      <td>0.4991782444381386</td>\n",
       "      <td>1.29890834890379</td>\n",
       "      <td>None</td>\n",
       "      <td>None</td>\n",
       "      <td>None</td>\n",
       "      <td>None</td>\n",
       "      <td>7.98641633087208</td>\n",
       "      <td>...</td>\n",
       "      <td>1.0106223994182844</td>\n",
       "      <td>1.1062251426359249</td>\n",
       "      <td>9088.776650223148</td>\n",
       "      <td>814.9873352357533</td>\n",
       "      <td>9090.685323679114</td>\n",
       "      <td>0.2192067692307027</td>\n",
       "      <td>3397.129253557085</td>\n",
       "      <td>23.472580051983318</td>\n",
       "      <td>0.23808609133294137</td>\n",
       "      <td>0.2756899974192098</td>\n",
       "    </tr>\n",
       "    <tr>\n",
       "      <th>3</th>\n",
       "      <td>min</td>\n",
       "      <td>0</td>\n",
       "      <td>26</td>\n",
       "      <td>0</td>\n",
       "      <td>0</td>\n",
       "      <td>College</td>\n",
       "      <td>Divorced</td>\n",
       "      <td>$120K +</td>\n",
       "      <td>Blue</td>\n",
       "      <td>13</td>\n",
       "      <td>...</td>\n",
       "      <td>0</td>\n",
       "      <td>0</td>\n",
       "      <td>1438.3</td>\n",
       "      <td>0</td>\n",
       "      <td>3.0</td>\n",
       "      <td>0.0</td>\n",
       "      <td>510</td>\n",
       "      <td>10</td>\n",
       "      <td>0.0</td>\n",
       "      <td>0.0</td>\n",
       "    </tr>\n",
       "    <tr>\n",
       "      <th>4</th>\n",
       "      <td>25%</td>\n",
       "      <td>0</td>\n",
       "      <td>41</td>\n",
       "      <td>0.0</td>\n",
       "      <td>1</td>\n",
       "      <td>None</td>\n",
       "      <td>None</td>\n",
       "      <td>None</td>\n",
       "      <td>None</td>\n",
       "      <td>31</td>\n",
       "      <td>...</td>\n",
       "      <td>2</td>\n",
       "      <td>2</td>\n",
       "      <td>2555.0</td>\n",
       "      <td>357</td>\n",
       "      <td>1322.0</td>\n",
       "      <td>0.631</td>\n",
       "      <td>2155</td>\n",
       "      <td>45.0</td>\n",
       "      <td>0.581</td>\n",
       "      <td>0.022</td>\n",
       "    </tr>\n",
       "    <tr>\n",
       "      <th>5</th>\n",
       "      <td>50%</td>\n",
       "      <td>0</td>\n",
       "      <td>46</td>\n",
       "      <td>1.0</td>\n",
       "      <td>2</td>\n",
       "      <td>None</td>\n",
       "      <td>None</td>\n",
       "      <td>None</td>\n",
       "      <td>None</td>\n",
       "      <td>36</td>\n",
       "      <td>...</td>\n",
       "      <td>2</td>\n",
       "      <td>2</td>\n",
       "      <td>4549.0</td>\n",
       "      <td>1276</td>\n",
       "      <td>3472.0</td>\n",
       "      <td>0.736</td>\n",
       "      <td>3899</td>\n",
       "      <td>67.0</td>\n",
       "      <td>0.702</td>\n",
       "      <td>0.175</td>\n",
       "    </tr>\n",
       "    <tr>\n",
       "      <th>6</th>\n",
       "      <td>75%</td>\n",
       "      <td>0</td>\n",
       "      <td>52</td>\n",
       "      <td>1.0</td>\n",
       "      <td>3</td>\n",
       "      <td>None</td>\n",
       "      <td>None</td>\n",
       "      <td>None</td>\n",
       "      <td>None</td>\n",
       "      <td>40</td>\n",
       "      <td>...</td>\n",
       "      <td>3</td>\n",
       "      <td>3</td>\n",
       "      <td>11067.0</td>\n",
       "      <td>1784</td>\n",
       "      <td>9857.0</td>\n",
       "      <td>0.859</td>\n",
       "      <td>4741</td>\n",
       "      <td>81.0</td>\n",
       "      <td>0.818</td>\n",
       "      <td>0.503</td>\n",
       "    </tr>\n",
       "    <tr>\n",
       "      <th>7</th>\n",
       "      <td>max</td>\n",
       "      <td>1</td>\n",
       "      <td>73</td>\n",
       "      <td>1</td>\n",
       "      <td>5</td>\n",
       "      <td>Unknown</td>\n",
       "      <td>Unknown</td>\n",
       "      <td>Unknown</td>\n",
       "      <td>Silver</td>\n",
       "      <td>56</td>\n",
       "      <td>...</td>\n",
       "      <td>6</td>\n",
       "      <td>6</td>\n",
       "      <td>34516.0</td>\n",
       "      <td>2517</td>\n",
       "      <td>34516.0</td>\n",
       "      <td>3.397</td>\n",
       "      <td>18484</td>\n",
       "      <td>99</td>\n",
       "      <td>3.714</td>\n",
       "      <td>0.999</td>\n",
       "    </tr>\n",
       "  </tbody>\n",
       "</table>\n",
       "<p>8 rows × 21 columns</p>\n",
       "</div>"
      ],
      "text/plain": [
       "  summary      Attrition_Flag       Customer_Age              Gender  \\\n",
       "0   count               10127              10127               10127   \n",
       "1    mean  0.1606596227905599  46.32596030413745  0.5290806754221389   \n",
       "2  stddev  0.3672348368711593  8.016814032549046  0.4991782444381386   \n",
       "3     min                   0                 26                   0   \n",
       "4     25%                   0                 41                 0.0   \n",
       "5     50%                   0                 46                 1.0   \n",
       "6     75%                   0                 52                 1.0   \n",
       "7     max                   1                 73                   1   \n",
       "\n",
       "      Dependent_count Education_Level Marital_Status Income_Category  \\\n",
       "0               10127           10127          10127           10127   \n",
       "1  2.3462032191172115            None           None            None   \n",
       "2    1.29890834890379            None           None            None   \n",
       "3                   0         College       Divorced         $120K +   \n",
       "4                   1            None           None            None   \n",
       "5                   2            None           None            None   \n",
       "6                   3            None           None            None   \n",
       "7                   5         Unknown        Unknown         Unknown   \n",
       "\n",
       "  Card_Category      Months_on_book  ... Months_Inactive_12_mon  \\\n",
       "0         10127               10127  ...                  10127   \n",
       "1          None  35.928409203120374  ...     2.3411671768539546   \n",
       "2          None    7.98641633087208  ...     1.0106223994182844   \n",
       "3          Blue                  13  ...                      0   \n",
       "4          None                  31  ...                      2   \n",
       "5          None                  36  ...                      2   \n",
       "6          None                  40  ...                      3   \n",
       "7        Silver                  56  ...                      6   \n",
       "\n",
       "  Contacts_Count_12_mon       Credit_Limit Total_Revolving_Bal  \\\n",
       "0                 10127              10127               10127   \n",
       "1    2.4553174681544387  8631.953698034848  1162.8140614199665   \n",
       "2    1.1062251426359249  9088.776650223148   814.9873352357533   \n",
       "3                     0             1438.3                   0   \n",
       "4                     2             2555.0                 357   \n",
       "5                     2             4549.0                1276   \n",
       "6                     3            11067.0                1784   \n",
       "7                     6            34516.0                2517   \n",
       "\n",
       "     Avg_Open_To_Buy Total_Amt_Chng_Q4_Q1    Total_Trans_Amt  \\\n",
       "0              10127                10127              10127   \n",
       "1  7469.139636614887   0.7599406536980376  4404.086303939963   \n",
       "2  9090.685323679114   0.2192067692307027  3397.129253557085   \n",
       "3                3.0                  0.0                510   \n",
       "4             1322.0                0.631               2155   \n",
       "5             3472.0                0.736               3899   \n",
       "6             9857.0                0.859               4741   \n",
       "7            34516.0                3.397              18484   \n",
       "\n",
       "       Total_Trans_Ct  Total_Ct_Chng_Q4_Q1 Avg_Utilization_Ratio  \n",
       "0               10127                10127                 10127  \n",
       "1   64.85889207070208   0.7122223758269962    0.2748970079984201  \n",
       "2  23.472580051983318  0.23808609133294137    0.2756899974192098  \n",
       "3                  10                  0.0                   0.0  \n",
       "4                45.0                0.581                 0.022  \n",
       "5                67.0                0.702                 0.175  \n",
       "6                81.0                0.818                 0.503  \n",
       "7                  99                3.714                 0.999  \n",
       "\n",
       "[8 rows x 21 columns]"
      ]
     },
     "execution_count": 26,
     "metadata": {},
     "output_type": "execute_result"
    }
   ],
   "source": [
    "# Fill in missing values as median\n",
    "df = df.withColumn('Total_Trans_Ct', when(col('Total_Trans_Ct').isNull(), median_value).otherwise(col('Total_Trans_Ct')))\n",
    "\n",
    "summary_df = df.summary().toPandas()\n",
    "summary_df"
   ]
  },
  {
   "cell_type": "code",
   "execution_count": 27,
   "id": "5ad7575b",
   "metadata": {},
   "outputs": [],
   "source": [
    "from pyspark.sql import SparkSession\n",
    "from pyspark.ml.feature import StringIndexer"
   ]
  },
  {
   "cell_type": "code",
   "execution_count": 28,
   "id": "8a756735",
   "metadata": {},
   "outputs": [
    {
     "name": "stdout",
     "output_type": "stream",
     "text": [
      "+--------------+------------+------+---------------+---------------+--------------+---------------+-------------+--------------+------------------------+----------------------+---------------------+------------+-------------------+---------------+--------------------+---------------+--------------+-------------------+---------------------+---------------------+--------------------+---------------------+-------------------+\n",
      "|Attrition_Flag|Customer_Age|Gender|Dependent_count|Education_Level|Marital_Status|Income_Category|Card_Category|Months_on_book|Total_Relationship_Count|Months_Inactive_12_mon|Contacts_Count_12_mon|Credit_Limit|Total_Revolving_Bal|Avg_Open_To_Buy|Total_Amt_Chng_Q4_Q1|Total_Trans_Amt|Total_Trans_Ct|Total_Ct_Chng_Q4_Q1|Avg_Utilization_Ratio|Education_Level_index|Marital_Status_index|Income_Category_index|Card_Category_index|\n",
      "+--------------+------------+------+---------------+---------------+--------------+---------------+-------------+--------------+------------------------+----------------------+---------------------+------------+-------------------+---------------+--------------------+---------------+--------------+-------------------+---------------------+---------------------+--------------------+---------------------+-------------------+\n",
      "|             0|          45|     0|              3|    High School|       Married|    $60K - $80K|         Blue|            39|                       5|                     1|                    3|     12691.0|                777|        11914.0|               1.335|           1144|            42|              1.625|                0.061|                  1.0|                 0.0|                  3.0|                0.0|\n",
      "|             0|          49|     1|              5|       Graduate|        Single| Less than $40K|         Blue|            44|                       6|                     1|                    2|      8256.0|                864|         7392.0|               1.541|           1291|            33|              3.714|                0.105|                  0.0|                 1.0|                  0.0|                0.0|\n",
      "|             0|          51|     0|              3|       Graduate|       Married|   $80K - $120K|         Blue|            36|                       4|                     1|                    0|      3418.0|                  0|         3418.0|               2.594|           1887|            20|              2.333|                  0.0|                  0.0|                 0.0|                  2.0|                0.0|\n",
      "|             0|          40|     1|              4|    High School|       Unknown| Less than $40K|         Blue|            34|                       3|                     4|                    1|      3313.0|               2517|          796.0|               1.405|           1171|            20|              2.333|                 0.76|                  1.0|                 2.0|                  0.0|                0.0|\n",
      "|             0|          40|     0|              3|     Uneducated|       Married|    $60K - $80K|         Blue|            21|                       5|                     1|                    0|      4716.0|                  0|         4716.0|               2.175|            816|            28|                2.5|                  0.0|                  3.0|                 0.0|                  3.0|                0.0|\n",
      "|             0|          44|     0|              2|       Graduate|       Married|    $40K - $60K|         Blue|            36|                       3|                     1|                    2|      4010.0|               1247|         2763.0|               1.376|           1088|            24|              0.846|                0.311|                  0.0|                 0.0|                  1.0|                0.0|\n",
      "|             0|          51|     0|              4|        Unknown|       Married|        $120K +|         Gold|            46|                       6|                     1|                    3|     34516.0|               2264|        32252.0|               1.975|           1330|            31|              0.722|                0.066|                  2.0|                 0.0|                  5.0|                2.0|\n",
      "|             0|          32|     0|              0|    High School|       Unknown|    $60K - $80K|       Silver|            27|                       2|                     2|                    2|     29081.0|               1396|        27685.0|               2.204|           1538|            36|              0.714|                0.048|                  1.0|                 2.0|                  3.0|                1.0|\n",
      "|             0|          37|     0|              3|     Uneducated|        Single|    $60K - $80K|         Blue|            36|                       5|                     2|                    0|     22352.0|               2517|        19835.0|               3.355|           1350|            24|              1.182|                0.113|                  3.0|                 1.0|                  3.0|                0.0|\n",
      "|             0|          48|     0|              2|       Graduate|        Single|   $80K - $120K|         Blue|            36|                       6|                     3|                    3|     11656.0|               1677|         9979.0|               1.524|           1441|            32|              0.882|                0.144|                  0.0|                 1.0|                  2.0|                0.0|\n",
      "|             0|          42|     0|              5|     Uneducated|       Unknown|        $120K +|         Blue|            31|                       5|                     3|                    2|      6748.0|               1467|         5281.0|               0.831|           1201|            42|               0.68|                0.217|                  3.0|                 2.0|                  5.0|                0.0|\n",
      "|             0|          65|     0|              1|        Unknown|       Married|    $40K - $60K|         Blue|            54|                       6|                     2|                    3|      9095.0|               1587|         7508.0|               1.433|           1314|            26|              1.364|                0.174|                  2.0|                 0.0|                  1.0|                0.0|\n",
      "|             0|          56|     0|              1|        College|        Single|   $80K - $120K|         Blue|            36|                       3|                     6|                    0|     11751.0|                  0|        11751.0|               3.397|           1539|            17|               3.25|                  0.0|                  4.0|                 1.0|                  2.0|                0.0|\n",
      "|             0|          35|     0|              3|       Graduate|       Unknown|    $60K - $80K|         Blue|            30|                       5|                     1|                    3|      8547.0|               1666|         6881.0|               1.163|           1311|            33|                2.0|                0.195|                  0.0|                 2.0|                  3.0|                0.0|\n",
      "|             0|          57|     1|              2|       Graduate|       Married| Less than $40K|         Blue|            48|                       5|                     2|                    2|      2436.0|                680|         1756.0|                1.19|           1570|            29|              0.611|                0.279|                  0.0|                 0.0|                  0.0|                0.0|\n",
      "|             0|          44|     0|              4|        Unknown|       Unknown|   $80K - $120K|         Blue|            37|                       5|                     1|                    2|      4234.0|                972|         3262.0|               1.707|           1348|            27|                1.7|                 0.23|                  2.0|                 2.0|                  2.0|                0.0|\n",
      "|             0|          48|     0|              4|  Post-Graduate|        Single|   $80K - $120K|         Blue|            36|                       6|                     2|                    3|     30367.0|               2362|        28005.0|               1.708|           1671|            27|              0.929|                0.078|                  5.0|                 1.0|                  2.0|                0.0|\n",
      "|             0|          41|     0|              3|        Unknown|       Married|   $80K - $120K|         Blue|            34|                       4|                     4|                    1|     13535.0|               1291|        12244.0|               0.653|           1028|            21|              1.625|                0.095|                  2.0|                 0.0|                  2.0|                0.0|\n",
      "|             0|          61|     0|              1|    High School|       Married|    $40K - $60K|         Blue|            56|                       2|                     2|                    3|      3193.0|               2517|          676.0|               1.831|           1336|            30|              1.143|                0.788|                  1.0|                 0.0|                  1.0|                0.0|\n",
      "|             0|          45|     1|              2|       Graduate|       Married|        Unknown|         Blue|            37|                       6|                     1|                    2|     14470.0|               1157|        13313.0|               0.966|           1207|            21|              0.909|                 0.08|                  0.0|                 0.0|                  4.0|                0.0|\n",
      "+--------------+------------+------+---------------+---------------+--------------+---------------+-------------+--------------+------------------------+----------------------+---------------------+------------+-------------------+---------------+--------------------+---------------+--------------+-------------------+---------------------+---------------------+--------------------+---------------------+-------------------+\n",
      "only showing top 20 rows\n",
      "\n"
     ]
    }
   ],
   "source": [
    "string_features = [\"Education_Level\", \"Marital_Status\", \"Income_Category\", \"Card_Category\"]\n",
    "\n",
    "indexers = [StringIndexer(inputCol=feature, outputCol=feature + \"_index\") for feature in string_features]\n",
    "\n",
    "indexed_df = df\n",
    "for indexer in indexers:\n",
    "    indexed_df = indexer.fit(indexed_df).transform(indexed_df)\n",
    "\n",
    "indexed_df.show()\n"
   ]
  },
  {
   "cell_type": "code",
   "execution_count": 29,
   "id": "6d7e3c17",
   "metadata": {},
   "outputs": [],
   "source": [
    "columns_to_drop = [\"Education_Level\", \"Marital_Status\", \"Income_Category\", \"Card_Category\"]\n",
    "indexed_df = indexed_df.drop(*columns_to_drop)"
   ]
  },
  {
   "cell_type": "code",
   "execution_count": 30,
   "id": "d8b392cb",
   "metadata": {},
   "outputs": [
    {
     "name": "stdout",
     "output_type": "stream",
     "text": [
      "root\n",
      " |-- Attrition_Flag: integer (nullable = false)\n",
      " |-- Customer_Age: integer (nullable = true)\n",
      " |-- Gender: string (nullable = true)\n",
      " |-- Dependent_count: integer (nullable = true)\n",
      " |-- Months_on_book: integer (nullable = true)\n",
      " |-- Total_Relationship_Count: integer (nullable = true)\n",
      " |-- Months_Inactive_12_mon: integer (nullable = true)\n",
      " |-- Contacts_Count_12_mon: integer (nullable = true)\n",
      " |-- Credit_Limit: double (nullable = true)\n",
      " |-- Total_Revolving_Bal: integer (nullable = true)\n",
      " |-- Avg_Open_To_Buy: double (nullable = true)\n",
      " |-- Total_Amt_Chng_Q4_Q1: double (nullable = true)\n",
      " |-- Total_Trans_Amt: integer (nullable = true)\n",
      " |-- Total_Trans_Ct: string (nullable = true)\n",
      " |-- Total_Ct_Chng_Q4_Q1: double (nullable = true)\n",
      " |-- Avg_Utilization_Ratio: double (nullable = true)\n",
      " |-- Education_Level_index: double (nullable = false)\n",
      " |-- Marital_Status_index: double (nullable = false)\n",
      " |-- Income_Category_index: double (nullable = false)\n",
      " |-- Card_Category_index: double (nullable = false)\n",
      "\n",
      "10127 20\n"
     ]
    }
   ],
   "source": [
    "indexed_df.printSchema()\n",
    "row_count1 = indexed_df.count()\n",
    "num_columns1 = len(indexed_df.columns)\n",
    "print (row_count1,num_columns1)"
   ]
  },
  {
   "cell_type": "code",
   "execution_count": 31,
   "id": "498e0d60",
   "metadata": {},
   "outputs": [],
   "source": [
    "indexed_df = indexed_df.withColumn(\"Total_Trans_Ct\", col(\"Total_Trans_Ct\").cast(\"int\"))"
   ]
  },
  {
   "cell_type": "code",
   "execution_count": 32,
   "id": "e9de2ff8",
   "metadata": {},
   "outputs": [],
   "source": [
    "indexed_df = indexed_df.withColumn(\"Gender\", col(\"Gender\").cast(\"int\"))"
   ]
  },
  {
   "cell_type": "code",
   "execution_count": 33,
   "id": "3709341c",
   "metadata": {},
   "outputs": [
    {
     "name": "stdout",
     "output_type": "stream",
     "text": [
      "root\n",
      " |-- Attrition_Flag: integer (nullable = false)\n",
      " |-- Customer_Age: integer (nullable = true)\n",
      " |-- Gender: integer (nullable = true)\n",
      " |-- Dependent_count: integer (nullable = true)\n",
      " |-- Months_on_book: integer (nullable = true)\n",
      " |-- Total_Relationship_Count: integer (nullable = true)\n",
      " |-- Months_Inactive_12_mon: integer (nullable = true)\n",
      " |-- Contacts_Count_12_mon: integer (nullable = true)\n",
      " |-- Credit_Limit: double (nullable = true)\n",
      " |-- Total_Revolving_Bal: integer (nullable = true)\n",
      " |-- Avg_Open_To_Buy: double (nullable = true)\n",
      " |-- Total_Amt_Chng_Q4_Q1: double (nullable = true)\n",
      " |-- Total_Trans_Amt: integer (nullable = true)\n",
      " |-- Total_Trans_Ct: integer (nullable = true)\n",
      " |-- Total_Ct_Chng_Q4_Q1: double (nullable = true)\n",
      " |-- Avg_Utilization_Ratio: double (nullable = true)\n",
      " |-- Education_Level_index: double (nullable = false)\n",
      " |-- Marital_Status_index: double (nullable = false)\n",
      " |-- Income_Category_index: double (nullable = false)\n",
      " |-- Card_Category_index: double (nullable = false)\n",
      "\n"
     ]
    }
   ],
   "source": [
    "indexed_df.printSchema()"
   ]
  },
  {
   "cell_type": "code",
   "execution_count": 34,
   "id": "bb41cc49",
   "metadata": {},
   "outputs": [
    {
     "name": "stdout",
     "output_type": "stream",
     "text": [
      "+------------+---------+\n",
      "|Customer_Age|Age_Group|\n",
      "+------------+---------+\n",
      "|          45|    45-54|\n",
      "|          49|    45-54|\n",
      "|          51|    45-54|\n",
      "|          40|    35-44|\n",
      "|          40|    35-44|\n",
      "|          44|    35-44|\n",
      "|          51|    45-54|\n",
      "|          32|    25-34|\n",
      "|          37|    35-44|\n",
      "|          48|    45-54|\n",
      "|          42|    35-44|\n",
      "|          65|      65+|\n",
      "|          56|    55-64|\n",
      "|          35|    35-44|\n",
      "|          57|    55-64|\n",
      "|          44|    35-44|\n",
      "|          48|    45-54|\n",
      "|          41|    35-44|\n",
      "|          61|    55-64|\n",
      "|          45|    45-54|\n",
      "+------------+---------+\n",
      "only showing top 20 rows\n",
      "\n"
     ]
    }
   ],
   "source": [
    "from pyspark.sql import SparkSession\n",
    "from pyspark.sql.functions import when, col\n",
    "from pyspark.sql.types import StringType\n",
    "\n",
    "age_bins = [25, 35, 45, 55, 65, float('inf')]\n",
    "age_labels = ['25-34', '35-44', '45-54', '55-64', '65+']\n",
    "\n",
    "expr = (\n",
    "    when((col(\"Customer_Age\") >= age_bins[0]) & (col(\"Customer_Age\") < age_bins[1]), age_labels[0])\n",
    "    .when((col(\"Customer_Age\") >= age_bins[1]) & (col(\"Customer_Age\") < age_bins[2]), age_labels[1])\n",
    "    .when((col(\"Customer_Age\") >= age_bins[2]) & (col(\"Customer_Age\") < age_bins[3]), age_labels[2])\n",
    "    .when((col(\"Customer_Age\") >= age_bins[3]) & (col(\"Customer_Age\") < age_bins[4]), age_labels[3])\n",
    "    .when(col(\"Customer_Age\") >= age_bins[4], age_labels[4])\n",
    "    .otherwise(\"Unknown\")\n",
    "    .cast(StringType())\n",
    ")\n",
    "\n",
    "indexed_df = indexed_df.withColumn(\"Age_Group\", expr)\n",
    "\n",
    "indexed_df.select(\"Customer_Age\", \"Age_Group\").show()"
   ]
  },
  {
   "cell_type": "code",
   "execution_count": 35,
   "id": "70a2411b",
   "metadata": {},
   "outputs": [
    {
     "name": "stdout",
     "output_type": "stream",
     "text": [
      "+--------------+--------------+\n",
      "|Months_on_book|Register_Group|\n",
      "+--------------+--------------+\n",
      "|            39|       3-4year|\n",
      "|            44|       3-4year|\n",
      "|            36|       3-4year|\n",
      "|            34|       2-3year|\n",
      "|            21|       1-2year|\n",
      "|            36|       3-4year|\n",
      "|            46|       3-4year|\n",
      "|            27|       2-3year|\n",
      "|            36|       3-4year|\n",
      "|            36|       3-4year|\n",
      "|            31|       2-3year|\n",
      "|            54|        4year+|\n",
      "|            36|       3-4year|\n",
      "|            30|       2-3year|\n",
      "|            48|        4year+|\n",
      "|            37|       3-4year|\n",
      "|            36|       3-4year|\n",
      "|            34|       2-3year|\n",
      "|            56|        4year+|\n",
      "|            37|       3-4year|\n",
      "+--------------+--------------+\n",
      "only showing top 20 rows\n",
      "\n"
     ]
    }
   ],
   "source": [
    "book_bins = [12, 24, 36, 48, float('inf')]\n",
    "book_labels = ['1-2year', '2-3year', '3-4year', '4year+']\n",
    "\n",
    "expr = (\n",
    "    when((col(\"Months_on_book\") >= book_bins[0]) & (col(\"Months_on_book\") < book_bins[1]), book_labels[0])\n",
    "    .when((col(\"Months_on_book\") >= book_bins[1]) & (col(\"Months_on_book\") < book_bins[2]), book_labels[1])\n",
    "    .when((col(\"Months_on_book\") >= book_bins[2]) & (col(\"Months_on_book\") < book_bins[3]), book_labels[2])\n",
    "    .when(col(\"Months_on_book\") >= book_bins[3], book_labels[3])\n",
    "    .otherwise(\"Unknown\")\n",
    "    .cast(StringType())\n",
    ")\n",
    "\n",
    "indexed_df = indexed_df.withColumn(\"Register_Group\", expr)\n",
    "\n",
    "indexed_df.select(\"Months_on_book\", \"Register_Group\").show()\n"
   ]
  },
  {
   "cell_type": "code",
   "execution_count": 36,
   "id": "ae445f90",
   "metadata": {},
   "outputs": [
    {
     "name": "stdout",
     "output_type": "stream",
     "text": [
      "root\n",
      " |-- Attrition_Flag: integer (nullable = false)\n",
      " |-- Customer_Age: integer (nullable = true)\n",
      " |-- Gender: integer (nullable = true)\n",
      " |-- Dependent_count: integer (nullable = true)\n",
      " |-- Months_on_book: integer (nullable = true)\n",
      " |-- Total_Relationship_Count: integer (nullable = true)\n",
      " |-- Months_Inactive_12_mon: integer (nullable = true)\n",
      " |-- Contacts_Count_12_mon: integer (nullable = true)\n",
      " |-- Credit_Limit: double (nullable = true)\n",
      " |-- Total_Revolving_Bal: integer (nullable = true)\n",
      " |-- Avg_Open_To_Buy: double (nullable = true)\n",
      " |-- Total_Amt_Chng_Q4_Q1: double (nullable = true)\n",
      " |-- Total_Trans_Amt: integer (nullable = true)\n",
      " |-- Total_Trans_Ct: integer (nullable = true)\n",
      " |-- Total_Ct_Chng_Q4_Q1: double (nullable = true)\n",
      " |-- Avg_Utilization_Ratio: double (nullable = true)\n",
      " |-- Education_Level_index: double (nullable = false)\n",
      " |-- Marital_Status_index: double (nullable = false)\n",
      " |-- Income_Category_index: double (nullable = false)\n",
      " |-- Card_Category_index: double (nullable = false)\n",
      " |-- Age_Group: string (nullable = false)\n",
      " |-- Register_Group: string (nullable = false)\n",
      "\n"
     ]
    }
   ],
   "source": [
    "indexed_df.printSchema()"
   ]
  },
  {
   "cell_type": "code",
   "execution_count": 37,
   "id": "9a5a680c",
   "metadata": {},
   "outputs": [
    {
     "name": "stdout",
     "output_type": "stream",
     "text": [
      "+---------+-----------------+------------+------+---------------+---------------+--------------+---------------+-------------+--------------+------------------------+----------------------+---------------------+------------+-------------------+---------------+--------------------+---------------+--------------+-------------------+---------------------+----------------------------------------------------------------------------------------------------------------------------------+----------------------------------------------------------------------------------------------------------------------------------+---------------+\n",
      "|CLIENTNUM|   Attrition_Flag|Customer_Age|Gender|Dependent_count|Education_Level|Marital_Status|Income_Category|Card_Category|Months_on_book|Total_Relationship_Count|Months_Inactive_12_mon|Contacts_Count_12_mon|Credit_Limit|Total_Revolving_Bal|Avg_Open_To_Buy|Total_Amt_Chng_Q4_Q1|Total_Trans_Amt|Total_Trans_Ct|Total_Ct_Chng_Q4_Q1|Avg_Utilization_Ratio|Naive_Bayes_Classifier_Attrition_Flag_Card_Category_Contacts_Count_12_mon_Dependent_count_Education_Level_Months_Inactive_12_mon_1|Naive_Bayes_Classifier_Attrition_Flag_Card_Category_Contacts_Count_12_mon_Dependent_count_Education_Level_Months_Inactive_12_mon_2|Colume_for_test|\n",
      "+---------+-----------------+------------+------+---------------+---------------+--------------+---------------+-------------+--------------+------------------------+----------------------+---------------------+------------+-------------------+---------------+--------------------+---------------+--------------+-------------------+---------------------+----------------------------------------------------------------------------------------------------------------------------------+----------------------------------------------------------------------------------------------------------------------------------+---------------+\n",
      "|768805383|Existing Customer|          45|     M|              3|    High School|       Married|    $60K - $80K|         Blue|            39|                       5|                     1|                    3|     12691.0|                777|        11914.0|               1.335|           1144|            42|              1.625|                0.061|                                                                                                                           9.34E-5|                                                                                                                           0.99991|           test|\n",
      "|818770008|Existing Customer|          49|     F|              5|       Graduate|        Single| Less than $40K|         Blue|            44|                       6|                     1|                    2|      8256.0|                864|         7392.0|               1.541|           1291|            33|              3.714|                0.105|                                                                                                                           5.69E-5|                                                                                                                           0.99994|           test|\n",
      "|713982108|Existing Customer|          51|     M|              3|       Graduate|       Married|   $80K - $120K|         Blue|            36|                       4|                     1|                    0|      3418.0|                  0|         3418.0|               2.594|           1887|            20|              2.333|                  0.0|                                                                                                                           2.11E-5|                                                                                                                           0.99998|           test|\n",
      "|769911858|Existing Customer|          40|     F|              4|    High School|       Unknown| Less than $40K|         Blue|            34|                       3|                     4|                    1|      3313.0|               2517|          796.0|               1.405|           1171|            20|              2.333|                 0.76|                                                                                                                         1.3366E-4|                                                                                                                           0.99987|           test|\n",
      "|709106358|Existing Customer|          40|     M|              3|     Uneducated|       Married|    $60K - $80K|         Blue|            21|                       5|                     1|                    0|      4716.0|                  0|         4716.0|               2.175|            816|            28|                2.5|                  0.0|                                                                                                                           2.17E-5|                                                                                                                           0.99998|           test|\n",
      "|713061558|Existing Customer|          44|     M|              2|       Graduate|       Married|    $40K - $60K|         Blue|            36|                       3|                     1|                    2|      4010.0|               1247|         2763.0|               1.376|           1088|            24|              0.846|                0.311|                                                                                                                           5.51E-5|                                                                                                                           0.99994|           test|\n",
      "|810347208|Existing Customer|          51|     M|              4|        Unknown|       Married|        $120K +|         Gold|            46|                       6|                     1|                    3|     34516.0|               2264|        32252.0|               1.975|           1330|            31|              0.722|                0.066|                                                                                                                         1.2303E-4|                                                                                                                           0.99988|           test|\n",
      "|818906208|Existing Customer|          32|     M|              0|    High School|       Unknown|    $60K - $80K|       Silver|            27|                       2|                     2|                    2|     29081.0|               1396|        27685.0|               2.204|           1538|            36|              0.714|                0.048|                                                                                                                           8.58E-5|                                                                                                                           0.99991|           test|\n",
      "|710930508|Existing Customer|          37|     M|              3|     Uneducated|        Single|    $60K - $80K|         Blue|            36|                       5|                     2|                    0|     22352.0|               2517|        19835.0|               3.355|           1350|            24|              1.182|                0.113|                                                                                                                           4.48E-5|                                                                                                                           0.99996|           test|\n",
      "|719661558|Existing Customer|          48|     M|              2|       Graduate|        Single|   $80K - $120K|         Blue|            36|                       6|                     3|                    3|     11656.0|               1677|         9979.0|               1.524|           1441|            32|              0.882|                0.144|                                                                                                                         3.0251E-4|                                                                                                                            0.9997|           test|\n",
      "|708790833|Existing Customer|          42|     M|              5|     Uneducated|       Unknown|        $120K +|         Blue|            31|                       5|                     3|                    2|      6748.0|               1467|         5281.0|               0.831|           1201|            42|               0.68|                0.217|                                                                                                                         1.9094E-4|                                                                                                                           0.99981|           test|\n",
      "|710821833|Existing Customer|          65|     M|              1|        Unknown|       Married|    $40K - $60K|         Blue|            54|                       6|                     2|                    3|      9095.0|               1587|         7508.0|               1.433|           1314|            26|              1.364|                0.174|                                                                                                                         1.9751E-4|                                                                                                                            0.9998|           test|\n",
      "|710599683|Existing Customer|          56|     M|              1|        College|        Single|   $80K - $120K|         Blue|            36|                       3|                     6|                    0|     11751.0|                  0|        11751.0|               3.397|           1539|            17|               3.25|                  0.0|                                                                                                                           4.78E-5|                                                                                                                           0.99995|           test|\n",
      "|816082233|Existing Customer|          35|     M|              3|       Graduate|       Unknown|    $60K - $80K|         Blue|            30|                       5|                     1|                    3|      8547.0|               1666|         6881.0|               1.163|           1311|            33|                2.0|                0.195|                                                                                                                           9.61E-5|                                                                                                                            0.9999|           test|\n",
      "|712396908|Existing Customer|          57|     F|              2|       Graduate|       Married| Less than $40K|         Blue|            48|                       5|                     2|                    2|      2436.0|                680|         1756.0|                1.19|           1570|            29|              0.611|                0.279|                                                                                                                         1.1382E-4|                                                                                                                           0.99989|           test|\n",
      "|714885258|Existing Customer|          44|     M|              4|        Unknown|       Unknown|   $80K - $120K|         Blue|            37|                       5|                     1|                    2|      4234.0|                972|         3262.0|               1.707|           1348|            27|                1.7|                 0.23|                                                                                                                           6.35E-5|                                                                                                                           0.99994|           test|\n",
      "|709967358|Existing Customer|          48|     M|              4|  Post-Graduate|        Single|   $80K - $120K|         Blue|            36|                       6|                     2|                    3|     30367.0|               2362|        28005.0|               1.708|           1671|            27|              0.929|                0.078|                                                                                                                         2.3623E-4|                                                                                                                           0.99976|           test|\n",
      "|753327333|Existing Customer|          41|     M|              3|        Unknown|       Married|   $80K - $120K|         Blue|            34|                       4|                     4|                    1|     13535.0|               1291|        12244.0|               0.653|           1028|            21|              1.625|                0.095|                                                                                                                         1.4953E-4|                                                                                                                           0.99985|           test|\n",
      "|806160108|Existing Customer|          61|     M|              1|    High School|       Married|    $40K - $60K|         Blue|            56|                       2|                     2|                    3|      3193.0|               2517|          676.0|               1.831|           1336|            30|              1.143|                0.788|                                                                                                                         1.7468E-4|                                                                                                                           0.99983|           test|\n",
      "|709327383|Existing Customer|          45|     F|              2|       Graduate|       Married|        Unknown|         Blue|            37|                       6|                     1|                    2|     14470.0|               1157|        13313.0|               0.966|           1207|            21|              0.909|                 0.08|                                                                                                                           5.51E-5|                                                                                                                           0.99994|           test|\n",
      "+---------+-----------------+------------+------+---------------+---------------+--------------+---------------+-------------+--------------+------------------------+----------------------+---------------------+------------+-------------------+---------------+--------------------+---------------+--------------+-------------------+---------------------+----------------------------------------------------------------------------------------------------------------------------------+----------------------------------------------------------------------------------------------------------------------------------+---------------+\n",
      "only showing top 20 rows\n",
      "\n"
     ]
    },
    {
     "name": "stderr",
     "output_type": "stream",
     "text": [
      "                                                                                \r"
     ]
    }
   ],
   "source": [
    "data_source1 = spark.read.csv(\"BankChurners_1.csv\", header=True, inferSchema=True)\n",
    "data_source2 = spark.read.csv(\"BankChurners_2.csv\", header=True, inferSchema=True)\n",
    "\n",
    "integrated_data = data_source1.join(data_source2, 'CLIENTNUM', 'inner')\n",
    "\n",
    "integrated_data.show()\n",
    "\n",
    "integrated_data.write.csv(\"integrated_data.csv\", header=True, mode='overwrite')"
   ]
  },
  {
   "cell_type": "code",
   "execution_count": 38,
   "id": "d1ff3686",
   "metadata": {},
   "outputs": [
    {
     "name": "stdout",
     "output_type": "stream",
     "text": [
      "root\n",
      " |-- Attrition_Flag: integer (nullable = false)\n",
      " |-- Customer_Age: integer (nullable = true)\n",
      " |-- Gender: integer (nullable = true)\n",
      " |-- Dependent_count: integer (nullable = true)\n",
      " |-- Months_on_book: integer (nullable = true)\n",
      " |-- Total_Relationship_Count: integer (nullable = true)\n",
      " |-- Months_Inactive_12_mon: integer (nullable = true)\n",
      " |-- Contacts_Count_12_mon: integer (nullable = true)\n",
      " |-- Credit_Limit: double (nullable = true)\n",
      " |-- Total_Revolving_Bal: integer (nullable = true)\n",
      " |-- Avg_Open_To_Buy: double (nullable = true)\n",
      " |-- Total_Amt_Chng_Q4_Q1: double (nullable = true)\n",
      " |-- Total_Trans_Amt: integer (nullable = true)\n",
      " |-- Total_Trans_Ct: integer (nullable = true)\n",
      " |-- Total_Ct_Chng_Q4_Q1: double (nullable = true)\n",
      " |-- Avg_Utilization_Ratio: double (nullable = true)\n",
      " |-- Education_Level_index: double (nullable = false)\n",
      " |-- Marital_Status_index: double (nullable = false)\n",
      " |-- Income_Category_index: double (nullable = false)\n",
      " |-- Card_Category_index: double (nullable = false)\n",
      " |-- Age_Group: string (nullable = false)\n",
      " |-- Register_Group: string (nullable = false)\n",
      "\n"
     ]
    }
   ],
   "source": [
    "indexed_df.printSchema()"
   ]
  },
  {
   "cell_type": "code",
   "execution_count": 39,
   "id": "0c7d6db7",
   "metadata": {},
   "outputs": [],
   "source": [
    "age_indexer = StringIndexer(inputCol=\"Age_Group\", outputCol=\"Age_Group_Index\")\n",
    "indexed_df = age_indexer.fit(indexed_df).transform(indexed_df)"
   ]
  },
  {
   "cell_type": "code",
   "execution_count": 40,
   "id": "b96d946d",
   "metadata": {},
   "outputs": [],
   "source": [
    "register_indexer = StringIndexer(inputCol=\"Register_Group\", outputCol=\"Register_Group_Index\")\n",
    "indexed_df = register_indexer.fit(indexed_df).transform(indexed_df)"
   ]
  },
  {
   "cell_type": "code",
   "execution_count": 41,
   "id": "3dcbe5a3",
   "metadata": {},
   "outputs": [],
   "source": [
    "columns_to_drop = [\"Age_Group\", \"Register_Group\"]\n",
    "indexed_df = indexed_df.drop(*columns_to_drop)"
   ]
  },
  {
   "cell_type": "code",
   "execution_count": 42,
   "id": "f2415a07",
   "metadata": {},
   "outputs": [
    {
     "name": "stdout",
     "output_type": "stream",
     "text": [
      "root\n",
      " |-- Attrition_Flag: integer (nullable = false)\n",
      " |-- Customer_Age: integer (nullable = true)\n",
      " |-- Gender: integer (nullable = true)\n",
      " |-- Dependent_count: integer (nullable = true)\n",
      " |-- Months_on_book: integer (nullable = true)\n",
      " |-- Total_Relationship_Count: integer (nullable = true)\n",
      " |-- Months_Inactive_12_mon: integer (nullable = true)\n",
      " |-- Contacts_Count_12_mon: integer (nullable = true)\n",
      " |-- Credit_Limit: double (nullable = true)\n",
      " |-- Total_Revolving_Bal: integer (nullable = true)\n",
      " |-- Avg_Open_To_Buy: double (nullable = true)\n",
      " |-- Total_Amt_Chng_Q4_Q1: double (nullable = true)\n",
      " |-- Total_Trans_Amt: integer (nullable = true)\n",
      " |-- Total_Trans_Ct: integer (nullable = true)\n",
      " |-- Total_Ct_Chng_Q4_Q1: double (nullable = true)\n",
      " |-- Avg_Utilization_Ratio: double (nullable = true)\n",
      " |-- Education_Level_index: double (nullable = false)\n",
      " |-- Marital_Status_index: double (nullable = false)\n",
      " |-- Income_Category_index: double (nullable = false)\n",
      " |-- Card_Category_index: double (nullable = false)\n",
      " |-- Age_Group_Index: double (nullable = false)\n",
      " |-- Register_Group_Index: double (nullable = false)\n",
      "\n"
     ]
    }
   ],
   "source": [
    "indexed_df.printSchema()"
   ]
  },
  {
   "cell_type": "code",
   "execution_count": 43,
   "id": "d0985a62",
   "metadata": {},
   "outputs": [],
   "source": [
    "columns_to_drop = [\"features\"]\n",
    "indexed_df = indexed_df.drop(*columns_to_drop)"
   ]
  },
  {
   "cell_type": "code",
   "execution_count": 44,
   "id": "797cd1fa",
   "metadata": {},
   "outputs": [
    {
     "name": "stderr",
     "output_type": "stream",
     "text": [
      "                                                                                \r"
     ]
    },
    {
     "data": {
      "text/html": [
       "<div>\n",
       "<style scoped>\n",
       "    .dataframe tbody tr th:only-of-type {\n",
       "        vertical-align: middle;\n",
       "    }\n",
       "\n",
       "    .dataframe tbody tr th {\n",
       "        vertical-align: top;\n",
       "    }\n",
       "\n",
       "    .dataframe thead th {\n",
       "        text-align: right;\n",
       "    }\n",
       "</style>\n",
       "<table border=\"1\" class=\"dataframe\">\n",
       "  <thead>\n",
       "    <tr style=\"text-align: right;\">\n",
       "      <th></th>\n",
       "      <th>summary</th>\n",
       "      <th>Attrition_Flag</th>\n",
       "      <th>Customer_Age</th>\n",
       "      <th>Gender</th>\n",
       "      <th>Dependent_count</th>\n",
       "      <th>Months_on_book</th>\n",
       "      <th>Total_Relationship_Count</th>\n",
       "      <th>Months_Inactive_12_mon</th>\n",
       "      <th>Contacts_Count_12_mon</th>\n",
       "      <th>Credit_Limit</th>\n",
       "      <th>...</th>\n",
       "      <th>Total_Trans_Amt</th>\n",
       "      <th>Total_Trans_Ct</th>\n",
       "      <th>Total_Ct_Chng_Q4_Q1</th>\n",
       "      <th>Avg_Utilization_Ratio</th>\n",
       "      <th>Education_Level_index</th>\n",
       "      <th>Marital_Status_index</th>\n",
       "      <th>Income_Category_index</th>\n",
       "      <th>Card_Category_index</th>\n",
       "      <th>Age_Group_Index</th>\n",
       "      <th>Register_Group_Index</th>\n",
       "    </tr>\n",
       "  </thead>\n",
       "  <tbody>\n",
       "    <tr>\n",
       "      <th>0</th>\n",
       "      <td>count</td>\n",
       "      <td>10127</td>\n",
       "      <td>10127</td>\n",
       "      <td>10127</td>\n",
       "      <td>10127</td>\n",
       "      <td>10127</td>\n",
       "      <td>10127</td>\n",
       "      <td>10127</td>\n",
       "      <td>10127</td>\n",
       "      <td>10127</td>\n",
       "      <td>...</td>\n",
       "      <td>10127</td>\n",
       "      <td>10127</td>\n",
       "      <td>10127</td>\n",
       "      <td>10127</td>\n",
       "      <td>10127</td>\n",
       "      <td>10127</td>\n",
       "      <td>10127</td>\n",
       "      <td>10127</td>\n",
       "      <td>10127</td>\n",
       "      <td>10127</td>\n",
       "    </tr>\n",
       "    <tr>\n",
       "      <th>1</th>\n",
       "      <td>mean</td>\n",
       "      <td>0.1606596227905599</td>\n",
       "      <td>46.32596030413745</td>\n",
       "      <td>0.5290806754221389</td>\n",
       "      <td>2.3462032191172115</td>\n",
       "      <td>35.928409203120374</td>\n",
       "      <td>3.8125802310654686</td>\n",
       "      <td>2.3411671768539546</td>\n",
       "      <td>2.4553174681544387</td>\n",
       "      <td>8631.953698034848</td>\n",
       "      <td>...</td>\n",
       "      <td>4404.086303939963</td>\n",
       "      <td>64.85889207070208</td>\n",
       "      <td>0.7122223758269962</td>\n",
       "      <td>0.2748970079984201</td>\n",
       "      <td>1.8613607188703467</td>\n",
       "      <td>0.7588624469240643</td>\n",
       "      <td>1.693393897501728</td>\n",
       "      <td>0.08363779994075245</td>\n",
       "      <td>0.8973042362002568</td>\n",
       "      <td>0.6724597610348573</td>\n",
       "    </tr>\n",
       "    <tr>\n",
       "      <th>2</th>\n",
       "      <td>stddev</td>\n",
       "      <td>0.3672348368711593</td>\n",
       "      <td>8.016814032549046</td>\n",
       "      <td>0.4991782444381386</td>\n",
       "      <td>1.29890834890379</td>\n",
       "      <td>7.98641633087208</td>\n",
       "      <td>1.55440786533883</td>\n",
       "      <td>1.0106223994182844</td>\n",
       "      <td>1.1062251426359249</td>\n",
       "      <td>9088.776650223148</td>\n",
       "      <td>...</td>\n",
       "      <td>3397.129253557085</td>\n",
       "      <td>23.472580051983318</td>\n",
       "      <td>0.23808609133294137</td>\n",
       "      <td>0.2756899974192098</td>\n",
       "      <td>1.770156357626571</td>\n",
       "      <td>0.8798635099308855</td>\n",
       "      <td>1.647213126919835</td>\n",
       "      <td>0.333784490443541</td>\n",
       "      <td>0.9773858367269878</td>\n",
       "      <td>0.8880974426730776</td>\n",
       "    </tr>\n",
       "    <tr>\n",
       "      <th>3</th>\n",
       "      <td>min</td>\n",
       "      <td>0</td>\n",
       "      <td>26</td>\n",
       "      <td>0</td>\n",
       "      <td>0</td>\n",
       "      <td>13</td>\n",
       "      <td>1</td>\n",
       "      <td>0</td>\n",
       "      <td>0</td>\n",
       "      <td>1438.3</td>\n",
       "      <td>...</td>\n",
       "      <td>510</td>\n",
       "      <td>10</td>\n",
       "      <td>0.0</td>\n",
       "      <td>0.0</td>\n",
       "      <td>0.0</td>\n",
       "      <td>0.0</td>\n",
       "      <td>0.0</td>\n",
       "      <td>0.0</td>\n",
       "      <td>0.0</td>\n",
       "      <td>0.0</td>\n",
       "    </tr>\n",
       "    <tr>\n",
       "      <th>4</th>\n",
       "      <td>25%</td>\n",
       "      <td>0</td>\n",
       "      <td>41</td>\n",
       "      <td>0</td>\n",
       "      <td>1</td>\n",
       "      <td>31</td>\n",
       "      <td>3</td>\n",
       "      <td>2</td>\n",
       "      <td>2</td>\n",
       "      <td>2555.0</td>\n",
       "      <td>...</td>\n",
       "      <td>2155</td>\n",
       "      <td>45</td>\n",
       "      <td>0.581</td>\n",
       "      <td>0.022</td>\n",
       "      <td>0.0</td>\n",
       "      <td>0.0</td>\n",
       "      <td>0.0</td>\n",
       "      <td>0.0</td>\n",
       "      <td>0.0</td>\n",
       "      <td>0.0</td>\n",
       "    </tr>\n",
       "    <tr>\n",
       "      <th>5</th>\n",
       "      <td>50%</td>\n",
       "      <td>0</td>\n",
       "      <td>46</td>\n",
       "      <td>1</td>\n",
       "      <td>2</td>\n",
       "      <td>36</td>\n",
       "      <td>4</td>\n",
       "      <td>2</td>\n",
       "      <td>2</td>\n",
       "      <td>4549.0</td>\n",
       "      <td>...</td>\n",
       "      <td>3899</td>\n",
       "      <td>67</td>\n",
       "      <td>0.702</td>\n",
       "      <td>0.175</td>\n",
       "      <td>1.0</td>\n",
       "      <td>1.0</td>\n",
       "      <td>1.0</td>\n",
       "      <td>0.0</td>\n",
       "      <td>1.0</td>\n",
       "      <td>0.0</td>\n",
       "    </tr>\n",
       "    <tr>\n",
       "      <th>6</th>\n",
       "      <td>75%</td>\n",
       "      <td>0</td>\n",
       "      <td>52</td>\n",
       "      <td>1</td>\n",
       "      <td>3</td>\n",
       "      <td>40</td>\n",
       "      <td>5</td>\n",
       "      <td>3</td>\n",
       "      <td>3</td>\n",
       "      <td>11067.0</td>\n",
       "      <td>...</td>\n",
       "      <td>4741</td>\n",
       "      <td>81</td>\n",
       "      <td>0.818</td>\n",
       "      <td>0.503</td>\n",
       "      <td>3.0</td>\n",
       "      <td>1.0</td>\n",
       "      <td>3.0</td>\n",
       "      <td>0.0</td>\n",
       "      <td>1.0</td>\n",
       "      <td>1.0</td>\n",
       "    </tr>\n",
       "    <tr>\n",
       "      <th>7</th>\n",
       "      <td>max</td>\n",
       "      <td>1</td>\n",
       "      <td>73</td>\n",
       "      <td>1</td>\n",
       "      <td>5</td>\n",
       "      <td>56</td>\n",
       "      <td>6</td>\n",
       "      <td>6</td>\n",
       "      <td>6</td>\n",
       "      <td>34516.0</td>\n",
       "      <td>...</td>\n",
       "      <td>18484</td>\n",
       "      <td>139</td>\n",
       "      <td>3.714</td>\n",
       "      <td>0.999</td>\n",
       "      <td>6.0</td>\n",
       "      <td>3.0</td>\n",
       "      <td>5.0</td>\n",
       "      <td>3.0</td>\n",
       "      <td>4.0</td>\n",
       "      <td>3.0</td>\n",
       "    </tr>\n",
       "  </tbody>\n",
       "</table>\n",
       "<p>8 rows × 23 columns</p>\n",
       "</div>"
      ],
      "text/plain": [
       "  summary      Attrition_Flag       Customer_Age              Gender  \\\n",
       "0   count               10127              10127               10127   \n",
       "1    mean  0.1606596227905599  46.32596030413745  0.5290806754221389   \n",
       "2  stddev  0.3672348368711593  8.016814032549046  0.4991782444381386   \n",
       "3     min                   0                 26                   0   \n",
       "4     25%                   0                 41                   0   \n",
       "5     50%                   0                 46                   1   \n",
       "6     75%                   0                 52                   1   \n",
       "7     max                   1                 73                   1   \n",
       "\n",
       "      Dependent_count      Months_on_book Total_Relationship_Count  \\\n",
       "0               10127               10127                    10127   \n",
       "1  2.3462032191172115  35.928409203120374       3.8125802310654686   \n",
       "2    1.29890834890379    7.98641633087208         1.55440786533883   \n",
       "3                   0                  13                        1   \n",
       "4                   1                  31                        3   \n",
       "5                   2                  36                        4   \n",
       "6                   3                  40                        5   \n",
       "7                   5                  56                        6   \n",
       "\n",
       "  Months_Inactive_12_mon Contacts_Count_12_mon       Credit_Limit  ...  \\\n",
       "0                  10127                 10127              10127  ...   \n",
       "1     2.3411671768539546    2.4553174681544387  8631.953698034848  ...   \n",
       "2     1.0106223994182844    1.1062251426359249  9088.776650223148  ...   \n",
       "3                      0                     0             1438.3  ...   \n",
       "4                      2                     2             2555.0  ...   \n",
       "5                      2                     2             4549.0  ...   \n",
       "6                      3                     3            11067.0  ...   \n",
       "7                      6                     6            34516.0  ...   \n",
       "\n",
       "     Total_Trans_Amt      Total_Trans_Ct  Total_Ct_Chng_Q4_Q1  \\\n",
       "0              10127               10127                10127   \n",
       "1  4404.086303939963   64.85889207070208   0.7122223758269962   \n",
       "2  3397.129253557085  23.472580051983318  0.23808609133294137   \n",
       "3                510                  10                  0.0   \n",
       "4               2155                  45                0.581   \n",
       "5               3899                  67                0.702   \n",
       "6               4741                  81                0.818   \n",
       "7              18484                 139                3.714   \n",
       "\n",
       "  Avg_Utilization_Ratio Education_Level_index Marital_Status_index  \\\n",
       "0                 10127                 10127                10127   \n",
       "1    0.2748970079984201    1.8613607188703467   0.7588624469240643   \n",
       "2    0.2756899974192098     1.770156357626571   0.8798635099308855   \n",
       "3                   0.0                   0.0                  0.0   \n",
       "4                 0.022                   0.0                  0.0   \n",
       "5                 0.175                   1.0                  1.0   \n",
       "6                 0.503                   3.0                  1.0   \n",
       "7                 0.999                   6.0                  3.0   \n",
       "\n",
       "  Income_Category_index  Card_Category_index     Age_Group_Index  \\\n",
       "0                 10127                10127               10127   \n",
       "1     1.693393897501728  0.08363779994075245  0.8973042362002568   \n",
       "2     1.647213126919835    0.333784490443541  0.9773858367269878   \n",
       "3                   0.0                  0.0                 0.0   \n",
       "4                   0.0                  0.0                 0.0   \n",
       "5                   1.0                  0.0                 1.0   \n",
       "6                   3.0                  0.0                 1.0   \n",
       "7                   5.0                  3.0                 4.0   \n",
       "\n",
       "  Register_Group_Index  \n",
       "0                10127  \n",
       "1   0.6724597610348573  \n",
       "2   0.8880974426730776  \n",
       "3                  0.0  \n",
       "4                  0.0  \n",
       "5                  0.0  \n",
       "6                  1.0  \n",
       "7                  3.0  \n",
       "\n",
       "[8 rows x 23 columns]"
      ]
     },
     "execution_count": 44,
     "metadata": {},
     "output_type": "execute_result"
    }
   ],
   "source": [
    "summary_indexed_df = indexed_df.summary().toPandas()\n",
    "summary_indexed_df"
   ]
  },
  {
   "cell_type": "code",
   "execution_count": 134,
   "id": "3e8c3370",
   "metadata": {},
   "outputs": [],
   "source": [
    "# 04-DT"
   ]
  },
  {
   "cell_type": "code",
   "execution_count": 136,
   "id": "fce5f6eb",
   "metadata": {},
   "outputs": [],
   "source": [
    "#To compare the correlation between the target variable (loss) and the previous feature"
   ]
  },
  {
   "cell_type": "code",
   "execution_count": 45,
   "id": "7fa20364",
   "metadata": {},
   "outputs": [],
   "source": [
    "feature_cols = indexed_df.columns[1:] \n",
    "assembler = VectorAssembler(inputCols=feature_cols, outputCol=\"features\")"
   ]
  },
  {
   "cell_type": "code",
   "execution_count": 46,
   "id": "557c35e3",
   "metadata": {},
   "outputs": [],
   "source": [
    "data = assembler.transform(indexed_df)"
   ]
  },
  {
   "cell_type": "code",
   "execution_count": 47,
   "id": "f51e7034",
   "metadata": {},
   "outputs": [],
   "source": [
    "correlation_matrix = Correlation.corr(data, \"features\").head()"
   ]
  },
  {
   "cell_type": "code",
   "execution_count": 48,
   "id": "8b6b1005",
   "metadata": {},
   "outputs": [],
   "source": [
    "correlations_with_target = correlation_matrix[0].toArray()[0][1:]"
   ]
  },
  {
   "cell_type": "code",
   "execution_count": 49,
   "id": "42975ca3",
   "metadata": {},
   "outputs": [
    {
     "name": "stdout",
     "output_type": "stream",
     "text": [
      "Correlation between 'Attrition_Flag' and 'Customer_Age': 0.017311519826718406\n",
      "Correlation between 'Attrition_Flag' and 'Gender': -0.12225375200525385\n",
      "Correlation between 'Attrition_Flag' and 'Dependent_count': 0.7889123589930773\n",
      "Correlation between 'Attrition_Flag' and 'Months_on_book': -0.010931068804261418\n",
      "Correlation between 'Attrition_Flag' and 'Total_Relationship_Count': 0.05436099876012172\n",
      "Correlation between 'Attrition_Flag' and 'Months_Inactive_12_mon': -0.018451854758798073\n",
      "Correlation between 'Attrition_Flag' and 'Contacts_Count_12_mon': 0.0024762273596651728\n",
      "Correlation between 'Attrition_Flag' and 'Credit_Limit': 0.014779894579644251\n",
      "Correlation between 'Attrition_Flag' and 'Total_Revolving_Bal': 0.0011506778791904797\n",
      "Correlation between 'Attrition_Flag' and 'Avg_Open_To_Buy': -0.0620420919198185\n",
      "Correlation between 'Attrition_Flag' and 'Total_Amt_Chng_Q4_Q1': -0.04644649085468679\n",
      "Correlation between 'Attrition_Flag' and 'Total_Trans_Amt': -0.06708038446652492\n",
      "Correlation between 'Attrition_Flag' and 'Total_Trans_Ct': -0.012142548310868808\n",
      "Correlation between 'Attrition_Flag' and 'Total_Ct_Chng_Q4_Q1': 0.007130953273132088\n",
      "Correlation between 'Attrition_Flag' and 'Avg_Utilization_Ratio': -0.0006496374052843248\n",
      "Correlation between 'Attrition_Flag' and 'Education_Level_index': -0.060118411984597074\n",
      "Correlation between 'Attrition_Flag' and 'Marital_Status_index': 0.020925447354499326\n",
      "Correlation between 'Attrition_Flag' and 'Income_Category_index': -0.018234705465418558\n",
      "Correlation between 'Attrition_Flag' and 'Card_Category_index': -0.13696321587387134\n",
      "Correlation between 'Attrition_Flag' and 'Age_Group_Index': -0.2627505206740464\n"
     ]
    }
   ],
   "source": [
    "for i, correlation in enumerate(correlations_with_target):\n",
    "    print(f\"Correlation between 'Attrition_Flag' and '{feature_cols[i]}': {correlation}\")"
   ]
  },
  {
   "cell_type": "code",
   "execution_count": 50,
   "id": "ba3127fb",
   "metadata": {},
   "outputs": [],
   "source": [
    "columns_to_drop = [\"Contacts_Count_12_mon\",'Total_Revolving_Bal','Total_Ct_Chng_Q4_Q1','Avg_Utilization_Ratio']\n",
    "indexed_df = indexed_df.drop(*columns_to_drop)"
   ]
  },
  {
   "cell_type": "code",
   "execution_count": 51,
   "id": "820f3727",
   "metadata": {},
   "outputs": [
    {
     "name": "stdout",
     "output_type": "stream",
     "text": [
      "root\n",
      " |-- Attrition_Flag: integer (nullable = false)\n",
      " |-- Customer_Age: integer (nullable = true)\n",
      " |-- Gender: integer (nullable = true)\n",
      " |-- Dependent_count: integer (nullable = true)\n",
      " |-- Months_on_book: integer (nullable = true)\n",
      " |-- Total_Relationship_Count: integer (nullable = true)\n",
      " |-- Months_Inactive_12_mon: integer (nullable = true)\n",
      " |-- Credit_Limit: double (nullable = true)\n",
      " |-- Avg_Open_To_Buy: double (nullable = true)\n",
      " |-- Total_Amt_Chng_Q4_Q1: double (nullable = true)\n",
      " |-- Total_Trans_Amt: integer (nullable = true)\n",
      " |-- Total_Trans_Ct: integer (nullable = true)\n",
      " |-- Education_Level_index: double (nullable = false)\n",
      " |-- Marital_Status_index: double (nullable = false)\n",
      " |-- Income_Category_index: double (nullable = false)\n",
      " |-- Card_Category_index: double (nullable = false)\n",
      " |-- Age_Group_Index: double (nullable = false)\n",
      " |-- Register_Group_Index: double (nullable = false)\n",
      "\n",
      "10127 18\n"
     ]
    }
   ],
   "source": [
    "indexed_df.printSchema()\n",
    "row_count1 = indexed_df.count()\n",
    "num_columns1 = len(indexed_df.columns)\n",
    "print (row_count1,num_columns1)"
   ]
  },
  {
   "cell_type": "code",
   "execution_count": 52,
   "id": "746f416c",
   "metadata": {},
   "outputs": [
    {
     "name": "stdout",
     "output_type": "stream",
     "text": [
      "root\n",
      " |-- Attrition_Flag: integer (nullable = false)\n",
      " |-- Customer_Age: integer (nullable = true)\n",
      " |-- Gender: integer (nullable = true)\n",
      " |-- Dependent_count: integer (nullable = true)\n",
      " |-- Months_on_book: integer (nullable = true)\n",
      " |-- Total_Relationship_Count: integer (nullable = true)\n",
      " |-- Months_Inactive_12_mon: integer (nullable = true)\n",
      " |-- Contacts_Count_12_mon: integer (nullable = true)\n",
      " |-- Credit_Limit: double (nullable = true)\n",
      " |-- Total_Revolving_Bal: integer (nullable = true)\n",
      " |-- Avg_Open_To_Buy: double (nullable = true)\n",
      " |-- Total_Amt_Chng_Q4_Q1: double (nullable = true)\n",
      " |-- Total_Trans_Amt: integer (nullable = true)\n",
      " |-- Total_Trans_Ct: integer (nullable = true)\n",
      " |-- Total_Ct_Chng_Q4_Q1: double (nullable = true)\n",
      " |-- Avg_Utilization_Ratio: double (nullable = true)\n",
      " |-- Education_Level_index: double (nullable = false)\n",
      " |-- Marital_Status_index: double (nullable = false)\n",
      " |-- Income_Category_index: double (nullable = false)\n",
      " |-- Card_Category_index: double (nullable = false)\n",
      " |-- Age_Group_Index: double (nullable = false)\n",
      " |-- Register_Group_Index: double (nullable = false)\n",
      " |-- features: vector (nullable = true)\n",
      "\n",
      "10127 23\n"
     ]
    }
   ],
   "source": [
    "data.printSchema()\n",
    "row_count1 = data.count()\n",
    "num_columns1 = len(data.columns)\n",
    "print (row_count1,num_columns1)"
   ]
  },
  {
   "cell_type": "code",
   "execution_count": null,
   "id": "24f89cd0",
   "metadata": {},
   "outputs": [],
   "source": [
    "#use principal component analysis (PCA) in this prediction loss analysis."
   ]
  },
  {
   "cell_type": "code",
   "execution_count": 139,
   "id": "bf7d7b4a",
   "metadata": {},
   "outputs": [
    {
     "name": "stdout",
     "output_type": "stream",
     "text": [
      "<class 'pandas.core.frame.DataFrame'>\n",
      "RangeIndex: 10127 entries, 0 to 10126\n",
      "Data columns (total 23 columns):\n",
      " #   Column                                                                                                                              Non-Null Count  Dtype  \n",
      "---  ------                                                                                                                              --------------  -----  \n",
      " 0   CLIENTNUM                                                                                                                           10127 non-null  int64  \n",
      " 1   Attrition_Flag                                                                                                                      10127 non-null  object \n",
      " 2   Customer_Age                                                                                                                        10127 non-null  int64  \n",
      " 3   Gender                                                                                                                              10127 non-null  object \n",
      " 4   Dependent_count                                                                                                                     10127 non-null  int64  \n",
      " 5   Education_Level                                                                                                                     10127 non-null  object \n",
      " 6   Marital_Status                                                                                                                      10127 non-null  object \n",
      " 7   Income_Category                                                                                                                     10127 non-null  object \n",
      " 8   Card_Category                                                                                                                       10127 non-null  object \n",
      " 9   Months_on_book                                                                                                                      10127 non-null  int64  \n",
      " 10  Total_Relationship_Count                                                                                                            10127 non-null  int64  \n",
      " 11  Months_Inactive_12_mon                                                                                                              10127 non-null  int64  \n",
      " 12  Contacts_Count_12_mon                                                                                                               10127 non-null  int64  \n",
      " 13  Credit_Limit                                                                                                                        10127 non-null  float64\n",
      " 14  Total_Revolving_Bal                                                                                                                 10127 non-null  int64  \n",
      " 15  Avg_Open_To_Buy                                                                                                                     10127 non-null  float64\n",
      " 16  Total_Amt_Chng_Q4_Q1                                                                                                                10127 non-null  float64\n",
      " 17  Total_Trans_Amt                                                                                                                     10127 non-null  int64  \n",
      " 18  Total_Trans_Ct                                                                                                                      10127 non-null  object \n",
      " 19  Total_Ct_Chng_Q4_Q1                                                                                                                 10127 non-null  float64\n",
      " 20  Avg_Utilization_Ratio                                                                                                               10126 non-null  float64\n",
      " 21  Naive_Bayes_Classifier_Attrition_Flag_Card_Category_Contacts_Count_12_mon_Dependent_count_Education_Level_Months_Inactive_12_mon_1  10127 non-null  float64\n",
      " 22  Naive_Bayes_Classifier_Attrition_Flag_Card_Category_Contacts_Count_12_mon_Dependent_count_Education_Level_Months_Inactive_12_mon_2  10127 non-null  float64\n",
      "dtypes: float64(7), int64(9), object(7)\n",
      "memory usage: 1.8+ MB\n"
     ]
    }
   ],
   "source": [
    "# Load Dataset\n",
    "import pandas as pd\n",
    "df_1 = pd.read_csv(\"BankChurners_1.csv\")\n",
    "df_1.info()"
   ]
  },
  {
   "cell_type": "code",
   "execution_count": 142,
   "id": "fa64dc76",
   "metadata": {},
   "outputs": [],
   "source": [
    "df_1['Attrition_Flag'] = df_1['Attrition_Flag'].map({'Existing Customer': 0, 'Attrited Customer': 1})\n",
    "df_1['Gender'] = df_1['Gender'].replace({'Male': 'M'})\n",
    "df_1['Gender'] = df_1.Gender.replace({'F':1,'M':0})\n",
    "import numpy as np\n",
    "invalid_rows = df_1[df_1['Total_Trans_Ct'] == 'aa']\n",
    "df_1['Total_Trans_Ct'].describe()\n",
    "df_1['Total_Trans_Ct'] = df_1['Total_Trans_Ct'].replace('aa', np.nan)\n",
    "\n",
    "median_value = df_1['Total_Trans_Ct'].median()\n",
    "df_1['Total_Trans_Ct'].fillna(median_value, inplace=True)"
   ]
  },
  {
   "cell_type": "code",
   "execution_count": 145,
   "id": "d5af9a45",
   "metadata": {},
   "outputs": [],
   "source": [
    "# 定义需要标签编码的列名列表\n",
    "columns_to_label_encode = [\"Education_Level\", \"Marital_Status\", \"Income_Category\", \"Card_Category\"]\n",
    "\n",
    "# 创建一个映射字典，将每个不同的类别映射为整数标签\n",
    "label_mapping = {}\n",
    "\n",
    "for column in columns_to_label_encode:\n",
    "    unique_values = df_1[column].unique()\n",
    "    label_mapping[column] = {value: index for index, value in enumerate(unique_values)}\n",
    "\n",
    "# 使用映射字典进行标签编码\n",
    "for column, mapping in label_mapping.items():\n",
    "    df_1[column] = df_1[column].map(mapping)"
   ]
  },
  {
   "cell_type": "code",
   "execution_count": 148,
   "id": "31ed4a08",
   "metadata": {},
   "outputs": [],
   "source": [
    "df_1 = df_1.drop([\"CLIENTNUM\",\"Naive_Bayes_Classifier_Attrition_Flag_Card_Category_Contacts_Count_12_mon_Dependent_count_Education_Level_Months_Inactive_12_mon_1\",\"Naive_Bayes_Classifier_Attrition_Flag_Card_Category_Contacts_Count_12_mon_Dependent_count_Education_Level_Months_Inactive_12_mon_2\"], axis=1)\n"
   ]
  },
  {
   "cell_type": "code",
   "execution_count": 152,
   "id": "6f39123d",
   "metadata": {},
   "outputs": [],
   "source": [
    "df_1['Avg_Utilization_Ratio'].fillna(df_1['Avg_Utilization_Ratio'].median(), inplace=True)\n"
   ]
  },
  {
   "cell_type": "code",
   "execution_count": 153,
   "id": "8dff3ae8",
   "metadata": {},
   "outputs": [
    {
     "name": "stdout",
     "output_type": "stream",
     "text": [
      "<class 'pandas.core.frame.DataFrame'>\n",
      "RangeIndex: 10127 entries, 0 to 10126\n",
      "Data columns (total 20 columns):\n",
      " #   Column                    Non-Null Count  Dtype  \n",
      "---  ------                    --------------  -----  \n",
      " 0   Attrition_Flag            10127 non-null  int64  \n",
      " 1   Customer_Age              10127 non-null  int64  \n",
      " 2   Gender                    10127 non-null  int64  \n",
      " 3   Dependent_count           10127 non-null  int64  \n",
      " 4   Education_Level           10127 non-null  int64  \n",
      " 5   Marital_Status            10127 non-null  int64  \n",
      " 6   Income_Category           10127 non-null  int64  \n",
      " 7   Card_Category             10127 non-null  int64  \n",
      " 8   Months_on_book            10127 non-null  int64  \n",
      " 9   Total_Relationship_Count  10127 non-null  int64  \n",
      " 10  Months_Inactive_12_mon    10127 non-null  int64  \n",
      " 11  Contacts_Count_12_mon     10127 non-null  int64  \n",
      " 12  Credit_Limit              10127 non-null  float64\n",
      " 13  Total_Revolving_Bal       10127 non-null  int64  \n",
      " 14  Avg_Open_To_Buy           10127 non-null  float64\n",
      " 15  Total_Amt_Chng_Q4_Q1      10127 non-null  float64\n",
      " 16  Total_Trans_Amt           10127 non-null  int64  \n",
      " 17  Total_Trans_Ct            10127 non-null  object \n",
      " 18  Total_Ct_Chng_Q4_Q1       10127 non-null  float64\n",
      " 19  Avg_Utilization_Ratio     10127 non-null  float64\n",
      "dtypes: float64(5), int64(14), object(1)\n",
      "memory usage: 1.5+ MB\n"
     ]
    }
   ],
   "source": [
    "df_1.info()"
   ]
  },
  {
   "cell_type": "code",
   "execution_count": 154,
   "id": "14e3b4a1",
   "metadata": {},
   "outputs": [],
   "source": [
    "import pandas as pd\n",
    "from sklearn.preprocessing import StandardScaler\n",
    "from sklearn.decomposition import PCA\n",
    "import matplotlib.pyplot as plt\n",
    "\n",
    "# Separating features and target variables\n",
    "X = df_1.drop(columns=['Attrition_Flag'])  # features\n",
    "y = df_1['Attrition_Flag']  # Target variable\n",
    "\n",
    "scaler = StandardScaler()\n",
    "scaled_data = scaler.fit_transform(df_1)\n",
    "X_scaled = scaler.fit_transform(X)\n",
    "\n",
    "pca = PCA()\n",
    "pca.fit(X_scaled)\n",
    "explained_variance_ratio = pca.explained_variance_ratio_\n",
    "cumulative_variance = explained_variance_ratio.cumsum()"
   ]
  },
  {
   "cell_type": "code",
   "execution_count": 156,
   "id": "d1193dfe",
   "metadata": {},
   "outputs": [
    {
     "data": {
      "text/plain": [
       "[<matplotlib.lines.Line2D at 0x1387bef10>]"
      ]
     },
     "execution_count": 156,
     "metadata": {},
     "output_type": "execute_result"
    },
    {
     "data": {
      "image/png": "[encoded data removed]",
      "text/plain": [
       "<Figure size 640x480 with 1 Axes>"
      ]
     },
     "metadata": {},
     "output_type": "display_data"
    }
   ],
   "source": [
    "# Draw a chart of the proportion of cumulative explanatory variance\n",
    "plt.plot(range(1, len(cumulative_variance) + 1), cumulative_variance, marker='o', linestyle='--')"
   ]
  },
  {
   "cell_type": "code",
   "execution_count": 157,
   "id": "8df47942",
   "metadata": {},
   "outputs": [],
   "source": [
    "# Using PCA for dimensionality reduction\n",
    "n_components = 15  # Choose to retain 20 principal components\n",
    "pca = PCA(n_components=n_components)\n",
    "X_reduced = pca.fit_transform(X_scaled)"
   ]
  },
  {
   "cell_type": "code",
   "execution_count": 159,
   "id": "9cc508cb",
   "metadata": {},
   "outputs": [
    {
     "name": "stdout",
     "output_type": "stream",
     "text": [
      "<class 'pandas.core.frame.DataFrame'>\n",
      "RangeIndex: 10127 entries, 0 to 10126\n",
      "Data columns (total 20 columns):\n",
      " #   Column                    Non-Null Count  Dtype  \n",
      "---  ------                    --------------  -----  \n",
      " 0   Attrition_Flag            10127 non-null  int64  \n",
      " 1   Customer_Age              10127 non-null  int64  \n",
      " 2   Gender                    10127 non-null  int64  \n",
      " 3   Dependent_count           10127 non-null  int64  \n",
      " 4   Education_Level           10127 non-null  int64  \n",
      " 5   Marital_Status            10127 non-null  int64  \n",
      " 6   Income_Category           10127 non-null  int64  \n",
      " 7   Card_Category             10127 non-null  int64  \n",
      " 8   Months_on_book            10127 non-null  int64  \n",
      " 9   Total_Relationship_Count  10127 non-null  int64  \n",
      " 10  Months_Inactive_12_mon    10127 non-null  int64  \n",
      " 11  Contacts_Count_12_mon     10127 non-null  int64  \n",
      " 12  Credit_Limit              10127 non-null  float64\n",
      " 13  Total_Revolving_Bal       10127 non-null  int64  \n",
      " 14  Avg_Open_To_Buy           10127 non-null  float64\n",
      " 15  Total_Amt_Chng_Q4_Q1      10127 non-null  float64\n",
      " 16  Total_Trans_Amt           10127 non-null  int64  \n",
      " 17  Total_Trans_Ct            10127 non-null  object \n",
      " 18  Total_Ct_Chng_Q4_Q1       10127 non-null  float64\n",
      " 19  Avg_Utilization_Ratio     10127 non-null  float64\n",
      "dtypes: float64(5), int64(14), object(1)\n",
      "memory usage: 1.5+ MB\n",
      "Explained Variance Ratios: [0.1607029  0.10969574 0.09500955 0.0796583  0.06755369 0.05709696\n",
      " 0.0534393  0.05277618 0.05185969 0.05157463 0.04753856 0.04498986\n",
      " 0.0417751  0.03154511 0.02364258]\n",
      "<class 'pandas.core.frame.DataFrame'>\n",
      "RangeIndex: 10127 entries, 0 to 10126\n",
      "Data columns (total 20 columns):\n",
      " #   Column                    Non-Null Count  Dtype  \n",
      "---  ------                    --------------  -----  \n",
      " 0   Attrition_Flag            10127 non-null  int64  \n",
      " 1   Customer_Age              10127 non-null  int64  \n",
      " 2   Gender                    10127 non-null  int64  \n",
      " 3   Dependent_count           10127 non-null  int64  \n",
      " 4   Education_Level           10127 non-null  int64  \n",
      " 5   Marital_Status            10127 non-null  int64  \n",
      " 6   Income_Category           10127 non-null  int64  \n",
      " 7   Card_Category             10127 non-null  int64  \n",
      " 8   Months_on_book            10127 non-null  int64  \n",
      " 9   Total_Relationship_Count  10127 non-null  int64  \n",
      " 10  Months_Inactive_12_mon    10127 non-null  int64  \n",
      " 11  Contacts_Count_12_mon     10127 non-null  int64  \n",
      " 12  Credit_Limit              10127 non-null  float64\n",
      " 13  Total_Revolving_Bal       10127 non-null  int64  \n",
      " 14  Avg_Open_To_Buy           10127 non-null  float64\n",
      " 15  Total_Amt_Chng_Q4_Q1      10127 non-null  float64\n",
      " 16  Total_Trans_Amt           10127 non-null  int64  \n",
      " 17  Total_Trans_Ct            10127 non-null  object \n",
      " 18  Total_Ct_Chng_Q4_Q1       10127 non-null  float64\n",
      " 19  Avg_Utilization_Ratio     10127 non-null  float64\n",
      "dtypes: float64(5), int64(14), object(1)\n",
      "memory usage: 1.5+ MB\n"
     ]
    }
   ],
   "source": [
    "df_1.info()\n",
    "print(\"Explained Variance Ratios:\", explained_variance_ratio[:n_components])\n",
    "\n",
    "cumulative_variance_ratio = explained_variance_ratio.cumsum()"
   ]
  },
  {
   "cell_type": "code",
   "execution_count": 160,
   "id": "e6572871",
   "metadata": {},
   "outputs": [
    {
     "name": "stdout",
     "output_type": "stream",
     "text": [
      "<class 'pandas.core.frame.DataFrame'>\n",
      "RangeIndex: 10127 entries, 0 to 10126\n",
      "Data columns (total 20 columns):\n",
      " #   Column                    Non-Null Count  Dtype  \n",
      "---  ------                    --------------  -----  \n",
      " 0   Attrition_Flag            10127 non-null  int64  \n",
      " 1   Customer_Age              10127 non-null  int64  \n",
      " 2   Gender                    10127 non-null  int64  \n",
      " 3   Dependent_count           10127 non-null  int64  \n",
      " 4   Education_Level           10127 non-null  int64  \n",
      " 5   Marital_Status            10127 non-null  int64  \n",
      " 6   Income_Category           10127 non-null  int64  \n",
      " 7   Card_Category             10127 non-null  int64  \n",
      " 8   Months_on_book            10127 non-null  int64  \n",
      " 9   Total_Relationship_Count  10127 non-null  int64  \n",
      " 10  Months_Inactive_12_mon    10127 non-null  int64  \n",
      " 11  Contacts_Count_12_mon     10127 non-null  int64  \n",
      " 12  Credit_Limit              10127 non-null  float64\n",
      " 13  Total_Revolving_Bal       10127 non-null  int64  \n",
      " 14  Avg_Open_To_Buy           10127 non-null  float64\n",
      " 15  Total_Amt_Chng_Q4_Q1      10127 non-null  float64\n",
      " 16  Total_Trans_Amt           10127 non-null  int64  \n",
      " 17  Total_Trans_Ct            10127 non-null  object \n",
      " 18  Total_Ct_Chng_Q4_Q1       10127 non-null  float64\n",
      " 19  Avg_Utilization_Ratio     10127 non-null  float64\n",
      "dtypes: float64(5), int64(14), object(1)\n",
      "memory usage: 1.5+ MB\n"
     ]
    }
   ],
   "source": [
    "# data projection\n",
    "# Create a PCA model and select dimensions after dimensionality reduction\n",
    "n_projection_components = 2  # Select the number of dimensions to reduce to\n",
    "pca_projection = PCA(n_components=n_projection_components)\n",
    "\n",
    "# Using PCA model to fit merged projection dimensionality reduced data\n",
    "X_projected = pca_projection.fit_transform(X_reduced)\n",
    "\n",
    "df_1.info()"
   ]
  },
  {
   "cell_type": "code",
   "execution_count": 53,
   "id": "05e67127",
   "metadata": {},
   "outputs": [],
   "source": [
    "# 06-DMA"
   ]
  },
  {
   "cell_type": "code",
   "execution_count": 54,
   "id": "ccc5aef7",
   "metadata": {},
   "outputs": [],
   "source": [
    "from pyspark.ml.classification import RandomForestClassifier\n",
    "from pyspark.ml.evaluation import MulticlassClassificationEvaluator, BinaryClassificationEvaluator\n",
    "from pyspark.ml.tuning import ParamGridBuilder, CrossValidator\n",
    "from pyspark.ml import Pipeline\n",
    "from pyspark.sql import SparkSession\n",
    "from pyspark.ml.feature import VectorAssembler\n",
    "import pyspark.sql.functions as F\n",
    "from pyspark.sql.types import DoubleType\n",
    "from pyspark.mllib.evaluation import MulticlassMetrics"
   ]
  },
  {
   "cell_type": "code",
   "execution_count": 55,
   "id": "ba3eae16",
   "metadata": {},
   "outputs": [],
   "source": [
    "# 1. 特征工程：将特征列组装成一个特征向量\n",
    "feature_columns = indexed_df.columns[1:]  # 选择除了目标变量以外的所有特征列\n",
    "assembler = VectorAssembler(inputCols=feature_columns, outputCol=\"features\")\n",
    "data = assembler.transform(indexed_df)\n",
    "\n",
    "indexer = StringIndexer(inputCol=\"Attrition_Flag\", outputCol=\"label\")\n",
    "data = indexer.fit(data).transform(data)"
   ]
  },
  {
   "cell_type": "code",
   "execution_count": 56,
   "id": "787486fd",
   "metadata": {},
   "outputs": [],
   "source": [
    "train_data, test_data = data.randomSplit([0.7, 0.3], seed=42)"
   ]
  },
  {
   "cell_type": "code",
   "execution_count": 57,
   "id": "c97cb3dd",
   "metadata": {},
   "outputs": [],
   "source": [
    "rf_classifier = RandomForestClassifier(featuresCol=\"features\", labelCol=\"label\", numTrees=100, maxDepth=5, seed=42)"
   ]
  },
  {
   "cell_type": "code",
   "execution_count": 58,
   "id": "9237942c",
   "metadata": {},
   "outputs": [
    {
     "name": "stderr",
     "output_type": "stream",
     "text": [
      "                                                                                \r"
     ]
    }
   ],
   "source": [
    "model = rf_classifier.fit(train_data)"
   ]
  },
  {
   "cell_type": "code",
   "execution_count": 59,
   "id": "e29a29d3",
   "metadata": {},
   "outputs": [],
   "source": [
    "predictions = model.transform(test_data)"
   ]
  },
  {
   "cell_type": "code",
   "execution_count": 60,
   "id": "b036bbe3",
   "metadata": {},
   "outputs": [
    {
     "name": "stdout",
     "output_type": "stream",
     "text": [
      "Accuracy: 0.9081597814953909\n",
      "Precision: 0.9089498821915422\n",
      "Recall: 0.9081597814953909\n",
      "F1 Score: 0.8948617161872259\n",
      "ROC AUC: 0.9625633268526924\n"
     ]
    }
   ],
   "source": [
    "evaluator = MulticlassClassificationEvaluator(labelCol=\"label\", predictionCol=\"prediction\", metricName=\"accuracy\")\n",
    "accuracy = evaluator.evaluate(predictions)\n",
    "print(\"Accuracy:\", accuracy)\n",
    "\n",
    "evaluator = MulticlassClassificationEvaluator(labelCol=\"label\", predictionCol=\"prediction\", metricName=\"weightedPrecision\")\n",
    "precision = evaluator.evaluate(predictions)\n",
    "print(\"Precision:\", precision)\n",
    "\n",
    "evaluator = MulticlassClassificationEvaluator(labelCol=\"label\", predictionCol=\"prediction\", metricName=\"weightedRecall\")\n",
    "recall = evaluator.evaluate(predictions)\n",
    "print(\"Recall:\", recall)\n",
    "\n",
    "evaluator = MulticlassClassificationEvaluator(labelCol=\"label\", predictionCol=\"prediction\", metricName=\"f1\")\n",
    "f1 = evaluator.evaluate(predictions)\n",
    "print(\"F1 Score:\", f1)\n",
    "\n",
    "binary_evaluator = BinaryClassificationEvaluator(labelCol=\"label\", rawPredictionCol=\"rawPrediction\", metricName=\"areaUnderROC\")\n",
    "roc_auc = binary_evaluator.evaluate(predictions)\n",
    "print(\"ROC AUC:\", roc_auc)"
   ]
  },
  {
   "cell_type": "code",
   "execution_count": 61,
   "id": "dae8a8b8",
   "metadata": {},
   "outputs": [
    {
     "name": "stdout",
     "output_type": "stream",
     "text": [
      "+--------------+----------+--------------------+\n",
      "|Attrition_Flag|prediction|         probability|\n",
      "+--------------+----------+--------------------+\n",
      "|             0|       0.0|[0.66114712599127...|\n",
      "|             0|       0.0|[0.91784552622003...|\n",
      "|             0|       0.0|[0.64530632736742...|\n",
      "|             0|       0.0|[0.87128592272525...|\n",
      "|             0|       0.0|[0.93548986065046...|\n",
      "|             0|       0.0|[0.63795932737081...|\n",
      "|             0|       0.0|[0.70464579257320...|\n",
      "|             0|       0.0|[0.72160630529196...|\n",
      "|             0|       0.0|[0.89926173283727...|\n",
      "|             0|       0.0|[0.64728456096245...|\n",
      "|             0|       0.0|[0.88389379249244...|\n",
      "|             0|       0.0|[0.92074569182211...|\n",
      "|             0|       0.0|[0.88377846069071...|\n",
      "|             0|       0.0|[0.67861641073996...|\n",
      "|             0|       0.0|[0.61689680070745...|\n",
      "|             0|       0.0|[0.71025933695364...|\n",
      "|             0|       0.0|[0.82024238704777...|\n",
      "|             0|       0.0|[0.88056455665638...|\n",
      "|             0|       0.0|[0.63875825702425...|\n",
      "|             0|       0.0|[0.66660348674298...|\n",
      "+--------------+----------+--------------------+\n",
      "only showing top 20 rows\n",
      "\n"
     ]
    }
   ],
   "source": [
    "predictions.select(\"Attrition_Flag\", \"prediction\", \"probability\").show()"
   ]
  },
  {
   "cell_type": "code",
   "execution_count": 62,
   "id": "26fcdb00",
   "metadata": {},
   "outputs": [
    {
     "name": "stdout",
     "output_type": "stream",
     "text": [
      "root\n",
      " |-- Attrition_Flag: integer (nullable = false)\n",
      " |-- Customer_Age: integer (nullable = true)\n",
      " |-- Gender: integer (nullable = true)\n",
      " |-- Dependent_count: integer (nullable = true)\n",
      " |-- Months_on_book: integer (nullable = true)\n",
      " |-- Total_Relationship_Count: integer (nullable = true)\n",
      " |-- Months_Inactive_12_mon: integer (nullable = true)\n",
      " |-- Credit_Limit: double (nullable = true)\n",
      " |-- Avg_Open_To_Buy: double (nullable = true)\n",
      " |-- Total_Amt_Chng_Q4_Q1: double (nullable = true)\n",
      " |-- Total_Trans_Amt: integer (nullable = true)\n",
      " |-- Total_Trans_Ct: integer (nullable = true)\n",
      " |-- Education_Level_index: double (nullable = false)\n",
      " |-- Marital_Status_index: double (nullable = false)\n",
      " |-- Income_Category_index: double (nullable = false)\n",
      " |-- Card_Category_index: double (nullable = false)\n",
      " |-- Age_Group_Index: double (nullable = false)\n",
      " |-- Register_Group_Index: double (nullable = false)\n",
      "\n",
      "10127 18\n"
     ]
    }
   ],
   "source": [
    "indexed_df.printSchema()\n",
    "row_count1 = indexed_df.count()\n",
    "num_columns1 = len(indexed_df.columns)\n",
    "print (row_count1,num_columns1)"
   ]
  },
  {
   "cell_type": "code",
   "execution_count": 63,
   "id": "a0925e4a",
   "metadata": {},
   "outputs": [],
   "source": [
    "#C&R tree"
   ]
  },
  {
   "cell_type": "code",
   "execution_count": 64,
   "id": "896a5631",
   "metadata": {},
   "outputs": [],
   "source": [
    "from pyspark.sql import SparkSession\n",
    "from pyspark.ml import Pipeline\n",
    "from pyspark.ml.feature import VectorAssembler, StringIndexer\n",
    "from pyspark.ml.classification import DecisionTreeClassifier\n",
    "from pyspark.ml.evaluation import MulticlassClassificationEvaluator, BinaryClassificationEvaluator"
   ]
  },
  {
   "cell_type": "code",
   "execution_count": 65,
   "id": "0a3bdafa",
   "metadata": {},
   "outputs": [],
   "source": [
    "feature_columns = indexed_df.columns[1:]  # 选择除了目标变量以外的所有特征列\n",
    "assembler = VectorAssembler(inputCols=feature_columns, outputCol=\"features\")\n",
    "data1 = assembler.transform(indexed_df)"
   ]
  },
  {
   "cell_type": "code",
   "execution_count": 66,
   "id": "968e9195",
   "metadata": {},
   "outputs": [],
   "source": [
    "indexer = StringIndexer(inputCol=\"Attrition_Flag\", outputCol=\"label\")\n",
    "data1 = indexer.fit(data1).transform(data1)"
   ]
  },
  {
   "cell_type": "code",
   "execution_count": 67,
   "id": "11fa799c",
   "metadata": {},
   "outputs": [],
   "source": [
    "train_data, test_data = data1.randomSplit([0.7, 0.3], seed=42)"
   ]
  },
  {
   "cell_type": "code",
   "execution_count": 68,
   "id": "67e9cef2",
   "metadata": {},
   "outputs": [],
   "source": [
    "dt_classifier = DecisionTreeClassifier(labelCol=\"label\", featuresCol=\"features\")"
   ]
  },
  {
   "cell_type": "code",
   "execution_count": 69,
   "id": "de00cbb6",
   "metadata": {},
   "outputs": [
    {
     "name": "stderr",
     "output_type": "stream",
     "text": [
      "\r",
      "[Stage 149:>                                                        (0 + 1) / 1]\r",
      "\r",
      "                                                                                \r"
     ]
    }
   ],
   "source": [
    "model = dt_classifier.fit(train_data)"
   ]
  },
  {
   "cell_type": "code",
   "execution_count": 70,
   "id": "2a9ebb27",
   "metadata": {},
   "outputs": [],
   "source": [
    "predictions = model.transform(test_data)"
   ]
  },
  {
   "cell_type": "code",
   "execution_count": 71,
   "id": "d2e1cc0d",
   "metadata": {},
   "outputs": [
    {
     "name": "stdout",
     "output_type": "stream",
     "text": [
      "Accuracy: 0.9252304540798908\n"
     ]
    },
    {
     "name": "stderr",
     "output_type": "stream",
     "text": [
      "                                                                                \r"
     ]
    },
    {
     "name": "stdout",
     "output_type": "stream",
     "text": [
      "Precision: 0.9218658503645836\n",
      "Recall: 0.9252304540798907\n",
      "F1 Score: 0.9223159301427204\n",
      "ROC AUC: 0.8958222734735637\n"
     ]
    }
   ],
   "source": [
    "evaluator = MulticlassClassificationEvaluator(labelCol=\"label\", predictionCol=\"prediction\", metricName=\"accuracy\")\n",
    "accuracy = evaluator.evaluate(predictions)\n",
    "print(\"Accuracy:\", accuracy)\n",
    "\n",
    "evaluator = MulticlassClassificationEvaluator(labelCol=\"label\", predictionCol=\"prediction\", metricName=\"weightedPrecision\")\n",
    "precision = evaluator.evaluate(predictions)\n",
    "print(\"Precision:\", precision)\n",
    "\n",
    "evaluator = MulticlassClassificationEvaluator(labelCol=\"label\", predictionCol=\"prediction\", metricName=\"weightedRecall\")\n",
    "recall = evaluator.evaluate(predictions)\n",
    "print(\"Recall:\", recall)\n",
    "\n",
    "evaluator = MulticlassClassificationEvaluator(labelCol=\"label\", predictionCol=\"prediction\", metricName=\"f1\")\n",
    "f1 = evaluator.evaluate(predictions)\n",
    "print(\"F1 Score:\", f1)\n",
    "\n",
    "binary_evaluator = BinaryClassificationEvaluator(labelCol=\"label\", rawPredictionCol=\"rawPrediction\", metricName=\"areaUnderROC\")\n",
    "roc_auc = binary_evaluator.evaluate(predictions)\n",
    "print(\"ROC AUC:\", roc_auc)"
   ]
  },
  {
   "cell_type": "code",
   "execution_count": null,
   "id": "4dfb4f75",
   "metadata": {},
   "outputs": [],
   "source": []
  },
  {
   "cell_type": "code",
   "execution_count": 72,
   "id": "61126d20",
   "metadata": {},
   "outputs": [],
   "source": [
    "from pyspark.ml import Pipeline\n",
    "from pyspark.ml.classification import LogisticRegression\n",
    "from pyspark.ml.evaluation import BinaryClassificationEvaluator, MulticlassClassificationEvaluator\n",
    "from pyspark.ml.feature import VectorAssembler, StringIndexer"
   ]
  },
  {
   "cell_type": "code",
   "execution_count": 73,
   "id": "0a653f17",
   "metadata": {},
   "outputs": [],
   "source": [
    "feature_columns = indexed_df.columns[1:]  # 选择除了目标变量以外的所有特征列\n",
    "assembler = VectorAssembler(inputCols=feature_columns, outputCol=\"features\")\n",
    "data1 = assembler.transform(indexed_df)"
   ]
  },
  {
   "cell_type": "code",
   "execution_count": 74,
   "id": "b8361317",
   "metadata": {},
   "outputs": [],
   "source": [
    "indexer = StringIndexer(inputCol=\"Attrition_Flag\", outputCol=\"label\")\n",
    "data1 = indexer.fit(data1).transform(data1)"
   ]
  },
  {
   "cell_type": "code",
   "execution_count": 75,
   "id": "39a93e94",
   "metadata": {},
   "outputs": [],
   "source": [
    "train_data, test_data = data1.randomSplit([0.7, 0.3], seed=42)"
   ]
  },
  {
   "cell_type": "code",
   "execution_count": 76,
   "id": "f31528c6",
   "metadata": {},
   "outputs": [
    {
     "name": "stderr",
     "output_type": "stream",
     "text": [
      "                                                                                \r"
     ]
    }
   ],
   "source": [
    "# 训练Logistic Regression模型\n",
    "lr = LogisticRegression(featuresCol=\"features\", labelCol=\"label\", maxIter=10, regParam=0.3, elasticNetParam=0.8)\n",
    "model = lr.fit(train_data)"
   ]
  },
  {
   "cell_type": "code",
   "execution_count": 77,
   "id": "141bd732",
   "metadata": {},
   "outputs": [],
   "source": [
    "# 在测试数据上进行预测\n",
    "predictions = model.transform(test_data)"
   ]
  },
  {
   "cell_type": "code",
   "execution_count": 78,
   "id": "7dff96ee",
   "metadata": {},
   "outputs": [
    {
     "name": "stderr",
     "output_type": "stream",
     "text": [
      "\r",
      "[Stage 181:>                                                        (0 + 1) / 1]\r",
      "\r",
      "                                                                                \r"
     ]
    },
    {
     "name": "stdout",
     "output_type": "stream",
     "text": [
      "Accuracy: 0.8426083987709115\n",
      "Precision: 0.7099889136792795\n",
      "Recall: 0.8426083987709115\n",
      "F1 Score: 0.7706346222592587\n",
      "AUC: 0.5\n"
     ]
    }
   ],
   "source": [
    "# 计算准确率、精确度、召回率和F1分数\n",
    "evaluator = MulticlassClassificationEvaluator(labelCol=\"label\", predictionCol=\"prediction\", metricName=\"accuracy\")\n",
    "accuracy = evaluator.evaluate(predictions)\n",
    "print(f\"Accuracy: {accuracy}\")\n",
    "\n",
    "evaluator = MulticlassClassificationEvaluator(labelCol=\"label\", predictionCol=\"prediction\", metricName=\"weightedPrecision\")\n",
    "precision = evaluator.evaluate(predictions)\n",
    "print(f\"Precision: {precision}\")\n",
    "\n",
    "evaluator = MulticlassClassificationEvaluator(labelCol=\"label\", predictionCol=\"prediction\", metricName=\"weightedRecall\")\n",
    "recall = evaluator.evaluate(predictions)\n",
    "print(f\"Recall: {recall}\")\n",
    "\n",
    "evaluator = MulticlassClassificationEvaluator(labelCol=\"label\", predictionCol=\"prediction\", metricName=\"f1\")\n",
    "f1 = evaluator.evaluate(predictions)\n",
    "print(f\"F1 Score: {f1}\")\n",
    "\n",
    "# 计算AUC\n",
    "evaluator = BinaryClassificationEvaluator(labelCol=\"label\", rawPredictionCol=\"rawPrediction\", metricName=\"areaUnderROC\")\n",
    "auc = evaluator.evaluate(predictions)\n",
    "print(f\"AUC: {auc}\")"
   ]
  },
  {
   "cell_type": "code",
   "execution_count": 79,
   "id": "c3454e15",
   "metadata": {},
   "outputs": [],
   "source": [
    "#XGBoost "
   ]
  },
  {
   "cell_type": "code",
   "execution_count": 80,
   "id": "9284535f",
   "metadata": {},
   "outputs": [],
   "source": [
    "import pyspark\n",
    "from pyspark.sql import SparkSession\n",
    "import xgboost as xgb\n",
    "import pandas as pd\n",
    "from sklearn.metrics import accuracy_score, precision_score, recall_score, f1_score, roc_auc_score"
   ]
  },
  {
   "cell_type": "code",
   "execution_count": 81,
   "id": "85cc707d",
   "metadata": {},
   "outputs": [],
   "source": [
    "feature_columns = indexed_df.columns[1:]  # 选择除了目标变量以外的所有特征列\n",
    "assembler = VectorAssembler(inputCols=feature_columns, outputCol=\"features\")\n",
    "data2 = assembler.transform(indexed_df)"
   ]
  },
  {
   "cell_type": "code",
   "execution_count": 82,
   "id": "fa07761f",
   "metadata": {},
   "outputs": [],
   "source": [
    "indexer = StringIndexer(inputCol=\"Attrition_Flag\", outputCol=\"label\")\n",
    "data2 = indexer.fit(data2).transform(data2)"
   ]
  },
  {
   "cell_type": "code",
   "execution_count": 83,
   "id": "9b47b897",
   "metadata": {},
   "outputs": [],
   "source": [
    "train_data, test_data = data2.randomSplit([0.7, 0.3], seed=42)"
   ]
  },
  {
   "cell_type": "code",
   "execution_count": 84,
   "id": "8679b02d",
   "metadata": {},
   "outputs": [],
   "source": [
    "# 转换为Pandas DataFrame\n",
    "data_pd = train_data.toPandas()\n",
    "\n",
    "# 将数据转换为XGBoost的DMatrix格式\n",
    "dtrain = xgb.DMatrix(data_pd[feature_columns], label=data_pd[\"label\"])"
   ]
  },
  {
   "cell_type": "code",
   "execution_count": 85,
   "id": "798f5a76",
   "metadata": {},
   "outputs": [],
   "source": [
    "params = {\n",
    "    \"objective\": \"binary:logistic\",\n",
    "    \"max_depth\": 5,\n",
    "    \"eta\": 0.1,\n",
    "    \"eval_metric\": \"logloss\"\n",
    "}"
   ]
  },
  {
   "cell_type": "code",
   "execution_count": 86,
   "id": "7a96a2de",
   "metadata": {},
   "outputs": [],
   "source": [
    "# 训练XGBoost模型\n",
    "model = xgb.train(params, dtrain, num_boost_round=100)"
   ]
  },
  {
   "cell_type": "code",
   "execution_count": 87,
   "id": "293c9b56",
   "metadata": {},
   "outputs": [],
   "source": [
    "# 在测试数据上进行预测\n",
    "test_data_pd = test_data.toPandas()\n",
    "dtest = xgb.DMatrix(test_data_pd[feature_columns])\n",
    "predictions = model.predict(dtest)"
   ]
  },
  {
   "cell_type": "code",
   "execution_count": 88,
   "id": "17457ac1",
   "metadata": {},
   "outputs": [
    {
     "name": "stdout",
     "output_type": "stream",
     "text": [
      "Accuracy: 0.9621031068624104\n",
      "Precision: 0.9050925925925926\n",
      "Recall: 0.8481561822125814\n",
      "F1 Score: 0.8756998880179171\n",
      "AUC: 0.9868573708765035\n"
     ]
    }
   ],
   "source": [
    "# 计算二进制分类的真实标签\n",
    "true_labels = test_data_pd[\"label\"]\n",
    "\n",
    "# 计算准确率\n",
    "accuracy = accuracy_score(true_labels, (predictions > 0.5).astype(int))\n",
    "print(f\"Accuracy: {accuracy}\")\n",
    "\n",
    "# 计算精确度\n",
    "precision = precision_score(true_labels, (predictions > 0.5).astype(int))\n",
    "print(f\"Precision: {precision}\")\n",
    "\n",
    "# 计算召回率\n",
    "recall = recall_score(true_labels, (predictions > 0.5).astype(int))\n",
    "print(f\"Recall: {recall}\")\n",
    "\n",
    "# 计算F1分数\n",
    "f1 = f1_score(true_labels, (predictions > 0.5).astype(int))\n",
    "print(f\"F1 Score: {f1}\")\n",
    "\n",
    "# 计算AUC\n",
    "auc = roc_auc_score(true_labels, predictions)\n",
    "print(f\"AUC: {auc}\")"
   ]
  },
  {
   "cell_type": "code",
   "execution_count": 89,
   "id": "f89f5673",
   "metadata": {},
   "outputs": [],
   "source": [
    "#6.3Parameter tuning"
   ]
  },
  {
   "cell_type": "code",
   "execution_count": 163,
   "id": "75a7041f",
   "metadata": {},
   "outputs": [],
   "source": [
    "from pyspark.ml.classification import DecisionTreeClassifier\n",
    "from pyspark.ml.evaluation import MulticlassClassificationEvaluator\n",
    "from pyspark.ml.tuning import CrossValidator, ParamGridBuilder\n",
    "from pyspark.ml import Pipeline\n",
    "\n",
    "# Create a C&R Tree model\n",
    "dt_classifier = DecisionTreeClassifier(labelCol=\"label\", featuresCol=\"features\")\n",
    "\n",
    "# Create an evaluator (here we use accuracy as the evaluation metric, you can choose other metrics as needed)\n",
    "evaluator = MulticlassClassificationEvaluator(labelCol=\"label\", predictionCol=\"prediction\", metricName=\"accuracy\")\n",
    "\n",
    "# Create a parameter grid\n",
    "param_grid = ParamGridBuilder() \\\n",
    "    .addGrid(dt_classifier.maxDepth, [5, 7, 10, 15]) \\\n",
    "    .addGrid(dt_classifier.minInstancesPerNode, [1, 2, 4, 6]) \\\n",
    "    .addGrid(dt_classifier.minInfoGain, [0.0, 0.1, 0.2]) \\\n",
    "    .addGrid(dt_classifier.impurity, [\"entropy\", \"gini\"]) \\\n",
    "    .build()\n",
    "\n",
    "# Create a CrossValidator object\n",
    "crossval = CrossValidator(estimator=dt_classifier,\n",
    "                          estimatorParamMaps=param_grid,\n",
    "                          evaluator=evaluator,\n",
    "                          numFolds=5)"
   ]
  },
  {
   "cell_type": "code",
   "execution_count": 164,
   "id": "241a62b0",
   "metadata": {},
   "outputs": [
    {
     "name": "stderr",
     "output_type": "stream",
     "text": [
      "                                                                                \r"
     ]
    }
   ],
   "source": [
    "feature_columns = indexed_df.columns[1:]  #Select all feature columns except the target variable.\n",
    "assembler = VectorAssembler(inputCols=feature_columns, outputCol=\"features\")\n",
    "data2 = assembler.transform(indexed_df)\n",
    "\n",
    "indexer = StringIndexer(inputCol=\"Attrition_Flag\", outputCol=\"label\")\n",
    "data2 = indexer.fit(data2).transform(data2)\n",
    "\n",
    "train_data, test_data = data2.randomSplit([0.7, 0.3], seed=42)"
   ]
  },
  {
   "cell_type": "code",
   "execution_count": 165,
   "id": "a5f2f4b0",
   "metadata": {},
   "outputs": [
    {
     "name": "stderr",
     "output_type": "stream",
     "text": [
      "                                                                                \r"
     ]
    }
   ],
   "source": [
    "# Run cross-validation to select the best parameters\n",
    "cv_model = crossval.fit(train_data)\n",
    "\n",
    "# Get the best model\n",
    "best_model = cv_model.bestModel"
   ]
  },
  {
   "cell_type": "code",
   "execution_count": 166,
   "id": "63f33c07",
   "metadata": {},
   "outputs": [
    {
     "name": "stdout",
     "output_type": "stream",
     "text": [
      "Best Max Depth: 10\n",
      "Best Min Instances Per Node: 4\n",
      "Best Min Info Gain: 0.0\n",
      "Best impurity: gini\n"
     ]
    }
   ],
   "source": [
    "# Get the best model\n",
    "best_max_depth = best_model.getMaxDepth()\n",
    "best_min_instances_per_node = best_model.getMinInstancesPerNode()\n",
    "best_min_info_gain = best_model.getMinInfoGain()\n",
    "best_impurity = best_model.getImpurity()\n",
    "\n",
    "print(f\"Best Max Depth: {best_max_depth}\")\n",
    "print(f\"Best Min Instances Per Node: {best_min_instances_per_node}\")\n",
    "print(f\"Best Min Info Gain: {best_min_info_gain}\")\n",
    "print(f\"Best impurity: {best_impurity}\")"
   ]
  },
  {
   "cell_type": "code",
   "execution_count": 94,
   "id": "c906ea4a",
   "metadata": {},
   "outputs": [],
   "source": [
    "#Execute the model with the best parameters"
   ]
  },
  {
   "cell_type": "code",
   "execution_count": 167,
   "id": "6b780c04",
   "metadata": {},
   "outputs": [],
   "source": [
    "predictions = cv_model.transform(test_data)"
   ]
  },
  {
   "cell_type": "code",
   "execution_count": 168,
   "id": "fac0ec3b",
   "metadata": {},
   "outputs": [
    {
     "name": "stderr",
     "output_type": "stream",
     "text": [
      "\r",
      "[Stage 9068:>                                                       (0 + 1) / 1]\r",
      "\r",
      "                                                                                \r"
     ]
    },
    {
     "name": "stdout",
     "output_type": "stream",
     "text": [
      "Accuracy: 0.9300102424035507\n",
      "Precision: 0.9278903792778955\n",
      "Recall: 0.9300102424035508\n",
      "F1 Score: 0.9286005453089441\n",
      "ROC AUC: 0.8051453397413134\n"
     ]
    }
   ],
   "source": [
    "evaluator = MulticlassClassificationEvaluator(labelCol=\"label\", predictionCol=\"prediction\", metricName=\"accuracy\")\n",
    "accuracy = evaluator.evaluate(predictions)\n",
    "print(\"Accuracy:\", accuracy)\n",
    "\n",
    "evaluator = MulticlassClassificationEvaluator(labelCol=\"label\", predictionCol=\"prediction\", metricName=\"weightedPrecision\")\n",
    "precision = evaluator.evaluate(predictions)\n",
    "print(\"Precision:\", precision)\n",
    "\n",
    "evaluator = MulticlassClassificationEvaluator(labelCol=\"label\", predictionCol=\"prediction\", metricName=\"weightedRecall\")\n",
    "recall = evaluator.evaluate(predictions)\n",
    "print(\"Recall:\", recall)\n",
    "\n",
    "evaluator = MulticlassClassificationEvaluator(labelCol=\"label\", predictionCol=\"prediction\", metricName=\"f1\")\n",
    "f1 = evaluator.evaluate(predictions)\n",
    "print(\"F1 Score:\", f1)\n",
    "\n",
    "binary_evaluator = BinaryClassificationEvaluator(labelCol=\"label\", rawPredictionCol=\"rawPrediction\", metricName=\"areaUnderROC\")\n",
    "roc_auc = binary_evaluator.evaluate(predictions)\n",
    "print(\"ROC AUC:\", roc_auc)"
   ]
  },
  {
   "cell_type": "code",
   "execution_count": 169,
   "id": "19ebccde",
   "metadata": {},
   "outputs": [],
   "source": [
    "# Obtain feature names and their corresponding importance\n",
    "feature_names = feature_columns\n",
    "feature_importances = best_model.featureImportances"
   ]
  },
  {
   "cell_type": "code",
   "execution_count": 170,
   "id": "f486e170",
   "metadata": {},
   "outputs": [
    {
     "name": "stdout",
     "output_type": "stream",
     "text": [
      "Feature 'Total_Trans_Ct': Importance 0.3672\n",
      "Feature 'Total_Trans_Amt': Importance 0.1932\n",
      "Feature 'Total_Relationship_Count': Importance 0.1578\n",
      "Feature 'Total_Amt_Chng_Q4_Q1': Importance 0.1223\n",
      "Feature 'Customer_Age': Importance 0.0428\n",
      "Feature 'Avg_Open_To_Buy': Importance 0.0237\n",
      "Feature 'Months_Inactive_12_mon': Importance 0.0199\n",
      "Feature 'Credit_Limit': Importance 0.0159\n",
      "Feature 'Income_Category_index': Importance 0.0130\n",
      "Feature 'Gender': Importance 0.0103\n",
      "Feature 'Education_Level_index': Importance 0.0086\n",
      "Feature 'Dependent_count': Importance 0.0075\n",
      "Feature 'Marital_Status_index': Importance 0.0073\n",
      "Feature 'Months_on_book': Importance 0.0056\n",
      "Feature 'Register_Group_Index': Importance 0.0030\n",
      "Feature 'Age_Group_Index': Importance 0.0020\n",
      "Feature 'Card_Category_index': Importance 0.0000\n"
     ]
    }
   ],
   "source": [
    "# Create a tuple list containing feature names and corresponding importance\n",
    "feature_importance_tuples = [(name, importance) for name, importance in zip(feature_names, feature_importances)]\n",
    "\n",
    "# Sort the importance of features in descending order of importance\n",
    "sorted_feature_importance_tuples = sorted(feature_importance_tuples, key=lambda x: x[1], reverse=True)\n",
    "\n",
    "# 打The importance of features after printing sorting\n",
    "for name, importance in sorted_feature_importance_tuples:\n",
    "    print(f\"Feature '{name}': Importance {importance:.4f}\")"
   ]
  },
  {
   "cell_type": "code",
   "execution_count": 173,
   "id": "e6c96f3a",
   "metadata": {},
   "outputs": [
    {
     "name": "stdout",
     "output_type": "stream",
     "text": [
      "Feature Importance Results:\n",
      "\n",
      "Feature Name                   Importance     \n",
      "---------------------------------------------\n",
      "Total_Trans_Ct                 0.3672         \n",
      "Total_Trans_Amt                0.1932         \n",
      "Total_Relationship_Count       0.1578         \n",
      "Total_Amt_Chng_Q4_Q1           0.1223         \n",
      "Customer_Age                   0.0428         \n",
      "Avg_Open_To_Buy                0.0237         \n",
      "Months_Inactive_12_mon         0.0199         \n",
      "Credit_Limit                   0.0159         \n",
      "Income_Category_index          0.0130         \n",
      "Gender                         0.0103         \n",
      "Education_Level_index          0.0086         \n",
      "Dependent_count                0.0075         \n",
      "Marital_Status_index           0.0073         \n",
      "Months_on_book                 0.0056         \n",
      "Register_Group_Index           0.0030         \n",
      "Age_Group_Index                0.0020         \n",
      "Card_Category_index            0.0000         \n"
     ]
    },
    {
     "data": {
      "image/png": "[encoded data removed]",
      "text/plain": [
       "<Figure size 1000x600 with 1 Axes>"
      ]
     },
     "metadata": {},
     "output_type": "display_data"
    }
   ],
   "source": [
    "import matplotlib.pyplot as plt\n",
    "\n",
    "# Get feature names and their corresponding importance scores\n",
    "feature_names = feature_columns\n",
    "feature_importances = best_model.featureImportances\n",
    "\n",
    "# Create a list of tuples containing feature names and their importances\n",
    "feature_importance_tuples = [(name, importance) for name, importance in zip(feature_names, feature_importances)]\n",
    "\n",
    "# Sort feature importances in descending order\n",
    "sorted_feature_importance_tuples = sorted(feature_importance_tuples, key=lambda x: x[1], reverse=True)\n",
    "\n",
    "# Extract sorted feature names and importances\n",
    "sorted_feature_names, sorted_feature_importances = zip(*sorted_feature_importance_tuples)\n",
    "\n",
    "# Print feature importance results\n",
    "print(\"Feature Importance Results:\")\n",
    "print(\"\\n{:<30} {:<15}\".format(\"Feature Name\", \"Importance\"))\n",
    "print(\"-\" * 45)\n",
    "for name, importance in sorted_feature_importance_tuples:\n",
    "    print(\"{:<30} {:<15.4f}\".format(name, importance))\n",
    "\n",
    "# Create a horizontal bar chart to visualize feature importances\n",
    "plt.figure(figsize=(10, 6))\n",
    "plt.barh(sorted_feature_names, sorted_feature_importances)\n",
    "plt.xlabel('Feature Importance')\n",
    "plt.title('Feature Importance of C&R Tree Model')\n",
    "plt.gca().invert_yaxis()  # Invert the y-axis to display high-importance features at the top\n",
    "plt.show()"
   ]
  },
  {
   "cell_type": "code",
   "execution_count": 172,
   "id": "57ad6287",
   "metadata": {},
   "outputs": [
    {
     "name": "stderr",
     "output_type": "stream",
     "text": [
      "\r",
      "[Stage 9085:>                                                       (0 + 1) / 1]\r"
     ]
    },
    {
     "name": "stdout",
     "output_type": "stream",
     "text": [
      "+--------------+----------+--------------------+\n",
      "|Attrition_Flag|prediction|         probability|\n",
      "+--------------+----------+--------------------+\n",
      "|             0|       0.0|           [1.0,0.0]|\n",
      "|             0|       0.0|[0.97520661157024...|\n",
      "|             0|       0.0|           [1.0,0.0]|\n",
      "|             0|       1.0|[0.33333333333333...|\n",
      "|             0|       0.0|[0.99863991839510...|\n",
      "|             0|       0.0|[0.86363636363636...|\n",
      "|             0|       0.0|           [1.0,0.0]|\n",
      "|             0|       0.0|[0.86363636363636...|\n",
      "|             0|       0.0|[0.99863991839510...|\n",
      "|             0|       0.0|           [1.0,0.0]|\n",
      "|             0|       0.0|[0.96587030716723...|\n",
      "|             0|       0.0|[0.99863991839510...|\n",
      "|             0|       0.0|[0.96587030716723...|\n",
      "|             0|       0.0|           [1.0,0.0]|\n",
      "|             0|       0.0|           [1.0,0.0]|\n",
      "|             0|       0.0|[0.92592592592592...|\n",
      "|             0|       0.0|[0.99863991839510...|\n",
      "|             0|       0.0|[0.96587030716723...|\n",
      "|             0|       0.0|           [1.0,0.0]|\n",
      "|             0|       1.0|           [0.4,0.6]|\n",
      "+--------------+----------+--------------------+\n",
      "only showing top 20 rows\n",
      "\n"
     ]
    },
    {
     "name": "stderr",
     "output_type": "stream",
     "text": [
      "\r",
      "                                                                                \r"
     ]
    }
   ],
   "source": [
    "predictions.select(\"Attrition_Flag\", \"prediction\", \"probability\").show()"
   ]
  },
  {
   "cell_type": "code",
   "execution_count": 176,
   "id": "c63c269c",
   "metadata": {},
   "outputs": [
    {
     "name": "stderr",
     "output_type": "stream",
     "text": [
      "                                                                                \r"
     ]
    },
    {
     "data": {
      "image/png": "[encoded data removed]",
      "text/plain": [
       "<Figure size 800x600 with 2 Axes>"
      ]
     },
     "metadata": {},
     "output_type": "display_data"
    }
   ],
   "source": [
    "import matplotlib.pyplot as plt\n",
    "import seaborn as sns\n",
    "from sklearn.metrics import confusion_matrix\n",
    "\n",
    "y_true = predictions.select(\"Attrition_Flag\").rdd.flatMap(lambda x: x).collect()\n",
    "y_pred = predictions.select(\"prediction\").rdd.flatMap(lambda x: x).collect()\n",
    "\n",
    "# Get the confusion matrix\n",
    "cm = confusion_matrix(y_true, y_pred)\n",
    "\n",
    "# Visualize the confusion matrix using seaborn\n",
    "plt.figure(figsize=(8,6))\n",
    "sns.heatmap(cm, annot=True, fmt=\"d\", cmap=\"Blues\", \n",
    "            xticklabels=['Not Churn', 'Churn'],\n",
    "            yticklabels=['Not Churn', 'Churn'])\n",
    "plt.xlabel('Predicted Label')\n",
    "plt.ylabel('True Label')\n",
    "plt.title('Confusion Matrix')\n",
    "plt.show()"
   ]
  },
  {
   "cell_type": "code",
   "execution_count": 178,
   "id": "48d7854f",
   "metadata": {},
   "outputs": [
    {
     "name": "stderr",
     "output_type": "stream",
     "text": [
      "                                                                                \r"
     ]
    },
    {
     "data": {
      "image/png": "[encoded data removed]",
      "text/plain": [
       "<Figure size 800x600 with 1 Axes>"
      ]
     },
     "metadata": {},
     "output_type": "display_data"
    }
   ],
   "source": [
    "import matplotlib.pyplot as plt\n",
    "from sklearn.metrics import roc_curve, auc\n",
    "\n",
    "# First, we need to extract the probability of the positive class from the predictions\n",
    "# Assuming your 'probability' column is a column of Vectors, you'd do:\n",
    "probabilities = predictions.select(\"probability\").rdd.map(lambda x: x[0][1]).collect()\n",
    "\n",
    "y_true = predictions.select(\"Attrition_Flag\").rdd.flatMap(lambda x: x).collect()\n",
    "\n",
    "# Calculate ROC\n",
    "roc_auc = binary_evaluator.evaluate(predictions)\n",
    "\n",
    "# Plot\n",
    "plt.figure(figsize=(8,6))\n",
    "lw = 2\n",
    "plt.plot(fpr, tpr, color='darkorange', lw=lw, label='ROC curve (area = %0.2f)' % roc_auc)\n",
    "plt.plot([0, 1], [0, 1], color='navy', lw=lw, linestyle='--')\n",
    "plt.xlim([0.0, 1.0])\n",
    "plt.ylim([0.0, 1.05])\n",
    "plt.xlabel('False Positive Rate')\n",
    "plt.ylabel('True Positive Rate')\n",
    "plt.title('Receiver Operating Characteristic (ROC)')\n",
    "plt.legend(loc=\"lower right\")\n",
    "plt.show()"
   ]
  },
  {
   "cell_type": "code",
   "execution_count": 189,
   "id": "9beb164b",
   "metadata": {},
   "outputs": [],
   "source": [
    "from pyspark.ml.classification import DecisionTreeClassificationModel\n",
    "from pyspark.ml import PipelineModel\n",
    "\n",
    "tree_model = best_model.stages[-1] if isinstance(best_model, PipelineModel) else best_model\n",
    "\n",
    "# Get the tree's logic/rules\n",
    "tree_rules = tree_model.toDebugString\n",
    "\n",
    "feature_names = indexed_df.columns\n",
    "\n",
    "# Replace \"feature i\" with the actual column name\n",
    "for i, feature_name in enumerate(feature_names):\n",
    "    tree_rules = tree_rules.replace(f\"feature {i}\", feature_name)\n",
    "\n",
    "# Save to a text file\n",
    "with open(\"decision_tree_rules1.txt\", \"w\") as file:\n",
    "    file.write(tree_rules)"
   ]
  },
  {
   "cell_type": "code",
   "execution_count": null,
   "id": "2dc88691",
   "metadata": {},
   "outputs": [],
   "source": []
  }
 ],
 "metadata": {
  "kernelspec": {
   "display_name": "Python 3 (ipykernel)",
   "language": "python",
   "name": "python3"
  },
  "language_info": {
   "codemirror_mode": {
    "name": "ipython",
    "version": 3
   },
   "file_extension": ".py",
   "mimetype": "text/x-python",
   "name": "python",
   "nbconvert_exporter": "python",
   "pygments_lexer": "ipython3",
   "version": "3.11.4"
  }
 },
 "nbformat": 4,
 "nbformat_minor": 5
}
